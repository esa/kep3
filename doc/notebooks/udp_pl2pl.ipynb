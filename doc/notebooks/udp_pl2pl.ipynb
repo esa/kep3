{
 "cells": [
  {
   "cell_type": "markdown",
   "metadata": {},
   "source": [
    "# Planet to planet low-thrust\n",
    "\n",
    "In this tutorial we show the use of the {class}`pykep.trajopt.direct_pl2pl` to find a low-thrust trajectory connecting two moving planets. \n",
    "\n",
    "The decision vector for this class, compatible with pygmo {cite:p}`pagmo` UDPs (User Defined Problems), is:\n",
    "\n",
    "$$\n",
    "\\mathbf x = [t_0, m_f, V_{sx}^\\infty, V^\\infty_{sy}, V^\\infty_{sz}, V^\\infty_{fx}, V^\\infty_{fy}, V^\\infty_{fz}, u_{x0}, u_{y0}, u_{z0}, u_{x1}, u_{y1}, u_{z1}, ..., T_{tof}]\n",
    "$$\n",
    "\n",
    "containing the starting epoch $t_0$ as a MJD2000, the final mass $m_f$ as well as the starting and final $V^{\\infty}$, throttles and the time-of-flight $T_{tof}$.\n",
    "\n",
    ":::{note}\n",
    "This notebook makes use of the commercial solver SNOPT 7 and to run needs a valid `snopt_7_c` library installed in the system. In case SNOPT7 is not available, you can still run the notebook using, for example `uda = pg.algorithm.nlopt(\"slsqp\")` with minor modifications."
   ]
  },
  {
   "cell_type": "markdown",
   "metadata": {},
   "source": [
    "Basic imports:"
   ]
  },
  {
   "cell_type": "code",
   "execution_count": 1,
   "metadata": {},
   "outputs": [],
   "source": [
    "import pykep as pk\n",
    "import numpy as np\n",
    "import time\n",
    "import pygmo as pg\n",
    "import pygmo_plugins_nonfree as ppnf\n",
    "import time\n",
    "\n",
    "from matplotlib import pyplot as plt"
   ]
  },
  {
   "cell_type": "markdown",
   "metadata": {},
   "source": [
    "We start defining the problem data."
   ]
  },
  {
   "cell_type": "code",
   "execution_count": 2,
   "metadata": {},
   "outputs": [],
   "source": [
    "# Problem data\n",
    "mu = pk.MU_SUN\n",
    "max_thrust = 0.3\n",
    "isp = 3000\n",
    "\n",
    "# Source and destination planets\n",
    "earth = pk.planet_to_keplerian(\n",
    "    pk.planet(pk.udpla.jpl_lp(body=\"EARTH\")), when=pk.epoch(5000)\n",
    ")\n",
    "\n",
    "mars = pk.planet_to_keplerian(\n",
    "    pk.planet(pk.udpla.jpl_lp(body=\"MARS\")), when=pk.epoch(5000)\n",
    ")\n",
    "\n",
    "venus = pk.planet_to_keplerian(\n",
    "    pk.planet(pk.udpla.jpl_lp(body=\"venus\")), when=pk.epoch(5000)\n",
    ")\n",
    "\n",
    "p1 = pk.planet(pk.udpla.keplerian(elem=[pk.AU, 0.1,0.1,0.,0.,0.], when=pk.epoch(0), mu_central_body=pk.MU_SUN))\n",
    "p2 = pk.planet(pk.udpla.keplerian(elem=[pk.AU*1.1, 0.03,0.1,1.5,1.,3.], when=pk.epoch(0), mu_central_body=pk.MU_SUN))\n",
    "\n",
    "# Initial state\n",
    "ms = 1500.0\n",
    "\n",
    "# Number of segments\n",
    "nseg = 2"
   ]
  },
  {
   "cell_type": "markdown",
   "metadata": {},
   "source": [
    "We here instantiate two different versions of the same UDP (User Defined Problem), with analytical gradients and without. \n",
    "\n",
    "For the purpose of this simple notebook we choose a relatively simple Earth to Mars transfer with an initial $V_{\\infty}$ of 3 km/s."
   ]
  },
  {
   "cell_type": "code",
   "execution_count": 3,
   "metadata": {},
   "outputs": [],
   "source": [
    "udp_nog = pk.trajopt.direct_pl2pl(\n",
    "        pls=earth,\n",
    "        plf=mars,\n",
    "        ms=ms,\n",
    "        mu=pk.MU_SUN,\n",
    "        max_thrust=max_thrust,\n",
    "        veff=3000*pk.G0,\n",
    "        t0_bounds=[6700.0, 6800.0],\n",
    "        tof_bounds=[100.0, 200.0],\n",
    "        mf_bounds=[1300., ms],\n",
    "        vinfs=0.,\n",
    "        vinff=0.,\n",
    "        nseg=nseg,\n",
    "        cut=0.6,\n",
    "        mass_scaling=ms,\n",
    "        r_scaling=pk.AU,\n",
    "        v_scaling=pk.EARTH_VELOCITY,\n",
    "        with_gradient=False,\n",
    ")\n",
    "\n",
    "udp_g = pk.trajopt.direct_pl2pl(\n",
    "        pls=p1,\n",
    "        plf=p2,\n",
    "        ms=ms,\n",
    "        mu=pk.MU_SUN,\n",
    "        max_thrust=0.6,\n",
    "        veff=3000*pk.G0,\n",
    "        t0_bounds=[7360, 8300.0],\n",
    "        tof_bounds=[100.0, 250.0],\n",
    "        mf_bounds=[1000., ms],\n",
    "        vinfs=0.,\n",
    "        vinff=0.,\n",
    "        nseg=nseg,\n",
    "        cut=0.6,\n",
    "        mass_scaling=ms,\n",
    "        r_scaling=pk.AU,\n",
    "        v_scaling=pk.EARTH_VELOCITY,\n",
    "        with_gradient=True,\n",
    ")"
   ]
  },
  {
   "cell_type": "markdown",
   "metadata": {},
   "source": [
    "## Analytical performances of the analytical gradient\n",
    "\n",
    "And we take a quick look at the performances of the analytical gradient with respect to the numerically computed one."
   ]
  },
  {
   "cell_type": "code",
   "execution_count": 4,
   "metadata": {},
   "outputs": [],
   "source": [
    "# We need to generste a random chromosomes compatible with the UDP where to test the gradient.\n",
    "prob_g = pg.problem(udp_g)\n",
    "pop_g = pg.population(prob_g, 1)"
   ]
  },
  {
   "cell_type": "code",
   "execution_count": 5,
   "metadata": {},
   "outputs": [
    {
     "name": "stdout",
     "output_type": "stream",
     "text": [
      "\n",
      "diff_bool True\n",
      "len J 12\n",
      "len x 15\n",
      "shape(diff) (12, 15)\n",
      "‖diff‖: 0.00114942029782\n"
     ]
    }
   ],
   "source": [
    "# Check gradientss\n",
    "# Analytical\n",
    "an_grad = udp_g.gradient(pop_g.champion_x)\n",
    "# Numerical\n",
    "num_grad = pg.estimate_gradient_h(udp_g.fitness, pop_g.champion_x, dx=1e-12)\n",
    "\n",
    "# Suppose sparsity gives the positions (flat indices in num_grad)\n",
    "sparsity = udp_g.gradient_sparsity()  # e.g. [0, 3, 10, ...]\n",
    "\n",
    "# Make an empty dense gradient\n",
    "dim = int(9+3*nseg)\n",
    "dense_ana_grad = np.zeros_like(num_grad).reshape(int(len(num_grad)/dim),dim)\n",
    "num_grad = num_grad.reshape(int(len(num_grad)/dim),dim)\n",
    "\n",
    "# Fill in analytical entries at the right positions\n",
    "for jj in range(len(an_grad)):\n",
    "    dense_ana_grad[sparsity[jj][0], sparsity[jj][1]] = an_grad[jj]\n",
    "    diff_tmp = abs(dense_ana_grad[sparsity[jj][0], sparsity[jj][1]] - num_grad[sparsity[jj][0], sparsity[jj][1]])\n",
    "    if diff_tmp > 1e-3:\n",
    "        print('sparsity[jj]',sparsity[jj] , 'analytical', dense_ana_grad[sparsity[jj][0], sparsity[jj][1]],'numerical', num_grad[sparsity[jj][0], sparsity[jj][1]],'diff',diff_tmp)\n",
    "# dense_ana_grad = dense_ana_grad.reshape(-1)\n",
    "# num_grad = num_grad.reshape(-1)\n",
    "\n",
    "# Now you can compare\n",
    "diff_bool = np.allclose(num_grad, dense_ana_grad, atol=1e-3, rtol=1e-3)\n",
    "diff = num_grad - dense_ana_grad\n",
    "# print('Analytical', dense_ana_grad)\n",
    "# print('Numerical', num_grad)\n",
    "print('')\n",
    "print('diff_bool', diff_bool)\n",
    "print('len J', 10 + nseg)\n",
    "print('len x', 9 + 3*nseg)\n",
    "print('shape(diff)', np.shape(diff))\n",
    "print(\"‖diff‖:\", np.linalg.norm(diff))"
   ]
  },
  {
   "cell_type": "code",
   "execution_count": 6,
   "metadata": {},
   "outputs": [
    {
     "ename": "NameError",
     "evalue": "name 'xxx' is not defined",
     "output_type": "error",
     "traceback": [
      "\u001b[31m---------------------------------------------------------------------------\u001b[39m",
      "\u001b[31mNameError\u001b[39m                                 Traceback (most recent call last)",
      "\u001b[36mCell\u001b[39m\u001b[36m \u001b[39m\u001b[32mIn[6]\u001b[39m\u001b[32m, line 1\u001b[39m\n\u001b[32m----> \u001b[39m\u001b[32m1\u001b[39m \u001b[43mxxx\u001b[49m\n",
      "\u001b[31mNameError\u001b[39m: name 'xxx' is not defined"
     ]
    }
   ],
   "source": [
    "xxx"
   ]
  },
  {
   "cell_type": "markdown",
   "metadata": {},
   "source": [
    "First the analytical gradient:"
   ]
  },
  {
   "cell_type": "code",
   "execution_count": null,
   "metadata": {},
   "outputs": [],
   "source": [
    "%%timeit\n",
    "udp_g.gradient(pop_g.champion_x)"
   ]
  },
  {
   "cell_type": "markdown",
   "metadata": {},
   "source": [
    "Then a simple numerical gradient based on finite differences:"
   ]
  },
  {
   "cell_type": "code",
   "execution_count": null,
   "metadata": {},
   "outputs": [],
   "source": [
    "%%timeit\n",
    "pg.estimate_gradient(udp_g.fitness, pop_g.champion_x)"
   ]
  },
  {
   "cell_type": "markdown",
   "metadata": {},
   "source": [
    "Then a higher order numerical gradient:"
   ]
  },
  {
   "cell_type": "code",
   "execution_count": null,
   "metadata": {},
   "outputs": [],
   "source": [
    "%%timeit\n",
    "pg.estimate_gradient_h(udp_g.fitness, pop_g.champion_x)"
   ]
  },
  {
   "cell_type": "markdown",
   "metadata": {},
   "source": [
    "The analytical gradient its exact and faster, seems like a no brainer to use it. \n",
    "\n",
    "In reality, the effects on the optimization technique used are not straightforward, making the option to use numerical gradients still interesting in some, albeit rare, cases."
   ]
  },
  {
   "cell_type": "markdown",
   "metadata": {},
   "source": [
    "## Solving the low-thrust transfer\n",
    "\n",
    "We define (again) the optimization problem, and set a tolerance for *pagmo* to be able to judge the relative value of two individuals. \n",
    "\n",
    ":::{note}\n",
    "This tolerance has a different role from the numerical tolerance set in the particular algorithm chosen to solve the problem and is only used by the *pagmo* machinery to decide outside the optimizer whether the new proposed indivdual is better than what was the previous *champion*."
   ]
  },
  {
   "cell_type": "code",
   "execution_count": null,
   "metadata": {},
   "outputs": [],
   "source": [
    "prob_g = pg.problem(udp_g)\n",
    "prob_g.c_tol = 1e-6"
   ]
  },
  {
   "cell_type": "markdown",
   "metadata": {},
   "source": [
    "... and we define an optimization algorithm."
   ]
  },
  {
   "cell_type": "code",
   "execution_count": null,
   "metadata": {},
   "outputs": [],
   "source": [
    "snopt72 = \"/Users/dario.izzo/opt/libsnopt7_c.dylib\"\n",
    "uda = ppnf.snopt7(library=snopt72, minor_version=2, screen_output=False)\n",
    "uda.set_integer_option(\"Major iterations limit\", 2000)\n",
    "uda.set_integer_option(\"Iterations limit\", 20000)\n",
    "uda.set_numeric_option(\"Major optimality tolerance\", 1e-3)\n",
    "uda.set_numeric_option(\"Major feasibility tolerance\", 1e-11)\n",
    "\n",
    "#uda = pg.nlopt(\"slsqp\")\n",
    "algo = pg.algorithm(uda)"
   ]
  },
  {
   "cell_type": "markdown",
   "metadata": {},
   "source": [
    "We solve the problem from random initial guess ten times and only save the result if a feasible solution is found (as defined by the criterias above)"
   ]
  },
  {
   "cell_type": "code",
   "execution_count": null,
   "metadata": {},
   "outputs": [],
   "source": [
    "masses = []\n",
    "xs = []\n",
    "for i in range(10):\n",
    "    pop_g = pg.population(prob_g, 1)\n",
    "    pop_g = algo.evolve(pop_g)\n",
    "    if(prob_g.feasibility_f(pop_g.champion_f)):\n",
    "        print(\".\", end=\"\")\n",
    "        masses.append(pop_g.champion_x[1])\n",
    "        xs.append(pop_g.champion_x)\n",
    "    else:\n",
    "        print(\"x\", end =\"\")\n",
    "print(\"\\nBest mass is: \", np.max(masses))\n",
    "print(\"Worst mass is: \", np.min(masses))\n",
    "best_idx = np.argmax(masses)"
   ]
  },
  {
   "cell_type": "markdown",
   "metadata": {},
   "source": [
    "And we plot the trajectory found:"
   ]
  },
  {
   "cell_type": "code",
   "execution_count": null,
   "metadata": {},
   "outputs": [],
   "source": [
    "udp_g.pretty(xs[best_idx])"
   ]
  },
  {
   "cell_type": "code",
   "execution_count": null,
   "metadata": {},
   "outputs": [],
   "source": [
    "ax = udp_g.plot(xs[best_idx], show_gridpoints=True)\n",
    "ax.view_init(90, 0)"
   ]
  },
  {
   "cell_type": "code",
   "execution_count": null,
   "metadata": {},
   "outputs": [],
   "source": [
    "t0 = xs[best_idx][0]\n",
    "tof = xs[best_idx][-1]\n",
    "p1.eph(t0)\n"
   ]
  },
  {
   "cell_type": "code",
   "execution_count": null,
   "metadata": {},
   "outputs": [],
   "source": [
    "p2.eph(t0+tof)"
   ]
  },
  {
   "cell_type": "markdown",
   "metadata": {},
   "source": [
    "## Graident vs no gradient\n",
    "We here take a look at the difference in solving the problem using the analytical gradient and not using it.\n",
    "To do so we solve the same problem starting from 100 different initial guesses using both versions and compare."
   ]
  },
  {
   "cell_type": "code",
   "execution_count": null,
   "metadata": {},
   "outputs": [],
   "source": [
    "from tqdm import tqdm\n",
    "\n",
    "cpu_nog = []\n",
    "cpu_g = []\n",
    "\n",
    "fail_g = 0\n",
    "fail_nog = 0\n",
    "\n",
    "prob_g = pg.problem(udp_g)\n",
    "prob_nog = pg.problem(udp_nog)\n",
    "prob_g.c_tol = 1e-6\n",
    "prob_nog.c_tol = 1e-6\n",
    "\n",
    "for i in tqdm(range(100)):\n",
    "    pop_g = pg.population(prob_g, 1)\n",
    "    pop_nog = pg.population(prob_nog)\n",
    "    pop_nog.push_back(pop_g.champion_x)\n",
    "\n",
    "    start = time.time()\n",
    "    pop_g = algo.evolve(pop_g)\n",
    "    end = time.time()\n",
    "    if not prob_g.feasibility_f(pop_g.champion_f):\n",
    "        fail_g += 1\n",
    "    else: # We only record the time for successfull attempts\n",
    "        cpu_g.append(end - start)\n",
    "\n",
    "    start = time.time()\n",
    "    pop_nog = algo.evolve(pop_nog)\n",
    "    end = time.time()\n",
    "    if not prob_nog.feasibility_f(pop_nog.champion_f):\n",
    "        fail_nog += 1\n",
    "    else: # We only record the time for successfull attempts\n",
    "        cpu_nog.append(end - start)\n",
    "\n",
    "print(f\"Gradient: {np.median(cpu_g):.4e}s\")\n",
    "print(f\"No Gradient: {np.median(cpu_nog):.4e}s\")\n",
    "\n",
    "print(f\"\\nGradient (n.fails): {fail_g}\")\n",
    "print(f\"No Gradient (n.fails): {fail_nog}\")"
   ]
  },
  {
   "cell_type": "code",
   "execution_count": null,
   "metadata": {},
   "outputs": [],
   "source": [
    "cpu_g = np.array(cpu_g)\n",
    "cpu_nog = np.array(cpu_nog)\n",
    "plt.hist(cpu_g[cpu_g < 2.2], bins=20, label=\"gradient\", density=True, alpha=0.5)\n",
    "plt.hist(cpu_nog[cpu_nog < 1.2], bins=20, label=\"no_gradient\", density=True, alpha=0.5)\n",
    "# plt.xlim([0,0.15])\n",
    "plt.legend()\n",
    "plt.title(\"point2point, 4 seg case\")\n",
    "plt.xlabel(\"CPU time\")\n",
    "plt.ylabel(\"N. occurrences\")"
   ]
  }
 ],
 "metadata": {
  "kernelspec": {
   "display_name": "kep3_devel",
   "language": "python",
   "name": "python3"
  },
  "language_info": {
   "codemirror_mode": {
    "name": "ipython",
    "version": 3
   },
   "file_extension": ".py",
   "mimetype": "text/x-python",
   "name": "python",
   "nbconvert_exporter": "python",
   "pygments_lexer": "ipython3",
   "version": "3.13.7"
  },
  "orig_nbformat": 4
 },
 "nbformat": 4,
 "nbformat_minor": 2
}
