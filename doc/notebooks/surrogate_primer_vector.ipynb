{
 "cells": [
  {
   "cell_type": "markdown",
   "metadata": {},
   "source": [
    "# Surrogate Primer Vector \n",
    "\n",
    "In this notebook we extend the theory outlined in the notebook on the [primer vector](<./primer_vector.ipynb>) to the case where we are adding simultaneously two impulses\n",
    "to a trajectory where we can control one single existing impulse (as opposed to the original case where one adds only one impulse in a trajectory where two can be controlled).\n",
    "\n",
    "While the developments are similar, please note that the index $k$ was before reserved to indicate the only node (of three, ijk) where no finite impulse was given. In this developments it indicates, instead, the only node (of three, ijk) where a finite impulse is given.\n",
    "\n",
    "The developments as well as the test case used are taken from the work from Bauregard, Acciarini and Izzo {cite:p}`beauregard`."
   ]
  },
  {
   "cell_type": "markdown",
   "metadata": {},
   "source": [
    "  ## Theory and notation\n",
    "\n",
    "  ------------\n",
    "\n",
    "  a) Consider the following definition of the State Transition Matrix, $\\mathbf M_{fs}$:\n",
    "\n",
    "  $$\n",
    "  \\mathbf M_{fs} := \\frac{\\partial \\mathbf x_{f}}{\\partial \\mathbf x_{s}}\n",
    "  $$\n",
    "\n",
    "  Note how this definition does not depend on the dynamics. The STM allows to describe variations of the (final) state at $f$ as:\n",
    "\n",
    "  $$\n",
    "  \\delta\\mathbf x_f = \\mathbf M_{fs} \\delta \\mathbf x_s\n",
    "  $$\n",
    "\n",
    "  We also make use of the following definitions for the various blocks of the STM:\n",
    "\n",
    "  $$\n",
    "  \\mathbf M = \\left[ \n",
    "  \\begin{array}{c|c} \n",
    "    \\mathbf M^{rr} & \\mathbf M^{rv} \\\\ \n",
    "    \\hline \n",
    "    \\mathbf M^{vr} & \\mathbf M^{vv} \n",
    "  \\end{array} \n",
    "  \\right] \n",
    "  = \\left[ \n",
    "  \\begin{array}{c|c} \n",
    "    \\mathbf M^{xr} & \\mathbf M^{xv} \n",
    "  \\end{array} \n",
    "  \\right] \n",
    "  = \\left[ \n",
    "  \\begin{array}{c} \n",
    "    \\mathbf M^{rx} \\\\\n",
    "    \\hline \n",
    "    \\mathbf M^{vx} \n",
    "  \\end{array} \n",
    "  \\right] \n",
    "  $$"
   ]
  },
  {
   "cell_type": "markdown",
   "metadata": {},
   "source": [
    "---------------\n",
    "\n",
    "b) Assume now to have a grid of $N$ points along a multiple impulse trajectory and pick three indexes $i,j,k$. \n",
    "\n",
    "We ask the following question: what happens when we add three small $\\delta\\Delta V$ at the selected nodes?\n",
    "\n",
    "To answer this question, we compute the variation of the final state due to intermidiate variations at the nodes using the STMs:\n",
    "\n",
    "$$\n",
    "\\delta \\mathbf x_f = \\mathbf M_{fi}\\delta\\mathbf x_i + \\mathbf M_{fj}\\delta\\mathbf x_j + \\mathbf M_{fk}\\delta\\mathbf x_k\n",
    "$$\n",
    "\n",
    "which we set to zero, as we do not want the trajectory boundary cnstraints to change, only find a better $\\Delta V$:\n",
    "\n",
    "$$\n",
    "\\mathbf 0 = \\mathbf M_{fi}\\delta\\mathbf x_i + \\mathbf M_{fj}\\delta\\mathbf x_j + \\mathbf M_{fk}\\delta\\mathbf x_k\n",
    "$$\n",
    "\n",
    "which becomes (multiplying by $\\mathbf M_{kf}$):\n",
    "\n",
    "$$\n",
    "\\mathbf M_{ki}\\delta\\mathbf x_i + \\mathbf M_{kj}\\delta\\mathbf x_j + \\delta\\mathbf x_k = \\mathbf 0\n",
    "$$\n",
    "\n",
    "Note that, with respect to the derivations for the primer vector, we have now changed the reference node to $k$ for convenience."
   ]
  },
  {
   "cell_type": "markdown",
   "metadata": {},
   "source": [
    "-----------\n",
    "\n",
    "c) The state variations $\\delta\\mathbf x$ are, in our case, consequence of three $\\delta\\Delta \\mathbf V$, so that the previous equations becomes:\n",
    "\n",
    "$$\n",
    "\\begin{align}\n",
    "\\mathbf M_i^{rv} \\delta\\Delta \\mathbf V_i + \\mathbf M_j^{rv} \\delta\\Delta \\mathbf V_j = \\mathbf 0\\\\\n",
    "\\mathbf M_i^{vv} \\delta\\Delta \\mathbf V_i + \\mathbf M_j^{vv} \\delta\\Delta \\mathbf V_j + \\delta\\Delta \\mathbf V_k = \\mathbf 0\\\\\n",
    "\\end{align}\n",
    "$$\n",
    "\n",
    "solving for $\\delta\\Delta \\mathbf V_i$ and $\\delta\\Delta \\mathbf V_k$ (as a function of $j$ where one of the added impulses is present):\n",
    "\n",
    "$$\n",
    "\\begin{align}\n",
    "\\delta\\Delta \\mathbf V_i &=& - (\\mathbf M_i^{rv})^{-1}\\mathbf M_j^{rv} \\delta\\Delta \\mathbf V_j = \\mathbf A_{ij}\\delta\\Delta \\mathbf V_j\\\\\n",
    "\\delta\\Delta \\mathbf V_k &=& - \\big(\\mathbf M_i^{vv}\\mathbf A_{ij} + \\mathbf M_j^{vv} \\big)  \\delta\\Delta \\mathbf V_j = \\mathbf A_{kj}\\delta\\Delta \\mathbf V_j\\\\\n",
    "\\end{align}\n",
    "$$\n",
    "\n",
    "The matrices $\\mathbf A$ are telling us how the three variations of impulsive velocity changes applied in ($i$, $j$, $k$) must be related for the overall trajectory to not change its boundary conditions (i.e. $\\mathbf x_f = \\mathbf 0$).\n",
    "\n",
    "Note here that we chose to use the index $j$ as reference as we relate all others $\\delta\\Delta V$ to $\\delta\\Delta V_j$. It convenient to keep the chosen index as the one where no finite impulse is present.\n"
   ]
  },
  {
   "cell_type": "markdown",
   "metadata": {},
   "source": [
    "_____________\n",
    "\n",
    "d) So far the three indexes we picked (i.e. $i,j,k$) were equivalent, now we assume that in $i,j$ no finite $\\Delta V$ is present. In $k$, instead, an additional $\\Delta \\mathbf V$ will exist.\n",
    "\n",
    "The total magnitude of the $\\Delta \\mathbf V$ can then be expressed by:\n",
    "\n",
    "$$\n",
    "J = \\Delta V_{tot} = \\underbrace{|\\mathbf V_k + \\delta\\Delta \\mathbf V_k |}_{\\text{finite impulse}} + \\underbrace{|\\delta\\Delta \\mathbf V_i| + |\\delta\\Delta \\mathbf V_j|}_{\\text{infinitesimal}}\n",
    "$$\n",
    "\n",
    "and its first order variation:\n",
    "\n",
    "$$\n",
    "\\delta J = \\frac{\\Delta\\mathbf V_k}{|\\Delta \\mathbf V_k|}\\cdot \\delta\\Delta \\mathbf V_k + |\\delta\\Delta \\mathbf V_i| + |\\delta\\Delta \\mathbf V_j|\n",
    "$$\n"
   ]
  },
  {
   "cell_type": "markdown",
   "metadata": {},
   "source": [
    "---------\n",
    "\n",
    "e) The surrogate primer vector\n",
    "\n",
    "We introduce $\\hat{\\mathbf u} = \\frac{\\delta \\Delta \\mathbf V_j}{|\\delta \\Delta \\mathbf V_j|}$ as the unit vector along the direction\n",
    "of the infinitesimal $\\delta \\Delta V$ added in our reference node $j$. \n",
    "\n",
    "Substituting and regrouping we have:\n",
    "\n",
    "$$\n",
    "\\delta J = |\\delta\\Delta \\mathbf V_j| \\left(1 +\\mathbf A_{kj}^T\\frac{\\Delta\\mathbf V_k}{|\\Delta \\mathbf V_k|} \\cdot \\hat {\\mathbf u}\n",
    "  + |\\mathbf A_{ij}\\hat {\\mathbf u}|  \\right)\n",
    "$$\n",
    "\n",
    "which we rewrite and rearrange as:\n",
    "\n",
    "$$\n",
    "\\delta J = |\\delta\\Delta \\mathbf V_j| \\left(1 - (\\mathbf b \\cdot \\hat {\\mathbf u} - |\\mathbf B\\hat {\\mathbf u}|  \\right)\n",
    "$$\n",
    "\n",
    "where $\\mathbf B:=\\mathbf A_{ij}$, $\\mathbf b = -\\mathbf A_{kj}^T\\frac{\\Delta\\mathbf V_k}{|\\Delta \\mathbf V_k|}$.\n",
    "\n",
    "We now introduce the vectors:\n",
    "$$\n",
    "\\boxed{\\hat {\\mathbf u}^* = \\argmax_{|\\hat {\\mathbf u}|=1}\\left(\\mathbf b\\cdot \\hat {\\mathbf u} - |\\mathbf B\\hat {\\mathbf u}|\\right)}\n",
    "$$\n",
    "and,\n",
    "$$\n",
    "\\boxed{\\tilde{\\mathbf p} = (\\mathbf b \\cdot \\hat {\\mathbf u}^* - |\\mathbf B\\hat {\\mathbf u}^*| ) \\hat {\\mathbf u}^*}\n",
    "$$\n",
    "\n",
    "which we call **surrogate primer vector**, since $\\delta J = (1-|\\tilde{\\mathbf p}|) |\\delta\\Delta \\mathbf V_j|$ as in the \n",
    "classical case where the **primer vector** $\\mathbf p$ is introduced.\n",
    "\n",
    "From the expression of $\\delta J$ it appears clear that if we want to be able to decrease the overall $\\Delta V$ adding in $i,j$ two\n",
    "impulses, it is necessary for the norm of the surrogate primer vector (computed in $i,j$) to be larger than 1."
   ]
  },
  {
   "cell_type": "markdown",
   "metadata": {},
   "source": [
    "Enough of that, let us start coding now ..."
   ]
  },
  {
   "cell_type": "code",
   "execution_count": 1,
   "metadata": {},
   "outputs": [],
   "source": [
    "import pykep as pk\n",
    "import numpy as np\n",
    "\n",
    "np.set_printoptions(legacy=\"1.25\")\n",
    "import matplotlib.pyplot as plt"
   ]
  },
  {
   "cell_type": "markdown",
   "metadata": {},
   "source": [
    "Let us define a toy problem. In the Keplerian dynamics, we define the following trajectory "
   ]
  },
  {
   "cell_type": "code",
   "execution_count": 2,
   "metadata": {},
   "outputs": [],
   "source": [
    "# Problem data\n",
    "n_points = 50\n",
    "r0 = np.array([1., 0., 0.])\n",
    "v0 = np.array([0., 1., 0.])\n",
    "DVk = np.array([0.6, -0.2, 0.])\n",
    "t_grid = np.linspace(0, 4*np.pi, n_points)\n",
    "\n",
    "# DV is applied at the end\n",
    "idx_k=n_points-1\n",
    "\n",
    "# We first work out the surrogate primer vector for the following j,k\n",
    "idx_i = 10\n",
    "idx_j = 20"
   ]
  },
  {
   "cell_type": "markdown",
   "metadata": {},
   "source": [
    "Since the grid is uniform, and the DV is aplied at the end, we can compute all STMs in a single propagation."
   ]
  },
  {
   "cell_type": "code",
   "execution_count": 3,
   "metadata": {},
   "outputs": [],
   "source": [
    "retval = pk.propagate_lagrangian_grid([r0, v0], t_grid, mu=1., stm=True)\n",
    "#retval1 = pk.propagate_lagrangian_grid(retval[0][0], np.flip(t_grid), mu=1., stm=True)\n",
    "#retval1.reverse()\n",
    "stm_n0 = [it[1] for it in retval] # Mn0"
   ]
  },
  {
   "cell_type": "markdown",
   "metadata": {},
   "source": [
    "We may now loop over all possible positions for the indexes $i,j$ and compute the *surrogate primer vector* at each point."
   ]
  },
  {
   "cell_type": "code",
   "execution_count": 4,
   "metadata": {},
   "outputs": [],
   "source": [
    "norm_surrogate_p = np.ones((n_points, n_points))\n",
    "p = np.ones((n_points,n_points))\n",
    "for idx_i in range(n_points):\n",
    "    Mk0 = stm_n0[idx_k]\n",
    "    if idx_i==idx_k:\n",
    "            continue\n",
    "    Mki = Mk0@np.linalg.inv(stm_n0[idx_i]) # Mki = Mk0*M0i\n",
    "    for idx_j in range(idx_i+1,n_points):\n",
    "        if idx_j==idx_k:\n",
    "            continue\n",
    "        Mkj = Mk0@np.linalg.inv(stm_n0[idx_j]) # Mkj = Mk0*M0j\n",
    "        norm_surrogate_p[idx_j, idx_i] = np.linalg.norm(pk.trajopt.primer_vector_surrogate(DVk, Mki, Mkj)[0])\n",
    "        norm_surrogate_p[idx_i, idx_j] = -np.inf"
   ]
  },
  {
   "cell_type": "markdown",
   "metadata": {},
   "source": [
    "Lets see what is its maximum value:"
   ]
  },
  {
   "cell_type": "code",
   "execution_count": 5,
   "metadata": {},
   "outputs": [
    {
     "name": "stdout",
     "output_type": "stream",
     "text": [
      "The maximum value of the surrogate primer is attained when infinitesimal impulses are added at:\n",
      "t1: 7.6937  and t2: 4.8727\n",
      "Its norm is: 2.7366\n",
      "Larger then one! -> Trajectory can be improved\n"
     ]
    }
   ],
   "source": [
    "idx1, idx2 = np.unravel_index(norm_surrogate_p.argmax(), norm_surrogate_p.shape)\n",
    "print(\n",
    "    f\"The maximum value of the surrogate primer is attained when infinitesimal impulses are added at:\")\n",
    "print(f\"t1: {t_grid[idx1]:.4f}  and t2: {t_grid[idx2]:.4f}\")\n",
    "print(f\"Its norm is: {np.max(norm_surrogate_p):.4f}\")\n",
    "print(f\"Larger then one! -> Trajectory can be improved\")"
   ]
  },
  {
   "cell_type": "markdown",
   "metadata": {},
   "source": [
    "Let us visualize the computed surrogate vector:"
   ]
  },
  {
   "cell_type": "code",
   "execution_count": 7,
   "metadata": {},
   "outputs": [
    {
     "data": {
      "text/plain": [
       "<matplotlib.legend.Legend at 0x16ba5bc50>"
      ]
     },
     "execution_count": 7,
     "metadata": {},
     "output_type": "execute_result"
    },
    {
     "data": {
      "image/png": "[encoded data removed]",
      "text/plain": [
       "<Figure size 500x500 with 1 Axes>"
      ]
     },
     "metadata": {},
     "output_type": "display_data"
    }
   ],
   "source": [
    "fig = plt.figure(figsize=(5,5))\n",
    "X,Y = np.meshgrid(t_grid, t_grid)\n",
    "plt.contourf(X,Y,norm_surrogate_p)\n",
    "plt.contour(X,Y,norm_surrogate_p, [1], colors='r', linestyles='solid')\n",
    "plt.savefig(\"surrogate_primer_halo.png\", dpi=600)\n",
    "plt.plot(t_grid,t_grid, 'k--', label=\"$t_1=t_2$\")\n",
    "plt.scatter(t_grid[idx2], t_grid[idx1], label=\"Highest primer\", marker=\"*\")\n",
    "plt.plot([],[], 'r', label=\"|p| = 1\")\n",
    "plt.legend(loc=\"lower right\")"
   ]
  },
  {
   "cell_type": "markdown",
   "metadata": {},
   "source": [
    "Revealing all areas where adding two impulses would improve the trajectory leaving all boundary conditions unchanged."
   ]
  },
  {
   "cell_type": "markdown",
   "metadata": {},
   "source": [
    "# But is it true?\n",
    "Where we check that the same trajectory can be improved using three impulses.\n",
    "In here we optimize a three impulse fixed time trajectory reaching identical conditions as the ones of our original trajectory.  "
   ]
  },
  {
   "cell_type": "markdown",
   "metadata": {},
   "source": []
  }
 ],
 "metadata": {
  "kernelspec": {
   "display_name": "kep3_devel",
   "language": "python",
   "name": "python3"
  },
  "language_info": {
   "codemirror_mode": {
    "name": "ipython",
    "version": 3
   },
   "file_extension": ".py",
   "mimetype": "text/x-python",
   "name": "python",
   "nbconvert_exporter": "python",
   "pygments_lexer": "ipython3",
   "version": "3.13.1"
  },
  "orig_nbformat": 4
 },
 "nbformat": 4,
 "nbformat_minor": 2
}
