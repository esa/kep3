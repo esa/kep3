{
 "cells": [
  {
   "cell_type": "markdown",
   "metadata": {},
   "source": [
    "# Revisiting the Primer Vector\n",
    "\n",
    "In this notebook we revisit the primer vector theory from Lawden from the lens of first order variations.\n",
    "\n",
    "## Theory and notation\n",
    "\n",
    "------------\n",
    "\n",
    "a) Consider the following definition of the State Transition Matrix, $\\mathbf M_{fs}$:\n",
    "\n",
    "$$\n",
    "\\mathbf M_{fs} := \\frac{\\partial \\mathbf x_{f}}{\\partial \\mathbf x_{s}}\n",
    "$$\n",
    "\n",
    "Note how this definition does not depend on the dynamics. The STM allows to describe variations of the (final) state at $f$ as:\n",
    "\n",
    "$$\n",
    "\\delta\\mathbf x_f = \\mathbf M_{fs} \\delta \\mathbf x_s\n",
    "$$\n",
    "\n",
    "We also make use of the following definitions for the various blocks of the STM:\n",
    "\n",
    "$$\n",
    "\\mathbf M = \\left[ \n",
    "\\begin{array}{c|c} \n",
    "  \\mathbf M^{rr} & \\mathbf M^{rv} \\\\ \n",
    "  \\hline \n",
    "  \\mathbf M^{vr} & \\mathbf M^{vv} \n",
    "\\end{array} \n",
    "\\right] \n",
    "= \\left[ \n",
    "\\begin{array}{c|c} \n",
    "  \\mathbf M^{xr} & \\mathbf M^{xv} \n",
    "\\end{array} \n",
    "\\right] \n",
    "= \\left[ \n",
    "\\begin{array}{c} \n",
    "  \\mathbf M^{rx} \\\\\n",
    "  \\hline \n",
    "  \\mathbf M^{vx} \n",
    "\\end{array} \n",
    "\\right] \n",
    "$$\n",
    "\n",
    "---------------\n",
    "\n",
    "b) Assume now to have a grid of $N$ points along a multiple impulse trajectory and pick three indexes $i,j,k$. \n",
    "\n",
    "We ask the following question: what happens when we add three small $\\delta\\Delta V$ at the selected nodes?\n",
    "\n",
    "To answer this question, we compute the variation of the final state due to intermidiate variations at the nodes using the STMs:\n",
    "\n",
    "$$\n",
    "\\delta \\mathbf x_f = \\mathbf M_{fi}\\delta\\mathbf x_i + \\mathbf M_{fj}\\delta\\mathbf x_j + \\mathbf M_{fk}\\delta\\mathbf x_k\n",
    "$$\n",
    "\n",
    "which we set to zero, as we do not want the trajectory boundary cnstraints to change, only find a better $\\Delta V$:\n",
    "\n",
    "$$\n",
    "\\mathbf 0 = \\mathbf M_{fi}\\delta\\mathbf x_i + \\mathbf M_{fj}\\delta\\mathbf x_j + \\mathbf M_{fk}\\delta\\mathbf x_k\n",
    "$$\n",
    "\n",
    "which becomes (multiplying by $\\mathbf M_{jf}$):\n",
    "\n",
    "$$\n",
    "\\mathbf M_{ji}\\delta\\mathbf x_i + \\mathbf M_{jk}\\delta\\mathbf x_k + \\delta\\mathbf x_j = \\mathbf 0\n",
    "$$\n",
    "\n",
    "--------------\n",
    "\n",
    "c) The state variations $\\delta\\mathbf x$ are, in our case, consequence of three $\\delta\\Delta \\mathbf V$, so that the previous equations becomes:\n",
    "\n",
    "$$\n",
    "\\begin{align}\n",
    "\\mathbf M_i^{rv} \\delta\\Delta \\mathbf V_i + \\mathbf M_k^{rv} \\delta\\Delta \\mathbf V_k = \\mathbf 0\\\\\n",
    "\\mathbf M_i^{vv} \\delta\\Delta \\mathbf V_i + \\mathbf M_k^{vv} \\delta\\Delta \\mathbf V_k + \\delta\\Delta \\mathbf V_j = \\mathbf 0\\\\\n",
    "\\end{align}\n",
    "$$\n",
    "\n",
    "which becomes:\n",
    "\n",
    "$$\n",
    "\\begin{align}\n",
    "\\delta\\Delta \\mathbf V_i &=& - (\\mathbf M_i^{rv})^{-1}\\mathbf M_k^{rv} \\delta\\Delta \\mathbf V_k = \\mathbf A_{ik}\\delta\\Delta \\mathbf V_k\\\\\n",
    "\\delta\\Delta \\mathbf V_j &=& - \\big(\\mathbf M_i^{vv}\\mathbf A_{ik} + \\mathbf M_k^{vv} \\big)  \\delta\\Delta \\mathbf V_k = \\mathbf A_{jk}\\delta\\Delta \\mathbf V_k\\\\\n",
    "\\end{align}\n",
    "$$\n",
    "\n",
    "The matrices $\\mathbf A$ are telling us how the three variations of impulsive velocity changes applied in ($i$, $j$, $k$) must be related for the overall trajectory to not change its boundary conditions (i.e. $\\mathbf x_f = \\mathbf 0$).\n",
    "\n",
    "-------------\n",
    "\n",
    "d) So far the three indexes we picked (i.e. $i,j,k$) were completely equivalent, now we assume that in $i,j$ a finite $\\Delta V$ is already present, while in $k$ only our additional $\\delta\\Delta \\mathbf V$ will be present.\n",
    "\n",
    "The total magnitude of the $\\Delta \\mathbf V$ can then be expressed by:\n",
    "\n",
    "$$\n",
    "J = \\Delta V_{tot} = |\\mathbf V_i + \\delta\\Delta \\mathbf V_i | + |\\mathbf V_j + \\delta\\Delta \\mathbf V_j | + |\\delta\\Delta \\mathbf V_k|\n",
    "$$\n",
    "\n",
    "and its first order variation:\n",
    "\n",
    "$$\n",
    "\\delta J = \\frac{\\Delta\\mathbf V_i}{|\\Delta \\mathbf V_i|}\\cdot \\delta\\Delta \\mathbf V_i + \\frac{\\Delta \\mathbf V_j}{|\\Delta \\mathbf V_j|}\\cdot \\delta\\Delta \\mathbf V_j + |\\delta\\Delta \\mathbf V_k|\n",
    "$$\n",
    "\n",
    "e) The primer vector\n",
    "\n",
    "We introduce $\\hat{\\mathbf u} = \\frac{\\delta \\Delta \\mathbf V_k}{|\\delta \\Delta \\mathbf V_k|}$ as the unit vector along the direction of the $\\delta \\Delta V$ added in $k$. Substituting and regrouping we have:\n",
    "\n",
    "$$\n",
    "\\delta J = |\\delta\\Delta \\mathbf V_k| \\left(1 + \\left(\\mathbf A_{ik}^T\\frac{\\Delta\\mathbf V_i}{|\\Delta \\mathbf V_i|} + \\mathbf A_{jk}^T\\frac{\\Delta\\mathbf V_j}{|\\Delta \\mathbf V_j|} \\right) \\cdot \\hat {\\mathbf u}\\right)\n",
    "$$\n",
    "\n",
    "which we rewrite as:\n",
    "\n",
    "$$\n",
    "\\delta J = |\\delta\\Delta \\mathbf V_k| \\left(1 - \\mathbf p\\cdot \\hat {\\mathbf u}\\right)\n",
    "$$\n",
    "\n",
    "where we have introduced the vector:\n",
    "\n",
    "$$\n",
    "\\boxed{\\mathbf p = - \\mathbf A_{ik}^T\\frac{\\Delta\\mathbf V_i}{|\\Delta \\mathbf V_i|} - \\mathbf A_{jk}^T\\frac{\\Delta\\mathbf V_j}{|\\Delta \\mathbf V_j|}}\n",
    "$$\n",
    "\n",
    "which is of fundamental importance in space flight mechanics and is called **primer vector**. \n",
    "\n",
    ":::{note}\n",
    "From the expression of $\\delta J$ it appears clear that if we want to be able to decrease the overall $\\Delta V$ adding in $k$ one impulse it is necessary for the norm of the primer vector (computed in $k$) to be larger than 1.\n",
    "\n",
    "Classically the result of the primer vector is derived starting from Pontryagin maximum principle, here we have presented an original derivation building on the work from Bauregard et al. {cite:p}`beauregard`, which allows to extend the primer vector to new, previously untreated, cases (see the notebook [A primer vector surrogate](<./primer_vector_surrogate.ipynb>)).\n",
    "\n",
    "Enough of that, let us start coding now ..."
   ]
  },
  {
   "cell_type": "code",
   "execution_count": 1,
   "metadata": {},
   "outputs": [],
   "source": [
    "import pykep as pk\n",
    "import numpy as np\n",
    "import matplotlib.pyplot as plt"
   ]
  },
  {
   "cell_type": "markdown",
   "metadata": {},
   "source": [
    "Let us define a toy problem. In the Keplerian dynamics, we have the following (optimal) four-impulse trajectory which was obtained using the [pl2pl_N_impulses UDP](<./udp_pl2pl_N_impulses.ipynb>)."
   ]
  },
  {
   "cell_type": "code",
   "execution_count": 2,
   "metadata": {},
   "outputs": [],
   "source": [
    "# Problem data\n",
    "start = pk.planet(pk.udpla.jpl_lp(\"earth\"))\n",
    "target = pk.planet(pk.udpla.jpl_lp(\"venus\"))\n",
    "\n",
    "r0 = np.array([-77310392520.5891, -130158155639.95819, 147108.35686371813])\n",
    "v0 = np.array([25126.38412487125, -15324.0242317188, 0.017319637130567115])\n",
    "DV0 = np.array([131.75310294757716, -111.56909329605848, -96.28187438097393])\n",
    "dt0 = (207.92142138040757+1.7436845790117605)*pk.DAY2SEC\n",
    "\n",
    "r1 = np.array([27010603535.35232, 148104684584.79688, 170320845.18626055])\n",
    "v1 = np.array([-29342.424683640078, 5002.990115285919, 90.36851971392393])\n",
    "DV1 = np.array([2564.361589892889,-50.35620132158087,941.8313242706953])\n",
    "dt1 = 102.5257944095885*pk.DAY2SEC\n",
    "\n",
    "r2 = np.array([-120157177505.86005, -15671871562.213903, 4331771081.502453])\n",
    "v2 = np.array([9191.042058637258, -32920.95795557667, -601.3348082236113])\n",
    "DV2 = np.array([-45.355943667023894, 200.41122277599425, -105.57564249345762])\n",
    "dt2 = 47.80909963099219*pk.DAY2SEC\n",
    "\n",
    "r3 = np.array([-13587329395.522686, -107835070067.45769, -689845413.6226778])\n",
    "v3 = np.array([34510.778377374605, -4515.1531552484175, -2053.713672761537])\n",
    "DV3 = np.array([2709.598754574843, 5.320335321392122, 607.7312545444463])"
   ]
  },
  {
   "cell_type": "markdown",
   "metadata": {},
   "source": [
    "We now define the grid where the prime vector will be computed, this will include 3 different segments, starting at the first impulse and ending at the third impulse."
   ]
  },
  {
   "cell_type": "code",
   "execution_count": 3,
   "metadata": {},
   "outputs": [],
   "source": [
    "# The grid for the first segment\n",
    "tgrid0 = np.linspace(0, dt0, 104)\n",
    "# The grid for the second segment\n",
    "tgrid1 = np.linspace(dt0, dt0+dt1, 51)\n",
    "# The grid for the third segment\n",
    "tgrid2 = np.linspace(dt0+dt1, dt0+dt1+dt2, 23)\n",
    "# The overall grid concatented\n",
    "tgrid = np.concatenate((tgrid0, tgrid1[1:], tgrid2[1:]))"
   ]
  },
  {
   "cell_type": "markdown",
   "metadata": {},
   "source": [
    "Note that the three grids are uniform, but with three `dts` all roughly (not exactly) 2 days. \n",
    "We compute the trajectory STMs at all grid points"
   ]
  },
  {
   "cell_type": "markdown",
   "metadata": {},
   "source": [
    "We first compute the trajectory as well as the STMs. We need to propagate at each impulse, add the impulse, then proceed.\n",
    "\n",
    "The various STMs thus computed will be:\n",
    "\n",
    "$M_{00}, M_{10}, M_{20}, ... M_{n0} \\quad | \\quad M_{nn}, M_{(n+1)n}, M_{(n+2)n}, M_{mn} \\quad | \\quad M_{mm}, M_{(m+1)m}, ...  M_{fm}$\n",
    "\n",
    "Instead we want:\n",
    "\n",
    "$M_{00}, M_{10}, M_{20}, ... M_{f0}$\n",
    "\n",
    "thus some extra manipulations will be necessary."
   ]
  },
  {
   "cell_type": "code",
   "execution_count": 4,
   "metadata": {},
   "outputs": [],
   "source": [
    "def propagate_mit(r0,v0):\n",
    "    # First segment\n",
    "    retval0 = pk.propagate_lagrangian_grid([r0, v0 + DV0], tgrid0, mu=pk.MU_SUN, stm=True)\n",
    "\n",
    "    # Second segment\n",
    "    retval1 = pk.propagate_lagrangian_grid(\n",
    "        [retval0[-1][0][0], retval0[-1][0][1] + DV1], tgrid1, mu=pk.MU_SUN, stm=True\n",
    "    )\n",
    "\n",
    "    # Third segment\n",
    "    retval2 = pk.propagate_lagrangian_grid(\n",
    "        [retval1[-1][0][0], retval1[-1][0][1] + DV2], tgrid2, mu=pk.MU_SUN, stm=True\n",
    "    )\n",
    "\n",
    "    # We assemble all the trajectory in the same grid\n",
    "    stms = [item[1] for item in retval0]\n",
    "    posvels = [item[0] for item in retval0]\n",
    "    Mn0 = retval0[-1][1]\n",
    "    Mmn = retval1[-1][1]\n",
    "    retval1.pop(0)\n",
    "    retval2.pop(0)\n",
    "    for item in retval1:\n",
    "        stms.append(item[1] @ Mn0)\n",
    "        posvels.append(item[0])\n",
    "    for item in retval2:\n",
    "        stms.append(item[1] @ Mmn @ Mn0)\n",
    "        posvels.append(item[0])\n",
    "    posvels[-1][1] = [a+b for a,b in zip(posvels[-1][1], DV3)]\n",
    "    return posvels, stms\n",
    "\n",
    "posvels, stms = propagate_mit(r0, v0)"
   ]
  },
  {
   "cell_type": "code",
   "execution_count": 5,
   "metadata": {},
   "outputs": [
    {
     "data": {
      "image/png": "[encoded data removed]",
      "text/plain": [
       "<Figure size 640x480 with 1 Axes>"
      ]
     },
     "metadata": {},
     "output_type": "display_data"
    }
   ],
   "source": [
    "ax = pk.plot.make_3Daxis()\n",
    "ax.plot([item[0][0] for item in posvels], [item[0][1] for item in posvels], [item[0][2] for item in posvels])\n",
    "ax.scatter3D(posvels[0][0][0], posvels[0][0][1], posvels[0][0][2], 'ko', c='k', alpha=0.5)\n",
    "ax.scatter3D(posvels[103][0][0], posvels[103][0][1], posvels[103][0][2], 'ko', c='k', alpha=0.5)\n",
    "ax.scatter3D(posvels[153][0][0], posvels[153][0][1], posvels[153][0][2], 'ko', c='k', alpha=0.5)\n",
    "ax.scatter3D(posvels[175][0][0], posvels[175][0][1], posvels[175][0][2], 'ko', c='k', alpha=0.5)\n",
    "\n",
    "pk.plot.add_planet_orbit(ax, start, units=1., alpha=0.3)\n",
    "pk.plot.add_planet_orbit(ax, target, units=1., alpha=0.3)\n",
    "ax.axis('off')\n",
    "ax.view_init(90,0)"
   ]
  },
  {
   "cell_type": "code",
   "execution_count": 6,
   "metadata": {},
   "outputs": [],
   "source": [
    "def primer_vector(DVi, DVj, Mji, Mjk):\n",
    "    #M -> (6,6)\n",
    "    #DV -> (3,)\n",
    "    # We apply the definition as developed in the mit theoretical developments\n",
    "    Aik = -(np.linalg.inv(Mji[:3,3:]))@Mjk[:3,3:]\n",
    "    Ajk = -(Mji[3:,3:]@Aik + Mjk[3:,3:])\n",
    "    p = - DVi@Aik/np.linalg.norm(DVi) - DVj@Ajk.T/np.linalg.norm(DVj)\n",
    "    return p, Aik, Ajk"
   ]
  },
  {
   "cell_type": "code",
   "execution_count": 7,
   "metadata": {},
   "outputs": [],
   "source": [
    "res = []\n",
    "# The gridpoints where the impulses are applied have idxs: 0 (DV0), 103 (DV1), 153 (DV2), 175 (DV3)\n",
    "idx_i = 103\n",
    "idx_j = 175\n",
    "DVi = DV1\n",
    "DVj = DV3\n",
    "for idx_k, _ in enumerate(tgrid):\n",
    "    Mji = stms[idx_j]@np.linalg.inv(stms[idx_i])\n",
    "    Mjk = stms[idx_j]@np.linalg.inv(stms[idx_k])\n",
    "    res.append(np.linalg.norm(primer_vector(DVi, DVj, Mji, Mjk)[0]))"
   ]
  },
  {
   "cell_type": "code",
   "execution_count": 8,
   "metadata": {},
   "outputs": [
    {
     "data": {
      "text/plain": [
       "<matplotlib.collections.LineCollection at 0x16527fed0>"
      ]
     },
     "execution_count": 8,
     "metadata": {},
     "output_type": "execute_result"
    },
    {
     "data": {
      "image/png": "[encoded data removed]",
      "text/plain": [
       "<Figure size 640x480 with 1 Axes>"
      ]
     },
     "metadata": {},
     "output_type": "display_data"
    }
   ],
   "source": [
    "plt.plot(res)\n",
    "plt.vlines(0, 0,2)\n",
    "plt.vlines(103, 0,2)\n",
    "plt.vlines(153, 0,2)\n",
    "plt.vlines(175, 0,2)\n",
    "plt.hlines(1, 0,200, 'r')\n"
   ]
  },
  {
   "cell_type": "code",
   "execution_count": 9,
   "metadata": {},
   "outputs": [],
   "source": [
    "Mk0 = stms[125]\n",
    "Mi0 = stms[103]\n",
    "Mj0 = stms[175]"
   ]
  },
  {
   "cell_type": "code",
   "execution_count": 10,
   "metadata": {},
   "outputs": [
    {
     "name": "stdout",
     "output_type": "stream",
     "text": [
      "Total DV now is:  5931.106418548307\n",
      "Total DV was:  5937.927383779674\n"
     ]
    }
   ],
   "source": [
    "p, Aik, Ajk = primer_vector(DV1,DV3,Mj0@np.linalg.inv(Mi0), Mj0@np.linalg.inv(Mk0))\n",
    "dDVk = p / np.linalg.norm(p)\n",
    "dDVi = Aik@dDVk\n",
    "dDVj = Ajk@dDVk\n",
    "\n",
    "addedDV = np.linalg.norm(DV0)+np.linalg.norm(DV2)\n",
    "print(\"Total DV now is: \", np.linalg.norm(DV1+dDVi) + np.linalg.norm(DV3+dDVj) + np.linalg.norm(dDVk)+addedDV)\n",
    "print(\"Total DV was: \", np.linalg.norm(DV1) + np.linalg.norm(DV3) +addedDV)"
   ]
  },
  {
   "cell_type": "code",
   "execution_count": 11,
   "metadata": {},
   "outputs": [],
   "source": [
    "rf, vf = propagate_mit(r0, v0)[0][-1]\n",
    "rf = np.array(rf)\n",
    "vf = np.array(vf)"
   ]
  },
  {
   "cell_type": "code",
   "execution_count": 12,
   "metadata": {},
   "outputs": [
    {
     "name": "stdout",
     "output_type": "stream",
     "text": [
      "Change in rf (rel.) 8.394498430491386e-07\n",
      "Change in vf (rel.) 6.898300160327028e-07\n"
     ]
    }
   ],
   "source": [
    "# First segment 0-i\n",
    "retval0 = pk.propagate_lagrangian_grid([r0, v0 + DV0], tgrid[:103+1], mu=pk.MU_SUN, stm=False)\n",
    "\n",
    "# Second segment i-k\n",
    "retval1 = pk.propagate_lagrangian_grid(\n",
    "    [retval0[-1][0], retval0[-1][1] + DV1 + dDVi], tgrid[103:125+1], mu=pk.MU_SUN, stm=False\n",
    ")\n",
    "\n",
    "# Third segment k-2\n",
    "retval2 = pk.propagate_lagrangian_grid(\n",
    "    [retval1[-1][0], retval1[-1][1] + dDVk], tgrid[125:153+1], mu=pk.MU_SUN, stm=False\n",
    "    )\n",
    "\n",
    "# Third segment k-2\n",
    "retval3 = pk.propagate_lagrangian_grid(\n",
    "    [retval2[-1][0], retval2[-1][1] + DV2], tgrid[153:176], mu=pk.MU_SUN, stm=False\n",
    "    )\n",
    "\n",
    "rf_new = np.array(retval3[-1][0])\n",
    "vf_new = np.array(retval3[-1][1] + DV3 + dDVj)\n",
    "\n",
    "print(\"Change in rf (rel.)\", np.linalg.norm(rf_new-rf)/ np.linalg.norm(rf))\n",
    "print(\"Change in vf (rel.)\", np.linalg.norm(vf_new-vf)/ np.linalg.norm(vf))\n"
   ]
  },
  {
   "cell_type": "code",
   "execution_count": 43,
   "metadata": {},
   "outputs": [],
   "source": [
    "import pygmo as pg\n",
    "import pygmo_plugins_nonfree as ppnf\n",
    "\n",
    "class my_udp:\n",
    "    def __init__(self, max_DV=10):\n",
    "        self.max_DV = max_DV\n",
    "\n",
    "    # x = [eta, ui, vi, dDVi, uk, vk, dDVk, uj, vj, dDVj]\n",
    "    def get_bounds(self):\n",
    "        lb = [0.1, 0,0,0,0,0,0,0,0,0]\n",
    "        ub = [0.8, 1,1, self.max_DV, 1, 1, self.max_DV, 1, 1, self.max_DV]\n",
    "        return (lb, ub)\n",
    "    \n",
    "    def get_nec(self):\n",
    "        return 6\n",
    "    \n",
    "    \n",
    "    def decode(self, x):\n",
    "        dDVi = pk.utils.uvV2cartesian(x[1:4])\n",
    "        dDVk = pk.utils.uvV2cartesian(x[4:7])\n",
    "        dDVj = pk.utils.uvV2cartesian(x[7:10])\n",
    "        return dDVi, dDVk, dDVj\n",
    "\n",
    "    def fitness(self, x):\n",
    "        dDVi, dDVk, dDVj = self.decode(x)\n",
    "        r, v = pk.propagate_lagrangian([r0, v0 + DV0], dt0, mu=pk.MU_SUN, stm=False)\n",
    "        r, v = pk.propagate_lagrangian(\n",
    "            [r, v + DV1 + dDVi], dt1 * x[0], mu=pk.MU_SUN, stm=False\n",
    "        )\n",
    "        r, v = pk.propagate_lagrangian(\n",
    "            [r, v + dDVk], dt1 * (1-x[0]), mu=pk.MU_SUN, stm=False\n",
    "        )\n",
    "        r, v = pk.propagate_lagrangian(\n",
    "            [r, v + DV2], dt2, mu=pk.MU_SUN, stm=False\n",
    "        )\n",
    "        rf = r\n",
    "        vf = [a+b for a,b in zip(v,dDVj)]\n",
    "        totalDV = np.linalg.norm(DV0) + np.linalg.norm(DV1+dDVi) + np.linalg.norm(dDVk) + np.linalg.norm(DV2) + np.linalg.norm(DV3+dDVj) \n",
    "        ceq = [\n",
    "            (rf[0] - r3[0]) / np.linalg.norm(r3),\n",
    "            (rf[1] - r3[1]) / np.linalg.norm(r3),\n",
    "            (rf[2] - r3[2]) / np.linalg.norm(r3),\n",
    "            (vf[0] - v3[0] - DV3[0]) / np.linalg.norm(v3),\n",
    "            (vf[1] - v3[1] - DV3[1]) / np.linalg.norm(v3),\n",
    "            (vf[2] - v3[2] - DV3[2]) / np.linalg.norm(v3)\n",
    "        ]\n",
    "        return [totalDV] + ceq\n",
    "\n",
    "udp = my_udp(2000)\n",
    "prob = pg.problem(udp)\n",
    "prob.c_tol = 1e-10"
   ]
  },
  {
   "cell_type": "code",
   "execution_count": 45,
   "metadata": {},
   "outputs": [
    {
     "name": "stdout",
     "output_type": "stream",
     "text": [
      "Multi-start:\n",
      "0 5937.927383787239\r"
     ]
    },
    {
     "name": "stderr",
     "output_type": "stream",
     "text": [
      "/var/folders/_r/rnh54j3j4md06n738vs623v5b32p0m/T/ipykernel_32476/2597327160.py:20: RuntimeWarning: invalid value encountered in arccos\n",
      "  phi = np.acos(2 * v - 1) - np.pi / 2\n"
     ]
    },
    {
     "name": "stdout",
     "output_type": "stream",
     "text": [
      "99 5937.9273837796745\n",
      "The best solution found has a DV of 5.72562538e+00 km/s\n"
     ]
    }
   ],
   "source": [
    "def solve(udp, N=20, screen=False):\n",
    "    snopt72 = \"/Users/dario.izzo/opt/libsnopt7_c.dylib\"\n",
    "    uda = ppnf.snopt7(library=snopt72, minor_version=2, screen_output=screen)\n",
    "    uda.set_integer_option(\"Major iterations limit\", 2000)\n",
    "    uda.set_integer_option(\"Iterations limit\", 20000)\n",
    "    uda.set_numeric_option(\"Major optimality tolerance\", 1e-3)\n",
    "    uda.set_numeric_option(\"Major feasibility tolerance\", 1e-11)\n",
    "\n",
    "    #uda = pg.nlopt(\"slsqp\")\n",
    "    algo = pg.algorithm(uda)\n",
    "    print(\"Multi-start:\")\n",
    "\n",
    "    res = list()\n",
    "    for i in range(N):\n",
    "        pop = pg.population(udp, 20)\n",
    "        pop = algo.evolve(pop)\n",
    "        if prob.feasibility_f(pop.champion_f):\n",
    "            res.append([pop.champion_f, pop.champion_x])\n",
    "            print(i, pop.champion_f[0], end= '\\r')\n",
    "        \n",
    "    best_x = sorted(res, key =  lambda x: x[0][0])[0][1]\n",
    "\n",
    "    print(f\"\\nThe best solution found has a DV of {udp.fitness(best_x)[0]/1000:.8e} km/s\")\n",
    "    return best_x\n",
    "\n",
    "best_x = solve(udp, 100, False)"
   ]
  },
  {
   "cell_type": "code",
   "execution_count": 46,
   "metadata": {},
   "outputs": [],
   "source": [
    "dDVi, dDVk, dDVj = udp.decode(best_x)"
   ]
  },
  {
   "cell_type": "code",
   "execution_count": 56,
   "metadata": {},
   "outputs": [
    {
     "data": {
      "text/plain": [
       "np.float64(5725.625384470777)"
      ]
     },
     "execution_count": 56,
     "metadata": {},
     "output_type": "execute_result"
    }
   ],
   "source": [
    "newDVs = [DV0, DV1+dDVi, dDVk, DV2, DV3+dDVj]\n",
    "sum([np.linalg.norm(it) for it in newDVs])"
   ]
  },
  {
   "cell_type": "code",
   "execution_count": 57,
   "metadata": {},
   "outputs": [
    {
     "data": {
      "text/plain": [
       "np.float64(5937.927383779674)"
      ]
     },
     "execution_count": 57,
     "metadata": {},
     "output_type": "execute_result"
    }
   ],
   "source": [
    "oldDVs = [DV0, DV1, np.array([0,0,0]), DV2, DV3]\n",
    "sum([np.linalg.norm(it) for it in oldDVs])"
   ]
  },
  {
   "cell_type": "code",
   "execution_count": 53,
   "metadata": {},
   "outputs": [],
   "source": [
    "eta = best_x[0]\n",
    "Ts = np.array([dt0, dt1*eta, dt1*(1-eta), dt2])*pk.SEC2DAY"
   ]
  },
  {
   "cell_type": "code",
   "execution_count": 61,
   "metadata": {},
   "outputs": [],
   "source": [
    "alphas, T = pk.utils.direct2alpha(Ts)"
   ]
  },
  {
   "cell_type": "code",
   "execution_count": 65,
   "metadata": {},
   "outputs": [
    {
     "data": {
      "text/plain": [
       "[[-0.11182797093645813, np.float64(0.7435316250079684), 197.6783803290919],\n",
       " [-0.011392597880041285, np.float64(0.41155496731307195), 2151.095744228057],\n",
       " [-3.8981718325193755e-17, np.float64(0.618539460060037), 443.99636847169444],\n",
       " [0.2854223430074437, np.float64(0.7285036420608637), 231.01522921314478],\n",
       " [-0.004347230534964997, np.float64(0.5554241785184655), 2701.8396622287887]]"
      ]
     },
     "execution_count": 65,
     "metadata": {},
     "output_type": "execute_result"
    }
   ],
   "source": [
    "[pk.utils.cartesian2uvV(it) for it in newDVs]"
   ]
  },
  {
   "cell_type": "code",
   "execution_count": null,
   "metadata": {},
   "outputs": [],
   "source": []
  }
 ],
 "metadata": {
  "kernelspec": {
   "display_name": "kep3_devel",
   "language": "python",
   "name": "python3"
  },
  "language_info": {
   "codemirror_mode": {
    "name": "ipython",
    "version": 3
   },
   "file_extension": ".py",
   "mimetype": "text/x-python",
   "name": "python",
   "nbconvert_exporter": "python",
   "pygments_lexer": "ipython3",
   "version": "3.13.1"
  },
  "orig_nbformat": 4
 },
 "nbformat": 4,
 "nbformat_minor": 2
}
