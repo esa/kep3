{
 "cells": [
  {
   "cell_type": "markdown",
   "metadata": {},
   "source": [
    "# Revisiting the Primer Vector\n",
    "\n",
    "In this notebook we revisit the primer vector theory from Lawden from the lens of first order variations.\n",
    "\n",
    "## Theory and notation\n",
    "\n",
    "------------\n",
    "\n",
    "a) Consider the following definition of the State Transition Matrix, $\\mathbf M_{fs}$:\n",
    "\n",
    "$$\n",
    "\\mathbf M_{fs} := \\frac{\\partial \\mathbf x_{f}}{\\partial \\mathbf x_{s}}\n",
    "$$\n",
    "\n",
    "Note how this definition does not depend on the dynamics. The STM allows to describe variations of the (final) state at $f$ as:\n",
    "\n",
    "$$\n",
    "\\delta\\mathbf x_f = \\mathbf M_{fs} \\delta \\mathbf x_s\n",
    "$$\n",
    "\n",
    "We also make use of the following definitions for the various blocks of the STM:\n",
    "\n",
    "$$\n",
    "\\mathbf M = \\left[ \n",
    "\\begin{array}{c|c} \n",
    "  \\mathbf M^{rr} & \\mathbf M^{rv} \\\\ \n",
    "  \\hline \n",
    "  \\mathbf M^{vr} & \\mathbf M^{vv} \n",
    "\\end{array} \n",
    "\\right] \n",
    "= \\left[ \n",
    "\\begin{array}{c|c} \n",
    "  \\mathbf M^{xr} & \\mathbf M^{xv} \n",
    "\\end{array} \n",
    "\\right] \n",
    "= \\left[ \n",
    "\\begin{array}{c} \n",
    "  \\mathbf M^{rx} \\\\\n",
    "  \\hline \n",
    "  \\mathbf M^{vx} \n",
    "\\end{array} \n",
    "\\right] \n",
    "$$\n",
    "\n",
    "---------------\n",
    "\n",
    "b) Assume now to have a grid of $N$ points along a multiple impulse trajectory and pick three indexes $i,j,k$. \n",
    "\n",
    "We ask the following question: what happens when we add three small $\\delta\\Delta V$ at the selected nodes?\n",
    "\n",
    "To answer this question, we compute the variation of the final state due to intermidiate variations at the nodes using the STMs:\n",
    "\n",
    "$$\n",
    "\\delta \\mathbf x_f = \\mathbf M_{fi}\\delta\\mathbf x_i + \\mathbf M_{fj}\\delta\\mathbf x_j + \\mathbf M_{fk}\\delta\\mathbf x_k\n",
    "$$\n",
    "\n",
    "which we set to zero, as we do not want the trajectory boundary cnstraints to change, only find a better $\\Delta V$:\n",
    "\n",
    "$$\n",
    "\\mathbf 0 = \\mathbf M_{fi}\\delta\\mathbf x_i + \\mathbf M_{fj}\\delta\\mathbf x_j + \\mathbf M_{fk}\\delta\\mathbf x_k\n",
    "$$\n",
    "\n",
    "which becomes (multiplying by $\\mathbf M_{jf}$):\n",
    "\n",
    "$$\n",
    "\\mathbf M_{ji}\\delta\\mathbf x_i + \\mathbf M_{jk}\\delta\\mathbf x_k + \\delta\\mathbf x_j = \\mathbf 0\n",
    "$$\n",
    "\n",
    "--------------\n",
    "\n",
    "c) The state variations $\\delta\\mathbf x$ are, in our case, consequence of three $\\delta\\Delta \\mathbf V$, so that the previous equations becomes:\n",
    "\n",
    "$$\n",
    "\\begin{align}\n",
    "\\mathbf M_i^{rv} \\delta\\Delta \\mathbf V_i + \\mathbf M_k^{rv} \\delta\\Delta \\mathbf V_k = \\mathbf 0\\\\\n",
    "\\mathbf M_i^{vv} \\delta\\Delta \\mathbf V_i + \\mathbf M_k^{vv} \\delta\\Delta \\mathbf V_k + \\delta\\Delta \\mathbf V_j = \\mathbf 0\\\\\n",
    "\\end{align}\n",
    "$$\n",
    "\n",
    "which becomes:\n",
    "\n",
    "$$\n",
    "\\begin{align}\n",
    "\\delta\\Delta \\mathbf V_i &=& - (\\mathbf M_i^{rv})^{-1}\\mathbf M_k^{rv} \\delta\\Delta \\mathbf V_k = \\mathbf A_{ik}\\delta\\Delta \\mathbf V_k\\\\\n",
    "\\delta\\Delta \\mathbf V_j &=& - \\big(\\mathbf M_i^{vv}\\mathbf A_{ik} + \\mathbf M_k^{vv} \\big)  \\delta\\Delta \\mathbf V_k = \\mathbf A_{jk}\\delta\\Delta \\mathbf V_k\\\\\n",
    "\\end{align}\n",
    "$$\n",
    "\n",
    "The matrices $\\mathbf A$ are telling us how the three variations of impulsive velocity changes applied in ($i$, $j$, $k$) must be related for the overall trajectory to not change its boundary conditions (i.e. $\\mathbf x_f = \\mathbf 0$).\n",
    "\n",
    "-------------\n",
    "\n",
    "d) So far the three indexes we picked (i.e. $i,j,k$) were completely equivalent, now we assume that in $i,j$ a finite $\\Delta V$ is already present, while in $k$ only our additional $\\delta\\Delta \\mathbf V$ will be present.\n",
    "\n",
    "The total magnitude of the $\\Delta \\mathbf V$ can then be expressed by:\n",
    "\n",
    "$$\n",
    "J = \\Delta V_{tot} = |\\mathbf V_i + \\delta\\Delta \\mathbf V_i | + |\\mathbf V_j + \\delta\\Delta \\mathbf V_j | + |\\delta\\Delta \\mathbf V_k|\n",
    "$$\n",
    "\n",
    "and its first order variation:\n",
    "\n",
    "$$\n",
    "\\delta J = \\frac{\\Delta\\mathbf V_i}{|\\Delta \\mathbf V_i|}\\cdot |\\delta\\Delta \\mathbf V_i| + \\frac{\\Delta \\mathbf V_j}{|\\Delta \\mathbf V_j|}\\cdot |\\delta\\Delta \\mathbf V_j| + |\\delta\\Delta \\mathbf V_k|\n",
    "$$\n",
    "\n",
    "e) The primer vector\n",
    "\n",
    "We introduce $\\hat{\\mathbf u} = \\frac{\\delta \\Delta \\mathbf V_k}{|\\delta \\Delta \\mathbf V_k|}$ as the unit vector along the direction of the $\\delta \\Delta V$ added in $k$. Substituting and regrouping we have:\n",
    "\n",
    "$$\n",
    "\\delta J = |\\delta\\Delta \\mathbf V_k| \\left(1 + \\left(\\mathbf A_{ik}^T\\frac{\\Delta\\mathbf V_i}{|\\Delta \\mathbf V_i|} + \\mathbf A_{jk}^T\\frac{\\Delta\\mathbf V_j}{|\\Delta \\mathbf V_j|} \\right) \\cdot \\hat {\\mathbf u}\\right)\n",
    "$$\n",
    "\n",
    "which we rewrite as:\n",
    "\n",
    "$$\n",
    "\\delta J = |\\delta\\Delta \\mathbf V_k| \\left(1 - \\mathbf p\\cdot \\hat {\\mathbf u}\\right)\n",
    "$$\n",
    "\n",
    "where we have introduced the vector:\n",
    "\n",
    "$$\n",
    "\\boxed{\\mathbf p = - \\mathbf A_{ik}^T\\frac{\\Delta\\mathbf V_i}{|\\Delta \\mathbf V_i|} - \\mathbf A_{jk}^T\\frac{\\Delta\\mathbf V_j}{|\\Delta \\mathbf V_j|}}\n",
    "$$\n",
    "\n",
    "which is of fundamental importance in space flight mechanics and is called **primer vector**. \n",
    "\n",
    ":::{note}\n",
    "From the expression of $\\delta J$ it appears clear that if we want to be able to decrease the overall $\\Delta V$ adding in $k$ one impulse it is necessary for the norm of the primer vector (computed in $k$) to be larger than 1.\n",
    "\n",
    "Classically the result of the primer vector is derived starting from Pontryagin maximum principle, here we have presented an original derivation building on the work from Bauregard et al. publication {cite:p}`beauregard`, which will allow to extend also the primer vector to new, previously untreated, cases (see the notebook [A primer vector surrogate](<./primer_vector_surrogate.ipynb>)).\n",
    "\n",
    "Enough of that, let us start coding now ..."
   ]
  },
  {
   "cell_type": "code",
   "execution_count": 2,
   "metadata": {},
   "outputs": [],
   "source": [
    "import pykep as pk\n",
    "import numpy as np\n",
    "import matplotlib.pyplot as plt"
   ]
  },
  {
   "cell_type": "markdown",
   "metadata": {},
   "source": [
    "Let us define a problem. In the Keplerian dynamics, we construct an arbitrary two impulse trajectory"
   ]
  },
  {
   "cell_type": "code",
   "execution_count": 3,
   "metadata": {},
   "outputs": [],
   "source": [
    "# Problem data\n",
    "n_points = 200\n",
    "# Initial position\n",
    "r0 = np.array([1., 0., 0.])\n",
    "v0 = np.array([0., 1., 0.])\n",
    "# Magnitude of the DVs\n",
    "DVi = np.array([0.4, -0.2, -0.1])\n",
    "DVj = np.array([-0.02, 0.2, 0.21])\n",
    "# time grid\n",
    "t_grid = np.linspace(0, 4*np.pi, n_points)\n",
    "\n",
    "# Nodes at which the impulses are given\n",
    "idx_i = 9\n",
    "idx_j = 19"
   ]
  },
  {
   "cell_type": "markdown",
   "metadata": {},
   "source": [
    "We first compute the trajectory as well as the STMs. We need to propagate at each impulse, add the impulse, then proceed."
   ]
  },
  {
   "cell_type": "code",
   "execution_count": 4,
   "metadata": {},
   "outputs": [],
   "source": [
    "retval0 = pk.propagate_lagrangian_grid([r0, v0], t_grid[:idx_i+1], mu=1, stm=True)\n",
    "ri, vi = retval0[-1][0]\n",
    "vi = [a+b for a,b in zip(vi, DVi)]\n",
    "retval1 = pk.propagate_lagrangian_grid([ri, vi], t_grid[idx_i+1: idx_j+1], mu=1, stm=True)\n",
    "rj, vj = retval1[-1][0]\n",
    "vj = [a+b for a,b in zip(vj, DVj)]\n",
    "retval2 = pk.propagate_lagrangian_grid([rj, vj], t_grid[idx_j+1:], mu=1, stm=True)"
   ]
  },
  {
   "cell_type": "markdown",
   "metadata": {},
   "source": [
    "The various STMs thus computed are (for example) M00, M10, M20 | M22, M32, M42| M44, Mf4. Instead we want M00, M10, M20, M30, M40, Mf0. "
   ]
  },
  {
   "cell_type": "code",
   "execution_count": 5,
   "metadata": {},
   "outputs": [],
   "source": [
    "retval1.pop(0);"
   ]
  },
  {
   "cell_type": "code",
   "execution_count": 8,
   "metadata": {},
   "outputs": [
    {
     "data": {
      "text/plain": [
       "[[0.8248796077843502, 0.5997678310828135, -0.009983856518866123],\n",
       " [-0.2191338758490723, 0.5876258856698118, -0.09952044776053727]]"
      ]
     },
     "execution_count": 8,
     "metadata": {},
     "output_type": "execute_result"
    }
   ],
   "source": [
    "pk.propagate_lagrangian_grid([ri, vi], [0, 0.1], mu=1, stm=False)[1][0]"
   ]
  },
  {
   "cell_type": "code",
   "execution_count": 9,
   "metadata": {},
   "outputs": [
    {
     "data": {
      "text/plain": [
       "([0.8248796077843502, 0.5997678310828135, -0.009983856518866123],\n",
       " [-0.2191338758490723, 0.5876258856698118, -0.09952044776053727])"
      ]
     },
     "execution_count": 9,
     "metadata": {},
     "output_type": "execute_result"
    }
   ],
   "source": [
    "pk.propagate_lagrangian([ri, vi], 0.1, mu=1, stm=False)"
   ]
  },
  {
   "cell_type": "code",
   "execution_count": null,
   "metadata": {},
   "outputs": [],
   "source": []
  }
 ],
 "metadata": {
  "kernelspec": {
   "display_name": "kep3_devel",
   "language": "python",
   "name": "python3"
  },
  "language_info": {
   "codemirror_mode": {
    "name": "ipython",
    "version": 3
   },
   "file_extension": ".py",
   "mimetype": "text/x-python",
   "name": "python",
   "nbconvert_exporter": "python",
   "pygments_lexer": "ipython3",
   "version": "3.13.1"
  },
  "orig_nbformat": 4
 },
 "nbformat": 4,
 "nbformat_minor": 2
}
