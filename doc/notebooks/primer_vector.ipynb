{
 "cells": [
  {
   "cell_type": "markdown",
   "metadata": {},
   "source": [
    "# Revisiting the Primer Vector\n",
    "\n",
    "In this notebook we revisit the primer vector theory from Lawden from the lens of first order variations.\n",
    "\n",
    "## Theory and notation\n",
    "\n",
    "------------\n",
    "\n",
    "a) Consider the following definition of the State Transition Matrix, $\\mathbf M_{fs}$:\n",
    "\n",
    "$$\n",
    "\\mathbf M_{fs} := \\frac{\\partial \\mathbf x_{f}}{\\partial \\mathbf x_{s}}\n",
    "$$\n",
    "\n",
    "Note how this definition does not depend on the dynamics. The STM allows to describe variations of the (final) state at $f$ as:\n",
    "\n",
    "$$\n",
    "\\delta\\mathbf x_f = \\mathbf M_{fs} \\delta \\mathbf x_s\n",
    "$$\n",
    "\n",
    "We also make use of the following definitions for the various blocks of the STM:\n",
    "\n",
    "$$\n",
    "\\mathbf M = \\left[ \n",
    "\\begin{array}{c|c} \n",
    "  \\mathbf M^{rr} & \\mathbf M^{rv} \\\\ \n",
    "  \\hline \n",
    "  \\mathbf M^{vr} & \\mathbf M^{vv} \n",
    "\\end{array} \n",
    "\\right] \n",
    "= \\left[ \n",
    "\\begin{array}{c|c} \n",
    "  \\mathbf M^{xr} & \\mathbf M^{xv} \n",
    "\\end{array} \n",
    "\\right] \n",
    "= \\left[ \n",
    "\\begin{array}{c} \n",
    "  \\mathbf M^{rx} \\\\\n",
    "  \\hline \n",
    "  \\mathbf M^{vx} \n",
    "\\end{array} \n",
    "\\right] \n",
    "$$\n",
    "\n",
    "---------------\n",
    "\n",
    "b) Assume now to have a grid of $N$ points along a multiple impulse trajectory and pick three indexes $i,j,k$. \n",
    "\n",
    "We ask the following question: what happens when we add three small $\\delta\\Delta V$ at the selected nodes?\n",
    "\n",
    "To answer this question, we compute the variation of the final state due to intermidiate variations at the nodes using the STMs:\n",
    "\n",
    "$$\n",
    "\\delta \\mathbf x_f = \\mathbf M_{fi}\\delta\\mathbf x_i + \\mathbf M_{fj}\\delta\\mathbf x_j + \\mathbf M_{fk}\\delta\\mathbf x_k\n",
    "$$\n",
    "\n",
    "which we set to zero, as we do not want the trajectory boundary cnstraints to change, only find a better $\\Delta V$:\n",
    "\n",
    "$$\n",
    "\\mathbf 0 = \\mathbf M_{fi}\\delta\\mathbf x_i + \\mathbf M_{fj}\\delta\\mathbf x_j + \\mathbf M_{fk}\\delta\\mathbf x_k\n",
    "$$\n",
    "\n",
    "which becomes (multiplying by $\\mathbf M_{jf}$):\n",
    "\n",
    "$$\n",
    "\\mathbf M_{ji}\\delta\\mathbf x_i + \\mathbf M_{jk}\\delta\\mathbf x_k + \\delta\\mathbf x_j = \\mathbf 0\n",
    "$$\n",
    "\n",
    "--------------\n",
    "\n",
    "c) The state variations $\\delta\\mathbf x$ are, in our case, consequence of three $\\delta\\Delta \\mathbf V$, so that the previous equations becomes:\n",
    "\n",
    "$$\n",
    "\\begin{align}\n",
    "\\mathbf M_i^{rv} \\delta\\Delta \\mathbf V_i + \\mathbf M_k^{rv} \\delta\\Delta \\mathbf V_k = \\mathbf 0\\\\\n",
    "\\mathbf M_i^{vv} \\delta\\Delta \\mathbf V_i + \\mathbf M_k^{vv} \\delta\\Delta \\mathbf V_k + \\delta\\Delta \\mathbf V_j = \\mathbf 0\\\\\n",
    "\\end{align}\n",
    "$$\n",
    "\n",
    "which becomes:\n",
    "\n",
    "$$\n",
    "\\begin{align}\n",
    "\\delta\\Delta \\mathbf V_i &=& - (\\mathbf M_i^{rv})^{-1}\\mathbf M_k^{rv} \\delta\\Delta \\mathbf V_k = \\mathbf A_{ik}\\delta\\Delta \\mathbf V_k\\\\\n",
    "\\delta\\Delta \\mathbf V_j &=& - \\big(\\mathbf M_i^{vv}\\mathbf A_{ik} + \\mathbf M_k^{vv} \\big)  \\delta\\Delta \\mathbf V_k = \\mathbf A_{jk}\\delta\\Delta \\mathbf V_k\\\\\n",
    "\\end{align}\n",
    "$$\n",
    "\n",
    "The matrices $\\mathbf A$ are telling us how the three variations of impulsive velocity changes applied in ($i$, $j$, $k$) must be related for the overall trajectory to not change its boundary conditions (i.e. $\\mathbf x_f = \\mathbf 0$).\n",
    "\n",
    "-------------\n",
    "\n",
    "d) So far the three indexes we picked (i.e. $i,j,k$) were completely equivalent, now we assume that in $i,j$ a finite $\\Delta V$ is already present, while in $k$ only our additional $\\delta\\Delta \\mathbf V$ will be present.\n",
    "\n",
    "The total magnitude of the $\\Delta \\mathbf V$ can then be expressed by:\n",
    "\n",
    "$$\n",
    "J = \\Delta V_{tot} = |\\mathbf V_i + \\delta\\Delta \\mathbf V_i | + |\\mathbf V_j + \\delta\\Delta \\mathbf V_j | + |\\delta\\Delta \\mathbf V_k|\n",
    "$$\n",
    "\n",
    "and its first order variation:\n",
    "\n",
    "$$\n",
    "\\delta J = \\frac{\\Delta\\mathbf V_i}{|\\Delta \\mathbf V_i|}\\cdot \\delta\\Delta \\mathbf V_i + \\frac{\\Delta \\mathbf V_j}{|\\Delta \\mathbf V_j|}\\cdot \\delta\\Delta \\mathbf V_j + |\\delta\\Delta \\mathbf V_k|\n",
    "$$\n",
    "\n",
    "e) The primer vector\n",
    "\n",
    "We introduce $\\hat{\\mathbf u} = \\frac{\\delta \\Delta \\mathbf V_k}{|\\delta \\Delta \\mathbf V_k|}$ as the unit vector along the direction of the $\\delta \\Delta V$ added in $k$. Substituting and regrouping we have:\n",
    "\n",
    "$$\n",
    "\\delta J = |\\delta\\Delta \\mathbf V_k| \\left(1 + \\left(\\mathbf A_{ik}^T\\frac{\\Delta\\mathbf V_i}{|\\Delta \\mathbf V_i|} + \\mathbf A_{jk}^T\\frac{\\Delta\\mathbf V_j}{|\\Delta \\mathbf V_j|} \\right) \\cdot \\hat {\\mathbf u}\\right)\n",
    "$$\n",
    "\n",
    "which we rewrite as:\n",
    "\n",
    "$$\n",
    "\\delta J = |\\delta\\Delta \\mathbf V_k| \\left(1 - \\mathbf p\\cdot \\hat {\\mathbf u}\\right)\n",
    "$$\n",
    "\n",
    "where we have introduced the vector:\n",
    "\n",
    "$$\n",
    "\\boxed{\\mathbf p = - \\mathbf A_{ik}^T\\frac{\\Delta\\mathbf V_i}{|\\Delta \\mathbf V_i|} - \\mathbf A_{jk}^T\\frac{\\Delta\\mathbf V_j}{|\\Delta \\mathbf V_j|}}\n",
    "$$\n",
    "\n",
    "which is of fundamental importance in space flight mechanics and is called **primer vector**. \n",
    "\n",
    ":::{note}\n",
    "From the expression of $\\delta J$ it appears clear that if we want to be able to decrease the overall $\\Delta V$ adding in $k$ one impulse it is necessary for the norm of the primer vector (computed in $k$) to be larger than 1.\n",
    "\n",
    "Classically the result of the primer vector is derived starting from Pontryagin maximum principle, here we have presented an original derivation building on the work from Bauregard et al. {cite:p}`beauregard`, which allows to extend the primer vector to new, previously untreated, cases (see the notebook [A primer vector surrogate](<./primer_vector_surrogate.ipynb>)).\n",
    "\n",
    "Enough of that, let us start coding now ..."
   ]
  },
  {
   "cell_type": "code",
   "execution_count": 1,
   "metadata": {},
   "outputs": [],
   "source": [
    "import pykep as pk\n",
    "import numpy as np\n",
    "np.set_printoptions(legacy='1.25')\n",
    "import matplotlib.pyplot as plt"
   ]
  },
  {
   "cell_type": "markdown",
   "metadata": {},
   "source": [
    "Let us define a toy problem. In the Keplerian dynamics, we have the following (optimal) four-impulse trajectory which was obtained using the [pl2pl_N_impulses UDP](<./udp_pl2pl_N_impulses.ipynb>)."
   ]
  },
  {
   "cell_type": "code",
   "execution_count": 2,
   "metadata": {},
   "outputs": [],
   "source": [
    "# Problem data\n",
    "start = pk.planet(pk.udpla.jpl_lp(\"earth\"))\n",
    "target = pk.planet(pk.udpla.jpl_lp(\"venus\"))\n",
    "\n",
    "r0 = np.array([-77310392520.5891, -130158155639.95819, 147108.35686371813])\n",
    "v0 = np.array([25126.38412487125, -15324.0242317188, 0.017319637130567115])\n",
    "DV0 = np.array([131.74444122221112, -111.57168023031436, -96.28585532081512])\n",
    "dt0 = (194.835548685441557+14.82906396200053)*pk.DAY2SEC\n",
    "\n",
    "r1 = np.array([27011591791.503845, 148104382453.56558, 170324664.00757253])\n",
    "v1 = np.array([-29342.408370789373, 5003.190386138956, 90.37256194347349])\n",
    "DV1 = np.array([2564.347941748753, -50.33730074112419, 941.8690690439083])\n",
    "dt1 = 102.51706391196915*pk.DAY2SEC\n",
    "\n",
    "r2 = np.array([-120164601140.7896, -15645977554.833487, 4332410828.357129])\n",
    "v2 = np.array([9183.937186025161, -32921.84916571874, -601.1091614146442])\n",
    "DV2 = np.array([-45.308371681150675, 200.42244183402727, -105.55464659459722])\n",
    "dt2 =  47.818323440588806*pk.DAY2SEC\n",
    "\n",
    "r3 = np.array([-13587329395.522686, -107835070067.45769, -689845413.6226778])\n",
    "v3 = np.array([34510.778377374605, -4515.1531552484175, -2053.713672761537])\n",
    "DV3 = np.array([-2709.616020196663, -5.353417557126704, -607.7075255532395])"
   ]
  },
  {
   "cell_type": "markdown",
   "metadata": {},
   "source": [
    "We now define the grid where the prime vector will be computed, this will include 3 different segments, starting at the first impulse and ending at the third impulse."
   ]
  },
  {
   "cell_type": "code",
   "execution_count": 3,
   "metadata": {},
   "outputs": [],
   "source": [
    "# The grid for the first segment\n",
    "tgrid0 = np.linspace(0, dt0, 104)\n",
    "# The grid for the second segment\n",
    "tgrid1 = np.linspace(dt0, dt0+dt1, 51)\n",
    "# The grid for the third segment\n",
    "tgrid2 = np.linspace(dt0+dt1, dt0+dt1+dt2, 23)\n",
    "# The overall grid concatented\n",
    "tgrid = np.concatenate((tgrid0, tgrid1[1:], tgrid2[1:]))"
   ]
  },
  {
   "cell_type": "markdown",
   "metadata": {},
   "source": [
    "Note that the three grids are uniform, but with three `dts` all roughly (not exactly) 2 days. \n",
    "We compute the trajectory STMs at all grid points"
   ]
  },
  {
   "cell_type": "markdown",
   "metadata": {},
   "source": [
    "We first compute the trajectory as well as the STMs. We need to propagate at each impulse, add the impulse, then proceed.\n",
    "\n",
    "The various STMs thus computed will be:\n",
    "\n",
    "$M_{00}, M_{10}, M_{20}, ... M_{n0} \\quad | \\quad M_{nn}, M_{(n+1)n}, M_{(n+2)n}, M_{mn} \\quad | \\quad M_{mm}, M_{(m+1)m}, ...  M_{fm}$\n",
    "\n",
    "Instead we want:\n",
    "\n",
    "$M_{00}, M_{10}, M_{20}, ... M_{f0}$\n",
    "\n",
    "thus some extra manipulations will be necessary."
   ]
  },
  {
   "cell_type": "code",
   "execution_count": 4,
   "metadata": {},
   "outputs": [],
   "source": [
    "def propagate_mit(r0,v0):\n",
    "    # First segment\n",
    "    retval0 = pk.propagate_lagrangian_grid([r0, v0 + DV0], tgrid0, mu=pk.MU_SUN, stm=True)\n",
    "\n",
    "    # Second segment\n",
    "    retval1 = pk.propagate_lagrangian_grid(\n",
    "        [retval0[-1][0][0], retval0[-1][0][1] + DV1], tgrid1, mu=pk.MU_SUN, stm=True\n",
    "    )\n",
    "\n",
    "    # Third segment\n",
    "    retval2 = pk.propagate_lagrangian_grid(\n",
    "        [retval1[-1][0][0], retval1[-1][0][1] + DV2], tgrid2, mu=pk.MU_SUN, stm=True\n",
    "    )\n",
    "\n",
    "    # We assemble all the trajectory in the same grid\n",
    "    stms = [item[1] for item in retval0]\n",
    "    posvels = [item[0] for item in retval0]\n",
    "    Mn0 = retval0[-1][1]\n",
    "    Mmn = retval1[-1][1]\n",
    "    retval1.pop(0)\n",
    "    retval2.pop(0)\n",
    "    for item in retval1:\n",
    "        stms.append(item[1] @ Mn0)\n",
    "        posvels.append(item[0])\n",
    "    for item in retval2:\n",
    "        stms.append(item[1] @ Mmn @ Mn0)\n",
    "        posvels.append(item[0])\n",
    "    posvels[-1][1] = [a+b for a,b in zip(posvels[-1][1], DV3)]\n",
    "    return posvels, stms\n",
    "\n",
    "posvels, stms = propagate_mit(r0, v0)"
   ]
  },
  {
   "cell_type": "code",
   "execution_count": 5,
   "metadata": {},
   "outputs": [
    {
     "data": {
      "image/png": "[encoded data removed]",
      "text/plain": [
       "<Figure size 640x480 with 1 Axes>"
      ]
     },
     "metadata": {},
     "output_type": "display_data"
    }
   ],
   "source": [
    "ax = pk.plot.make_3Daxis()\n",
    "ax.plot([item[0][0] for item in posvels], [item[0][1] for item in posvels], [item[0][2] for item in posvels])\n",
    "ax.scatter3D(posvels[0][0][0], posvels[0][0][1], posvels[0][0][2], 'ko', c='k', alpha=0.5)\n",
    "ax.scatter3D(posvels[103][0][0], posvels[103][0][1], posvels[103][0][2], 'ko', c='k', alpha=0.5)\n",
    "ax.scatter3D(posvels[153][0][0], posvels[153][0][1], posvels[153][0][2], 'ko', c='k', alpha=0.5)\n",
    "ax.scatter3D(posvels[175][0][0], posvels[175][0][1], posvels[175][0][2], 'ko', c='k', alpha=0.5)\n",
    "\n",
    "pk.plot.add_planet_orbit(ax, start, units=1., alpha=0.3)\n",
    "pk.plot.add_planet_orbit(ax, target, units=1., alpha=0.3)\n",
    "ax.axis('off')\n",
    "ax.view_init(90,0)"
   ]
  },
  {
   "cell_type": "code",
   "execution_count": 50,
   "metadata": {},
   "outputs": [],
   "source": [
    "def primer_vector(DVi, DVj, Mji, Mjk):\n",
    "    #M -> (6,6)\n",
    "    #DV -> (3,)\n",
    "    # We apply the definition (see analytical formulas)\n",
    "    Aik = -(np.linalg.inv(Mji[:3,3:]))@Mjk[:3,3:]\n",
    "    Ajk = -(Mji[3:,3:]@Aik + Mjk[3:,3:])\n",
    "    p = - Aik.T@DVi/np.linalg.norm(DVi) - Ajk.T@DVj/np.linalg.norm(DVj)\n",
    "    return p, Aik, Ajk"
   ]
  },
  {
   "cell_type": "code",
   "execution_count": 59,
   "metadata": {},
   "outputs": [],
   "source": [
    "res = []\n",
    "# The gridpoints where the impulses are applied have idxs: 0 (DV0), 103 (DV1), 153 (DV2), 175 (DV3)\n",
    "idx_i = 0\n",
    "idx_j = 153\n",
    "DVi = DV0\n",
    "DVj = DV2\n",
    "for idx_k, _ in enumerate(tgrid):\n",
    "    Mji = stms[idx_j]@np.linalg.inv(stms[idx_i])\n",
    "    Mjk = stms[idx_j]@np.linalg.inv(stms[idx_k])\n",
    "    res.append(np.linalg.norm(primer_vector(DVi, DVj, Mji, Mjk)[0]))"
   ]
  },
  {
   "cell_type": "code",
   "execution_count": 60,
   "metadata": {},
   "outputs": [
    {
     "data": {
      "text/plain": [
       "<matplotlib.collections.LineCollection at 0x16867b390>"
      ]
     },
     "execution_count": 60,
     "metadata": {},
     "output_type": "execute_result"
    },
    {
     "data": {
      "image/png": "[encoded data removed]",
      "text/plain": [
       "<Figure size 640x480 with 1 Axes>"
      ]
     },
     "metadata": {},
     "output_type": "display_data"
    }
   ],
   "source": [
    "plt.plot(res)\n",
    "plt.vlines(0, 0,2)\n",
    "plt.vlines(103, 0,2)\n",
    "plt.vlines(153, 0,2)\n",
    "plt.vlines(175, 0,2)\n",
    "plt.hlines(1, 0,200, 'r')\n"
   ]
  },
  {
   "cell_type": "code",
   "execution_count": 43,
   "metadata": {},
   "outputs": [],
   "source": [
    "Mk0 = stms[25]\n",
    "Mi0 = stms[103]\n",
    "Mj0 = stms[175]"
   ]
  },
  {
   "cell_type": "code",
   "execution_count": 48,
   "metadata": {},
   "outputs": [
    {
     "name": "stdout",
     "output_type": "stream",
     "text": [
      "Total DV now is:  5939.010744217118\n",
      "Total DV was:  5937.927384608611\n"
     ]
    }
   ],
   "source": [
    "p, Aik, Ajk = primer_vector(\n",
    "    DVi, DVj, Mj0 @ np.linalg.inv(Mi0), Mj0 @ np.linalg.inv(Mk0)\n",
    ")\n",
    "dDVk = p / np.linalg.norm(p)\n",
    "dDVi = Aik @ dDVk\n",
    "dDVj = Ajk @ dDVk\n",
    "\n",
    "addedDV = np.linalg.norm(DV0) + np.linalg.norm(DV2)\n",
    "print(\n",
    "    \"Total DV now is: \",\n",
    "    np.linalg.norm(DV1 + dDVi)\n",
    "    + np.linalg.norm(DV3 + dDVj)\n",
    "    + np.linalg.norm(dDVk)\n",
    "    + addedDV,\n",
    ")\n",
    "print(\"Total DV was: \", np.linalg.norm(DV1) + np.linalg.norm(DV3) + addedDV)"
   ]
  },
  {
   "cell_type": "code",
   "execution_count": 11,
   "metadata": {},
   "outputs": [],
   "source": [
    "rf, vf = propagate_mit(r0, v0)[0][-1]\n",
    "rf = np.array(rf)\n",
    "vf = np.array(vf)"
   ]
  },
  {
   "cell_type": "code",
   "execution_count": 12,
   "metadata": {},
   "outputs": [
    {
     "name": "stdout",
     "output_type": "stream",
     "text": [
      "Change in rf (rel.) 5.58230122451689e-09\n",
      "Change in vf (rel.) 5.322543656762306e-09\n"
     ]
    }
   ],
   "source": [
    "# First segment 0-i\n",
    "retval0 = pk.propagate_lagrangian_grid([r0, v0 + DV0], tgrid[:103+1], mu=pk.MU_SUN, stm=False)\n",
    "\n",
    "# Second segment i-k\n",
    "retval1 = pk.propagate_lagrangian_grid(\n",
    "    [retval0[-1][0], retval0[-1][1] + DV1 + dDVi], tgrid[103:125+1], mu=pk.MU_SUN, stm=False\n",
    ")\n",
    "\n",
    "# Third segment k-2\n",
    "retval2 = pk.propagate_lagrangian_grid(\n",
    "    [retval1[-1][0], retval1[-1][1] + dDVk], tgrid[125:153+1], mu=pk.MU_SUN, stm=False\n",
    "    )\n",
    "\n",
    "# Third segment k-2\n",
    "retval3 = pk.propagate_lagrangian_grid(\n",
    "    [retval2[-1][0], retval2[-1][1] + DV2], tgrid[153:176], mu=pk.MU_SUN, stm=False\n",
    "    )\n",
    "\n",
    "rf_new = np.array(retval3[-1][0])\n",
    "vf_new = np.array(retval3[-1][1] + DV3 + dDVj)\n",
    "\n",
    "print(\"Change in rf (rel.)\", np.linalg.norm(rf_new-rf)/ np.linalg.norm(rf))\n",
    "print(\"Change in vf (rel.)\", np.linalg.norm(vf_new-vf)/ np.linalg.norm(vf))\n"
   ]
  },
  {
   "cell_type": "code",
   "execution_count": 13,
   "metadata": {},
   "outputs": [],
   "source": [
    "import pygmo as pg\n",
    "import pygmo_plugins_nonfree as ppnf\n",
    "\n",
    "class my_udp:\n",
    "    def __init__(self, max_DV=10):\n",
    "        self.max_DV = max_DV\n",
    "\n",
    "    # x = [eta, ui, vi, dDVi, uk, vk, dDVk, uj, vj, dDVj]\n",
    "    def get_bounds(self):\n",
    "        lb = [0.1, 0,0,0,0,0,0,0,0,0]\n",
    "        ub = [0.8, 1,1, self.max_DV, 1, 1, self.max_DV, 1, 1, self.max_DV]\n",
    "        return (lb, ub)\n",
    "    \n",
    "    def get_nec(self):\n",
    "        return 6\n",
    "    \n",
    "    \n",
    "    def decode(self, x):\n",
    "        dDVi = pk.utils.uvV2cartesian(x[1:4])\n",
    "        dDVk = pk.utils.uvV2cartesian(x[4:7])\n",
    "        dDVj = pk.utils.uvV2cartesian(x[7:10])\n",
    "        return np.array(dDVi), np.array(dDVk), np.array(dDVj)\n",
    "\n",
    "    def fitness(self, x):\n",
    "        dDVi, dDVk, dDVj = self.decode(x)\n",
    "        r, v = pk.propagate_lagrangian([r0, v0 + DV0], dt0, mu=pk.MU_SUN, stm=False)\n",
    "        r, v = pk.propagate_lagrangian(\n",
    "            [r, v + DV1 + dDVi], dt1 * x[0], mu=pk.MU_SUN, stm=False\n",
    "        )\n",
    "        r, v = pk.propagate_lagrangian(\n",
    "            [r, v + dDVk], dt1 * (1-x[0]), mu=pk.MU_SUN, stm=False\n",
    "        )\n",
    "        r, v = pk.propagate_lagrangian(\n",
    "            [r, v + DV2], dt2, mu=pk.MU_SUN, stm=False\n",
    "        )\n",
    "        rf = r\n",
    "        vf = v\n",
    "        totalDV = np.linalg.norm(DV0) + np.linalg.norm(DV1+dDVi) + np.linalg.norm(dDVk) + np.linalg.norm(DV2) + np.linalg.norm(DV3+dDVj) \n",
    "        ceq = [\n",
    "            (rf[0] - r3[0]) / np.linalg.norm(r3),\n",
    "            (rf[1] - r3[1]) / np.linalg.norm(r3),\n",
    "            (rf[2] - r3[2]) / np.linalg.norm(r3),\n",
    "            (vf[0] + dDVj[0] - v3[0]) / np.linalg.norm(v3),\n",
    "            (vf[1] + dDVj[1] - v3[1]) / np.linalg.norm(v3),\n",
    "            (vf[2] + dDVj[2] - v3[2]) / np.linalg.norm(v3)\n",
    "        ]\n",
    "        return [totalDV] + ceq\n",
    "\n",
    "udp = my_udp(4000)\n",
    "prob = pg.problem(udp)\n",
    "prob.c_tol = 1e-10"
   ]
  },
  {
   "cell_type": "code",
   "execution_count": 14,
   "metadata": {},
   "outputs": [
    {
     "data": {
      "text/plain": [
       "[5937.927384608611,\n",
       " 8.739171201888898e-15,\n",
       " 7.019414619991082e-16,\n",
       " -3.180672249683459e-16,\n",
       " 0.07771641025056704,\n",
       " 0.00015354514884407663,\n",
       " 0.01743008862370961]"
      ]
     },
     "execution_count": 14,
     "metadata": {},
     "output_type": "execute_result"
    }
   ],
   "source": [
    "udp.fitness([0.3,0,0,0,0,0,0,0,0,0])"
   ]
  },
  {
   "cell_type": "code",
   "execution_count": 118,
   "metadata": {},
   "outputs": [
    {
     "name": "stdout",
     "output_type": "stream",
     "text": [
      "Multi-start:\n"
     ]
    },
    {
     "ename": "KeyboardInterrupt",
     "evalue": "",
     "output_type": "error",
     "traceback": [
      "\u001b[0;31m---------------------------------------------------------------------------\u001b[0m",
      "\u001b[0;31mKeyboardInterrupt\u001b[0m                         Traceback (most recent call last)",
      "Cell \u001b[0;32mIn[118], line 27\u001b[0m\n\u001b[1;32m     24\u001b[0m     \u001b[38;5;28;01melse\u001b[39;00m:\n\u001b[1;32m     25\u001b[0m         \u001b[38;5;28mprint\u001b[39m(\u001b[38;5;124m\"\u001b[39m\u001b[38;5;130;01m\\n\u001b[39;00m\u001b[38;5;124m No Solutions found\u001b[39m\u001b[38;5;124m\"\u001b[39m)\n\u001b[0;32m---> 27\u001b[0m best_x \u001b[38;5;241m=\u001b[39m \u001b[43msolve\u001b[49m\u001b[43m(\u001b[49m\u001b[43mudp\u001b[49m\u001b[43m,\u001b[49m\u001b[43m \u001b[49m\u001b[38;5;241;43m1000\u001b[39;49m\u001b[43m,\u001b[49m\u001b[43m \u001b[49m\u001b[38;5;28;43;01mFalse\u001b[39;49;00m\u001b[43m)\u001b[49m\n",
      "Cell \u001b[0;32mIn[118], line 16\u001b[0m, in \u001b[0;36msolve\u001b[0;34m(udp, N, screen)\u001b[0m\n\u001b[1;32m     14\u001b[0m \u001b[38;5;28;01mfor\u001b[39;00m i \u001b[38;5;129;01min\u001b[39;00m \u001b[38;5;28mrange\u001b[39m(N):\n\u001b[1;32m     15\u001b[0m     pop \u001b[38;5;241m=\u001b[39m pg\u001b[38;5;241m.\u001b[39mpopulation(udp, \u001b[38;5;241m20\u001b[39m)\n\u001b[0;32m---> 16\u001b[0m     pop \u001b[38;5;241m=\u001b[39m \u001b[43malgo\u001b[49m\u001b[38;5;241;43m.\u001b[39;49m\u001b[43mevolve\u001b[49m\u001b[43m(\u001b[49m\u001b[43mpop\u001b[49m\u001b[43m)\u001b[49m\n\u001b[1;32m     17\u001b[0m     \u001b[38;5;28;01mif\u001b[39;00m prob\u001b[38;5;241m.\u001b[39mfeasibility_f(pop\u001b[38;5;241m.\u001b[39mchampion_f):\n\u001b[1;32m     18\u001b[0m         res\u001b[38;5;241m.\u001b[39mappend([pop\u001b[38;5;241m.\u001b[39mchampion_f, pop\u001b[38;5;241m.\u001b[39mchampion_x])\n",
      "File \u001b[0;32m~/miniconda3/envs/kep3_devel/lib/python3.13/copy.py:119\u001b[0m, in \u001b[0;36mdeepcopy\u001b[0;34m(x, memo, _nil)\u001b[0m\n\u001b[1;32m    115\u001b[0m d[\u001b[38;5;28mbytearray\u001b[39m] \u001b[38;5;241m=\u001b[39m \u001b[38;5;28mbytearray\u001b[39m\u001b[38;5;241m.\u001b[39mcopy\n\u001b[1;32m    117\u001b[0m \u001b[38;5;28;01mdel\u001b[39;00m d, t\n\u001b[0;32m--> 119\u001b[0m \u001b[38;5;28;01mdef\u001b[39;00m \u001b[38;5;21mdeepcopy\u001b[39m(x, memo\u001b[38;5;241m=\u001b[39m\u001b[38;5;28;01mNone\u001b[39;00m, _nil\u001b[38;5;241m=\u001b[39m[]):\n\u001b[1;32m    120\u001b[0m \u001b[38;5;250m    \u001b[39m\u001b[38;5;124;03m\"\"\"Deep copy operation on arbitrary Python objects.\u001b[39;00m\n\u001b[1;32m    121\u001b[0m \n\u001b[1;32m    122\u001b[0m \u001b[38;5;124;03m    See the module's __doc__ string for more info.\u001b[39;00m\n\u001b[1;32m    123\u001b[0m \u001b[38;5;124;03m    \"\"\"\u001b[39;00m\n\u001b[1;32m    125\u001b[0m     d \u001b[38;5;241m=\u001b[39m \u001b[38;5;28mid\u001b[39m(x)\n",
      "\u001b[0;31mKeyboardInterrupt\u001b[0m: "
     ]
    }
   ],
   "source": [
    "def solve(udp, N=20, screen=False):\n",
    "    snopt72 = \"/Users/dario.izzo/opt/libsnopt7_c.dylib\"\n",
    "    uda = ppnf.snopt7(library=snopt72, minor_version=2, screen_output=screen)\n",
    "    uda.set_integer_option(\"Major iterations limit\", 2000)\n",
    "    uda.set_integer_option(\"Iterations limit\", 20000)\n",
    "    uda.set_numeric_option(\"Major optimality tolerance\", 1e-3)\n",
    "    uda.set_numeric_option(\"Major feasibility tolerance\", 1e-11)\n",
    "\n",
    "    #uda = pg.nlopt(\"slsqp\")\n",
    "    algo = pg.algorithm(uda)\n",
    "    print(\"Multi-start:\")\n",
    "\n",
    "    res = list()\n",
    "    for i in range(N):\n",
    "        pop = pg.population(udp, 20)\n",
    "        pop = algo.evolve(pop)\n",
    "        if prob.feasibility_f(pop.champion_f):\n",
    "            res.append([pop.champion_f, pop.champion_x])\n",
    "            print(i, pop.champion_f[0], end= '\\r')\n",
    "    if len(res) > 0:\n",
    "        best_x = sorted(res, key =  lambda x: x[0][0])[0][1]\n",
    "        print(f\"\\nThe best solution found has a DV of {udp.fitness(best_x)[0]/1000:.8e} km/s\")\n",
    "        return best_x\n",
    "    else:\n",
    "        print(\"\\n No Solutions found\")\n",
    "\n",
    "best_x = solve(udp, 1000, False)"
   ]
  },
  {
   "cell_type": "code",
   "execution_count": 55,
   "metadata": {},
   "outputs": [
    {
     "data": {
      "text/plain": [
       "array([2.76165966e-01, 5.52283195e-01, 9.13177496e-01, 6.88820906e+02,\n",
       "       2.36577375e-02, 6.29843124e-01, 3.52109159e+02, 7.12780973e-01,\n",
       "       9.97574524e-01, 9.02184491e+02])"
      ]
     },
     "execution_count": 55,
     "metadata": {},
     "output_type": "execute_result"
    }
   ],
   "source": [
    "best_x"
   ]
  },
  {
   "cell_type": "code",
   "execution_count": 56,
   "metadata": {},
   "outputs": [],
   "source": [
    "dDVi, dDVk, dDVj = udp.decode(best_x)"
   ]
  },
  {
   "cell_type": "code",
   "execution_count": 68,
   "metadata": {},
   "outputs": [
    {
     "data": {
      "text/plain": [
       "5722.11468396259"
      ]
     },
     "execution_count": 68,
     "metadata": {},
     "output_type": "execute_result"
    }
   ],
   "source": [
    "newDVs = [DV0, DV1+dDVi, dDVk, DV2, DV3+dDVj]\n",
    "sum([np.linalg.norm(it) for it in newDVs])"
   ]
  },
  {
   "cell_type": "code",
   "execution_count": 69,
   "metadata": {},
   "outputs": [
    {
     "data": {
      "text/plain": [
       "5937.927384608611"
      ]
     },
     "execution_count": 69,
     "metadata": {},
     "output_type": "execute_result"
    }
   ],
   "source": [
    "oldDVs = [DV0, DV1, np.array([1e-14,1e-14,1e-14]), DV2, DV3]\n",
    "sum([np.linalg.norm(it) for it in oldDVs])"
   ]
  },
  {
   "cell_type": "code",
   "execution_count": 70,
   "metadata": {},
   "outputs": [],
   "source": [
    "eta = best_x[0]\n",
    "Ts = np.array([dt0, dt1*eta, dt1*(1-eta), dt2])*pk.SEC2DAY"
   ]
  },
  {
   "cell_type": "code",
   "execution_count": 71,
   "metadata": {},
   "outputs": [],
   "source": [
    "alphas, T = pk.utils.direct2alpha(Ts)"
   ]
  },
  {
   "cell_type": "code",
   "execution_count": 72,
   "metadata": {},
   "outputs": [],
   "source": [
    "uvVs = [pk.utils.cartesian2uvV(it) for it in newDVs]\n",
    "uvVs_old = [pk.utils.cartesian2uvV(it) for it in oldDVs]"
   ]
  },
  {
   "cell_type": "code",
   "execution_count": 73,
   "metadata": {},
   "outputs": [],
   "source": [
    "retval = [140, T]\n",
    "for i in range(3):\n",
    "    retval+=[alphas[i], uvVs[i][0], uvVs[i][1], uvVs[i][2]]\n",
    "retval+=[alphas[-1]]"
   ]
  },
  {
   "cell_type": "code",
   "execution_count": 77,
   "metadata": {},
   "outputs": [
    {
     "data": {
      "text/plain": [
       "231.00603271954103"
      ]
     },
     "execution_count": 77,
     "metadata": {},
     "output_type": "execute_result"
    }
   ],
   "source": [
    "np.linalg.norm(DV2)"
   ]
  },
  {
   "cell_type": "code",
   "execution_count": 87,
   "metadata": {},
   "outputs": [
    {
     "data": {
      "text/plain": [
       "[197.6783803290919,\n",
       " 2151.095744228057,\n",
       " 443.99636847169444,\n",
       " 231.01522921314478,\n",
       " 2701.8396622287887]"
      ]
     },
     "execution_count": 87,
     "metadata": {},
     "output_type": "execute_result"
    }
   ],
   "source": [
    "newDVs = [DV0, DV1+dDVi, dDVk, DV2, DV3+dDVj]\n",
    "[np.linalg.norm(it) for it in newDVs]"
   ]
  },
  {
   "cell_type": "code",
   "execution_count": 16,
   "metadata": {},
   "outputs": [],
   "source": [
    "import pykep as pk\n",
    "import numpy as np\n",
    "DVi = np.random.random((3,)) / 2 - 1\n",
    "DVj = np.random.random((3,)) / 2 - 1\n",
    "# Test the primer vector at k=i\n",
    "Mji = np.random.random((6, 6)) / 2 - 1\n",
    "Mjk = Mji\n",
    "p, Aik, Ajk = pk.trajopt.primer_vector(DVi, DVj, Mji, Mjk)"
   ]
  },
  {
   "cell_type": "code",
   "execution_count": 64,
   "metadata": {},
   "outputs": [],
   "source": [
    "DVi = np.random.random((3,)) / 2 - 1\n",
    "DVj = np.random.random((3,)) / 2 - 1\n",
    "\n",
    "# Test the primer vector at k=i\n",
    "Mji = np.random.random((6, 6)) / 2 - 1\n",
    "Mjk = np.random.random((6, 6)) / 2 - 1"
   ]
  },
  {
   "cell_type": "code",
   "execution_count": 71,
   "metadata": {},
   "outputs": [
    {
     "data": {
      "text/plain": [
       "array([[-0.80140392, -0.7342828 , -0.95658503, -0.9518078 , -0.90595501,\n",
       "        -0.72961329],\n",
       "       [-0.79608864, -0.58656762, -0.5316812 , -0.75912261, -0.56271715,\n",
       "        -0.95310751],\n",
       "       [-0.70607634, -0.85556242, -0.99202347, -0.91761746, -0.95060181,\n",
       "        -0.87727527],\n",
       "       [-0.67825648, -0.90617417, -0.90004977, -0.69673072, -0.80632424,\n",
       "        -0.80114554],\n",
       "       [-0.89286774, -0.61525978, -0.75937889, -0.66058482, -0.64036131,\n",
       "        -0.80921232],\n",
       "       [-0.72331341, -0.54443431, -0.72025996, -0.60894679, -0.89422384,\n",
       "        -0.90989814]])"
      ]
     },
     "execution_count": 71,
     "metadata": {},
     "output_type": "execute_result"
    }
   ],
   "source": [
    "Mji"
   ]
  },
  {
   "cell_type": "code",
   "execution_count": 65,
   "metadata": {},
   "outputs": [],
   "source": [
    "p, Aik, Ajk = pk.trajopt.primer_vector(DVi, DVj, Mji, Mjk)"
   ]
  },
  {
   "cell_type": "code",
   "execution_count": 66,
   "metadata": {},
   "outputs": [
    {
     "data": {
      "text/plain": [
       "array([ 0.79724462, -0.80339336,  0.30028151])"
      ]
     },
     "execution_count": 66,
     "metadata": {},
     "output_type": "execute_result"
    }
   ],
   "source": [
    "p"
   ]
  },
  {
   "cell_type": "code",
   "execution_count": 67,
   "metadata": {},
   "outputs": [
    {
     "data": {
      "text/plain": [
       "array([[-3.15582636, -0.46758939, -1.03914171],\n",
       "       [ 1.83003987, -0.34466409,  0.72544895],\n",
       "       [ 0.67701443, -0.27496556, -0.34179198]])"
      ]
     },
     "execution_count": 67,
     "metadata": {},
     "output_type": "execute_result"
    }
   ],
   "source": [
    "Aik"
   ]
  },
  {
   "cell_type": "code",
   "execution_count": 68,
   "metadata": {},
   "outputs": [
    {
     "data": {
      "text/plain": [
       "array([[ 0.53413762, -0.19506491,  0.55575075],\n",
       "       [ 0.57273845, -0.12232608,  0.45832525],\n",
       "       [ 1.23116126, -0.00624593,  0.33676658]])"
      ]
     },
     "execution_count": 68,
     "metadata": {},
     "output_type": "execute_result"
    }
   ],
   "source": [
    "Ajk"
   ]
  },
  {
   "cell_type": "code",
   "execution_count": 12,
   "metadata": {},
   "outputs": [],
   "source": [
    "Mji = np.random.random((6, 6)) / 2 - 1\n",
    "Mjk = np.eye(6)\n",
    "p, Aik, Ajk = pk.trajopt.primer_vector(DVi, DVj, Mji, Mjk)"
   ]
  },
  {
   "cell_type": "code",
   "execution_count": 15,
   "metadata": {},
   "outputs": [
    {
     "data": {
      "text/plain": [
       "array([[-1., -0., -0.],\n",
       "       [-0., -1., -0.],\n",
       "       [-0., -0., -1.]])"
      ]
     },
     "execution_count": 15,
     "metadata": {},
     "output_type": "execute_result"
    }
   ],
   "source": [
    "Ajk"
   ]
  },
  {
   "cell_type": "code",
   "execution_count": null,
   "metadata": {},
   "outputs": [],
   "source": []
  }
 ],
 "metadata": {
  "kernelspec": {
   "display_name": "kep3_devel",
   "language": "python",
   "name": "python3"
  },
  "language_info": {
   "codemirror_mode": {
    "name": "ipython",
    "version": 3
   },
   "file_extension": ".py",
   "mimetype": "text/x-python",
   "name": "python",
   "nbconvert_exporter": "python",
   "pygments_lexer": "ipython3",
   "version": "3.13.1"
  },
  "orig_nbformat": 4
 },
 "nbformat": 4,
 "nbformat_minor": 2
}
