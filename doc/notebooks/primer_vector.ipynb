{
 "cells": [
  {
   "cell_type": "markdown",
   "metadata": {},
   "source": [
    "# Revisiting the Primer Vector\n",
    "\n",
    "In this notebook we revisit the primer vector theory from Lawden from the lens of first order variations. We then construct manually, for a specific test case, the state transition matrices needed to call {func}`pykep.trajopt.primer_vector` and show\n",
    "its use.\n",
    "\n",
    ":::{note}\n",
    "  The developments are here shown in details as they can be extended to more generic cases that use different dynamics and number of impulses. The user must in that case provide the state ransition matrices and DVs on a time grid as constructed below.\n",
    "\n",
    "  ## Theory and notation\n",
    "\n",
    "  ------------\n",
    "\n",
    "  a) Consider the following definition of the State Transition Matrix, $\\mathbf M_{fs}$:\n",
    "\n",
    "  $$\n",
    "  \\mathbf M_{fs} := \\frac{\\partial \\mathbf x_{f}}{\\partial \\mathbf x_{s}}\n",
    "  $$\n",
    "\n",
    "  Note how this definition does not depend on the dynamics. The STM allows to describe variations of the (final) state at $f$ as:\n",
    "\n",
    "  $$\n",
    "  \\delta\\mathbf x_f = \\mathbf M_{fs} \\delta \\mathbf x_s\n",
    "  $$\n",
    "\n",
    "  We also make use of the following definitions for the various blocks of the STM:\n",
    "\n",
    "  $$\n",
    "  \\mathbf M = \\left[ \n",
    "  \\begin{array}{c|c} \n",
    "    \\mathbf M^{rr} & \\mathbf M^{rv} \\\\ \n",
    "    \\hline \n",
    "    \\mathbf M^{vr} & \\mathbf M^{vv} \n",
    "  \\end{array} \n",
    "  \\right] \n",
    "  = \\left[ \n",
    "  \\begin{array}{c|c} \n",
    "    \\mathbf M^{xr} & \\mathbf M^{xv} \n",
    "  \\end{array} \n",
    "  \\right] \n",
    "  = \\left[ \n",
    "  \\begin{array}{c} \n",
    "    \\mathbf M^{rx} \\\\\n",
    "    \\hline \n",
    "    \\mathbf M^{vx} \n",
    "  \\end{array} \n",
    "  \\right] \n",
    "  $$\n",
    "\n",
    "  ---------------\n",
    "\n",
    "  b) Assume now to have a grid of $N$ points along a multiple impulse trajectory and pick three indexes $i,j,k$. \n",
    "\n",
    "  We ask the following question: what happens when we add three small $\\delta\\Delta V$ at the selected nodes?\n",
    "\n",
    "  To answer this question, we compute the variation of the final state due to intermidiate variations at the nodes using the STMs:\n",
    "\n",
    "  $$\n",
    "  \\delta \\mathbf x_f = \\mathbf M_{fi}\\delta\\mathbf x_i + \\mathbf M_{fj}\\delta\\mathbf x_j + \\mathbf M_{fk}\\delta\\mathbf x_k\n",
    "  $$\n",
    "\n",
    "  which we set to zero, as we do not want the trajectory boundary cnstraints to change, only find a better $\\Delta V$:\n",
    "\n",
    "  $$\n",
    "  \\mathbf 0 = \\mathbf M_{fi}\\delta\\mathbf x_i + \\mathbf M_{fj}\\delta\\mathbf x_j + \\mathbf M_{fk}\\delta\\mathbf x_k\n",
    "  $$\n",
    "\n",
    "  which becomes (multiplying by $\\mathbf M_{jf}$):\n",
    "\n",
    "  $$\n",
    "  \\mathbf M_{ji}\\delta\\mathbf x_i + \\mathbf M_{jk}\\delta\\mathbf x_k + \\delta\\mathbf x_j = \\mathbf 0\n",
    "  $$\n",
    "\n",
    "  --------------\n",
    "\n",
    "  c) The state variations $\\delta\\mathbf x$ are, in our case, consequence of three $\\delta\\Delta \\mathbf V$, so that the previous equations becomes:\n",
    "\n",
    "  $$\n",
    "  \\begin{align}\n",
    "  \\mathbf M_i^{rv} \\delta\\Delta \\mathbf V_i + \\mathbf M_k^{rv} \\delta\\Delta \\mathbf V_k = \\mathbf 0\\\\\n",
    "  \\mathbf M_i^{vv} \\delta\\Delta \\mathbf V_i + \\mathbf M_k^{vv} \\delta\\Delta \\mathbf V_k + \\delta\\Delta \\mathbf V_j = \\mathbf 0\\\\\n",
    "  \\end{align}\n",
    "  $$\n",
    "\n",
    "  which becomes:\n",
    "\n",
    "  $$\n",
    "  \\begin{align}\n",
    "  \\delta\\Delta \\mathbf V_i &=& - (\\mathbf M_i^{rv})^{-1}\\mathbf M_k^{rv} \\delta\\Delta \\mathbf V_k = \\mathbf A_{ik}\\delta\\Delta \\mathbf V_k\\\\\n",
    "  \\delta\\Delta \\mathbf V_j &=& - \\big(\\mathbf M_i^{vv}\\mathbf A_{ik} + \\mathbf M_k^{vv} \\big)  \\delta\\Delta \\mathbf V_k = \\mathbf A_{jk}\\delta\\Delta \\mathbf V_k\\\\\n",
    "  \\end{align}\n",
    "  $$\n",
    "\n",
    "  The matrices $\\mathbf A$ are telling us how the three variations of impulsive velocity changes applied in ($i$, $j$, $k$) must be related for the overall trajectory to not change its boundary conditions (i.e. $\\mathbf x_f = \\mathbf 0$).\n",
    "\n",
    "  -------------\n",
    "\n",
    "  d) So far the three indexes we picked (i.e. $i,j,k$) were completely equivalent, now we assume that in $i,j$ a finite $\\Delta V$ is already present, while in $k$ only our additional $\\delta\\Delta \\mathbf V$ will be present.\n",
    "\n",
    "  The total magnitude of the $\\Delta \\mathbf V$ can then be expressed by:\n",
    "\n",
    "  $$\n",
    "  J = \\Delta V_{tot} = |\\mathbf V_i + \\delta\\Delta \\mathbf V_i | + |\\mathbf V_j + \\delta\\Delta \\mathbf V_j | + |\\delta\\Delta \\mathbf V_k|\n",
    "  $$\n",
    "\n",
    "  and its first order variation:\n",
    "\n",
    "  $$\n",
    "  \\delta J = \\frac{\\Delta\\mathbf V_i}{|\\Delta \\mathbf V_i|}\\cdot \\delta\\Delta \\mathbf V_i + \\frac{\\Delta \\mathbf V_j}{|\\Delta \\mathbf V_j|}\\cdot \\delta\\Delta \\mathbf V_j + |\\delta\\Delta \\mathbf V_k|\n",
    "  $$\n",
    "\n",
    "  e) The primer vector\n",
    "\n",
    "  We introduce $\\hat{\\mathbf u} = \\frac{\\delta \\Delta \\mathbf V_k}{|\\delta \\Delta \\mathbf V_k|}$ as the unit vector along the direction of the $\\delta \\Delta V$ added in $k$. Substituting and regrouping we have:\n",
    "\n",
    "  $$\n",
    "  \\delta J = |\\delta\\Delta \\mathbf V_k| \\left(1 + \\left(\\mathbf A_{ik}^T\\frac{\\Delta\\mathbf V_i}{|\\Delta \\mathbf V_i|} + \\mathbf A_{jk}^T\\frac{\\Delta\\mathbf V_j}{|\\Delta \\mathbf V_j|} \\right) \\cdot \\hat {\\mathbf u}\\right)\n",
    "  $$\n",
    "\n",
    "  which we rewrite as:\n",
    "\n",
    "  $$\n",
    "  \\delta J = |\\delta\\Delta \\mathbf V_k| \\left(1 - \\mathbf p\\cdot \\hat {\\mathbf u}\\right)\n",
    "  $$\n",
    "\n",
    "  where we have introduced the vector:\n",
    "\n",
    "  $$\n",
    "  \\boxed{\\mathbf p = - \\mathbf A_{ik}^T\\frac{\\Delta\\mathbf V_i}{|\\Delta \\mathbf V_i|} - \\mathbf A_{jk}^T\\frac{\\Delta\\mathbf V_j}{|\\Delta \\mathbf V_j|}}\n",
    "  $$\n",
    "\n",
    "  which is of fundamental importance in space flight mechanics and is called **primer vector**. \n",
    "\n",
    "  From the expression of $\\delta J$ it appears clear that if we want to be able to decrease the overall $\\Delta V$ adding in $k$ one impulse it is necessary for the norm of the primer vector (computed in $k$) to be larger than 1.\n",
    "\n",
    "  Classically the result of the primer vector is derived starting from Pontryagin maximum principle, here we have presented an original derivation building on the work from Bauregard et al. {cite:p}`beauregard`, which allows to extend the primer vector to new, previously untreated, cases (see the notebook [A primer vector surrogate](<./primer_vector_surrogate.ipynb>))."
   ]
  },
  {
   "cell_type": "markdown",
   "metadata": {},
   "source": [
    "Enough of that, let us start coding now ..."
   ]
  },
  {
   "cell_type": "code",
   "execution_count": 1,
   "metadata": {},
   "outputs": [],
   "source": [
    "import pykep as pk\n",
    "import numpy as np\n",
    "\n",
    "np.set_printoptions(legacy=\"1.25\")\n",
    "import matplotlib.pyplot as plt"
   ]
  },
  {
   "cell_type": "markdown",
   "metadata": {},
   "source": [
    "Let us define a toy problem. In the Keplerian dynamics, we have the following (optimal) four-impulse trajectory which was obtained using the [pl2pl_N_impulses UDP](<./udp_pl2pl_N_impulses.ipynb>)."
   ]
  },
  {
   "cell_type": "code",
   "execution_count": 2,
   "metadata": {},
   "outputs": [],
   "source": [
    "# Problem data\n",
    "start = pk.planet(pk.udpla.jpl_lp(\"earth\"))\n",
    "target = pk.planet(pk.udpla.jpl_lp(\"venus\"))\n",
    "\n",
    "r0 = np.array([-77310392520.5891, -130158155639.95819, 147108.35686371813])\n",
    "v0 = np.array([25126.38412487125, -15324.0242317188, 0.017319637130567115])\n",
    "DV0 = np.array([131.74444122221112, -111.57168023031436, -96.28585532081512])\n",
    "dt0 = (194.835548685441557 + 14.82906396200053) * pk.DAY2SEC\n",
    "\n",
    "r1 = np.array([27011591791.503845, 148104382453.56558, 170324664.00757253])\n",
    "v1 = np.array([-29342.408370789373, 5003.190386138956, 90.37256194347349])\n",
    "DV1 = np.array([2564.347941748753, -50.33730074112419, 941.8690690439083])\n",
    "dt1 = 102.51706391196915 * pk.DAY2SEC\n",
    "\n",
    "r2 = np.array([-120164601140.7896, -15645977554.833487, 4332410828.357129])\n",
    "v2 = np.array([9183.937186025161, -32921.84916571874, -601.1091614146442])\n",
    "DV2 = np.array([-45.308371681150675, 200.42244183402727, -105.55464659459722])\n",
    "dt2 = 47.818323440588806 * pk.DAY2SEC\n",
    "\n",
    "r3 = np.array([-13587329395.522686, -107835070067.45769, -689845413.6226778])\n",
    "v3 = np.array([34510.778377374605, -4515.1531552484175, -2053.713672761537])\n",
    "DV3 = np.array([-2709.616020196663, -5.353417557126704, -607.7075255532395])"
   ]
  },
  {
   "cell_type": "markdown",
   "metadata": {},
   "source": [
    "We now define the grid where the prime vector will be computed, this will include 3 different segments, starting at the first impulse and ending at the third impulse."
   ]
  },
  {
   "cell_type": "code",
   "execution_count": 3,
   "metadata": {},
   "outputs": [],
   "source": [
    "# The grid for the first segment\n",
    "tgrid0 = np.linspace(0, dt0, 104)\n",
    "# The grid for the second segment\n",
    "tgrid1 = np.linspace(dt0, dt0 + dt1, 51)\n",
    "# The grid for the third segment\n",
    "tgrid2 = np.linspace(dt0 + dt1, dt0 + dt1 + dt2, 23)\n",
    "# The overall grid concatented\n",
    "tgrid = np.concatenate((tgrid0, tgrid1[1:], tgrid2[1:]))"
   ]
  },
  {
   "cell_type": "markdown",
   "metadata": {},
   "source": [
    "Note that the three grids are uniform, but with three `dts` all roughly (not exactly) 2 days. \n",
    "We compute the trajectory STMs at all grid points\n",
    "\n",
    "We now first compute the trajectory as well as the STMs. \n",
    "We need to propagate at each impulse, add the impulse, then proceed. The various STMs thus computed will be:\n",
    "\n",
    "$\\underbrace{M_{00}, M_{10}, M_{20}, ... M_{n0}}_{\\text{First grid}} | \\underbrace{M_{nn}, M_{(n+1)n}M_{(n+2)n}, M_{mn}}_{\\text{Second grid}} | \\underbrace{M_{mm}, M_{(m+1)m}, ...  M_{fm}}_{\\text{Third grid}}$\n",
    "\n",
    "Instead we want:\n",
    "\n",
    "$M_{00}, M_{10}, M_{20}, ... M_{f0}$\n",
    "\n",
    "thus some extra manipulations will be necessary."
   ]
  },
  {
   "cell_type": "code",
   "execution_count": 8,
   "metadata": {},
   "outputs": [],
   "source": [
    "# First segment\n",
    "retval0 = pk.propagate_lagrangian_grid([r0, v0 + DV0], tgrid0, mu=pk.MU_SUN, stm=True)\n",
    "\n",
    "# Second segment\n",
    "retval1 = pk.propagate_lagrangian_grid(\n",
    "    [retval0[-1][0][0], retval0[-1][0][1] + DV1], tgrid1, mu=pk.MU_SUN, stm=True\n",
    ")\n",
    "\n",
    "# Third segment\n",
    "retval2 = pk.propagate_lagrangian_grid(\n",
    "    [retval1[-1][0][0], retval1[-1][0][1] + DV2], tgrid2, mu=pk.MU_SUN, stm=True\n",
    ")\n",
    "\n",
    "# We assemble all the trajectory in the same grid (these are the extra manipulations)\n",
    "stms = [item[1] for item in retval0]\n",
    "posvels = [item[0] for item in retval0]\n",
    "Mn0 = retval0[-1][1]\n",
    "Mmn = retval1[-1][1]\n",
    "retval1.pop(0)\n",
    "retval2.pop(0)\n",
    "for item in retval1:\n",
    "    stms.append(item[1] @ Mn0)\n",
    "    posvels.append(item[0])\n",
    "for item in retval2:\n",
    "    stms.append(item[1] @ Mmn @ Mn0)\n",
    "    posvels.append(item[0])\n",
    "posvels[-1][1] = [a + b for a, b in zip(posvels[-1][1], DV3)]\n"
   ]
  },
  {
   "cell_type": "markdown",
   "metadata": {},
   "source": [
    "We visualize now the whole trajectory."
   ]
  },
  {
   "cell_type": "code",
   "execution_count": 9,
   "metadata": {},
   "outputs": [
    {
     "data": {
      "image/png": "[encoded data removed]",
      "text/plain": [
       "<Figure size 640x480 with 1 Axes>"
      ]
     },
     "metadata": {},
     "output_type": "display_data"
    }
   ],
   "source": [
    "ax = pk.plot.make_3Daxis()\n",
    "ax.plot(\n",
    "    [item[0][0] for item in posvels],\n",
    "    [item[0][1] for item in posvels],\n",
    "    [item[0][2] for item in posvels],\n",
    ")\n",
    "ax.scatter3D(\n",
    "    posvels[0][0][0], posvels[0][0][1], posvels[0][0][2], \"ko\", c=\"k\", alpha=0.5\n",
    ")\n",
    "ax.scatter3D(\n",
    "    posvels[103][0][0], posvels[103][0][1], posvels[103][0][2], \"ko\", c=\"k\", alpha=0.5\n",
    ")\n",
    "ax.scatter3D(\n",
    "    posvels[153][0][0], posvels[153][0][1], posvels[153][0][2], \"ko\", c=\"k\", alpha=0.5\n",
    ")\n",
    "ax.scatter3D(\n",
    "    posvels[175][0][0], posvels[175][0][1], posvels[175][0][2], \"ko\", c=\"k\", alpha=0.5\n",
    ")\n",
    "\n",
    "pk.plot.add_planet_orbit(ax, start, units=1.0, alpha=0.3)\n",
    "pk.plot.add_planet_orbit(ax, target, units=1.0, alpha=0.3)\n",
    "ax.axis(\"off\")\n",
    "ax.view_init(90, 0)"
   ]
  },
  {
   "cell_type": "markdown",
   "metadata": {},
   "source": [
    "We are ready to vompute the primer vector."
   ]
  },
  {
   "cell_type": "code",
   "execution_count": 10,
   "metadata": {},
   "outputs": [],
   "source": [
    "res = []\n",
    "# The gridpoints where the impulses are applied have idxs: 0 (DV0), 103 (DV1), 153 (DV2), 175 (DV3)\n",
    "idx_i = 0\n",
    "idx_j = 153\n",
    "DVi = DV0\n",
    "DVj = DV2\n",
    "for idx_k, _ in enumerate(tgrid):\n",
    "    Mji = stms[idx_j] @ np.linalg.inv(stms[idx_i])\n",
    "    Mjk = stms[idx_j] @ np.linalg.inv(stms[idx_k])\n",
    "    res.append(np.linalg.norm(pk.trajopt.primer_vector(DVi, DVj, Mji, Mjk)[0]))"
   ]
  },
  {
   "cell_type": "markdown",
   "metadata": {},
   "source": [
    "... and visualise it."
   ]
  },
  {
   "cell_type": "code",
   "execution_count": 11,
   "metadata": {},
   "outputs": [
    {
     "data": {
      "text/plain": [
       "<matplotlib.legend.Legend at 0x1795d3ed0>"
      ]
     },
     "execution_count": 11,
     "metadata": {},
     "output_type": "execute_result"
    },
    {
     "data": {
      "image/png": "[encoded data removed]",
      "text/plain": [
       "<Figure size 640x480 with 1 Axes>"
      ]
     },
     "metadata": {},
     "output_type": "display_data"
    }
   ],
   "source": [
    "plt.plot(res, label = 'primer vector magnitude')\n",
    "plt.vlines(0, 0.8, 1.2, 'k', linestyles=\"dashed\", label = 'impulse')\n",
    "plt.vlines(103, 0.8, 1.2, 'k', linestyles=\"dashed\")\n",
    "plt.vlines(153, 0.8, 1.2, 'k', linestyles=\"dashed\")\n",
    "plt.vlines(175, 0.8, 1.2, 'k', linestyles=\"dashed\")\n",
    "plt.hlines(1, 0, 200, \"r\")\n",
    "plt.legend(loc=\"lower right\")"
   ]
  },
  {
   "cell_type": "markdown",
   "metadata": {},
   "source": [
    "In this case the trajectory looks quite optimal as shown by the primer vector magnitude being consistently less than one.\n",
    "Note also how at each impulse, except the starting and ending ones, the deriative of the primer vector magnitude flattens.\n",
    "The fact this is not the case at the starting and ending conditions, hints to the suboptimality of the transfer time (e.g. extrapolating the primer vecotr before and/or after the set grid, its magnitude would be larger than one!)."
   ]
  },
  {
   "cell_type": "markdown",
   "metadata": {},
   "source": []
  }
 ],
 "metadata": {
  "kernelspec": {
   "display_name": "kep3_devel",
   "language": "python",
   "name": "python3"
  },
  "language_info": {
   "codemirror_mode": {
    "name": "ipython",
    "version": 3
   },
   "file_extension": ".py",
   "mimetype": "text/x-python",
   "name": "python",
   "nbconvert_exporter": "python",
   "pygments_lexer": "ipython3",
   "version": "3.13.1"
  },
  "orig_nbformat": 4
 },
 "nbformat": 4,
 "nbformat_minor": 2
}
