{
 "cells": [
  {
   "cell_type": "markdown",
   "metadata": {},
   "source": [
    "# Planet to planet low-thrust\n",
    "\n",
    "In this tutorial we show the use of the {class}`pykep.trajopt.direct_pl2pl` to find a low-thrust trajectory connecting two moving planets. \n",
    "\n",
    "The decision vector for this class, compatible with pygmo {cite:p}`pagmo` UDPs (User Defined Problems), is:\n",
    "\n",
    "$$\n",
    "\\mathbf x = [t_0, m_f, V_{sx}^\\infty, V^\\infty_{sy}, V^\\infty_{sz}, V^\\infty_{fx}, V^\\infty_{fy}, V^\\infty_{fz}, u_{x0}, u_{y0}, u_{z0}, u_{x1}, u_{y1}, u_{z1}, ..., T_{tof}]\n",
    "$$\n",
    "\n",
    "containing the starting epoch $t_0$ as a MJD2000, the final mass $m_f$ as well as the starting and final $V^{\\infty}$, throttles and the time-of-flight $T_{tof}$.\n",
    "\n",
    ":::{note}\n",
    "This notebook makes use of the commercial solver SNOPT 7 and to run needs a valid `snopt_7_c` library installed in the system. In case SNOPT7 is not available, you can still run the notebook using, for example `uda = pg.algorithm.nlopt(\"slsqp\")` with minor modifications.\n",
    "\n",
    "Basic imports:"
   ]
  },
  {
   "cell_type": "code",
   "execution_count": 1,
   "metadata": {},
   "outputs": [],
   "source": [
    "import pykep as pk\n",
    "import numpy as np\n",
    "import time\n",
    "import pygmo as pg\n",
    "import pygmo_plugins_nonfree as ppnf\n",
    "import time\n",
    "\n",
    "from matplotlib import pyplot as plt"
   ]
  },
  {
   "cell_type": "markdown",
   "metadata": {},
   "source": [
    "We start defining the problem data."
   ]
  },
  {
   "cell_type": "code",
   "execution_count": 2,
   "metadata": {},
   "outputs": [],
   "source": [
    "# Problem data\n",
    "\n",
    "#####\n",
    "# ##  Test 1\n",
    "# mu = pk.MU_SUN\n",
    "# max_thrust = 0.6\n",
    "# isp = 3000\n",
    "# tof = 250.0\n",
    "\n",
    "# posvel0 = [\n",
    "#     [34110913367.783306, -139910016918.87585, -14037825669.025244],\n",
    "#     [29090.9902134693, 10000.390168313803, 1003.3858682643288],\n",
    "# ]\n",
    "# posvelf = [\n",
    "#     [-159018773159.22266, -18832495968.945133, 15781467087.350443],\n",
    "#     [2781.182556622003, -28898.40730995848, -483.4533989771214],\n",
    "# ]\n",
    "\n",
    "# # Define initial and target\n",
    "# p1 = pk.planet(pk.udpla.keplerian(when=pk.epoch(0), posvel = posvel0, mu_central_body=mu))\n",
    "# p2 = pk.planet(pk.udpla.keplerian(when=pk.epoch(tof), posvel = posvelf, mu_central_body=mu))\n",
    "\n",
    "# # Initial state\n",
    "# ms = 1500.0\n",
    "\n",
    "# # Number of segments\n",
    "# nseg = 16\n",
    "\n",
    "\n",
    "####\n",
    "## Testcase 2 (less easy, homotopy needed) [Earth-Mars with]\n",
    "mu = pk.MU_SUN\n",
    "max_thrust = 0.6\n",
    "isp = 3000\n",
    "tof = 550.0\n",
    "\n",
    "posvel0 = [\n",
    "    [-125036811000.422, -83670919168.87277, 2610252.8064399767],\n",
    "    [16081.829029183446, -24868.923007449284, 0.7758272135425942]\n",
    "]\n",
    "posvelf = [\n",
    "    [-169327023332.1986, -161931354587.78766, 763967345.9733696],\n",
    "    [17656.297796509956, -15438.116653052988, -756.9165272457421]\n",
    "]\n",
    "\n",
    "# Define initial and target\n",
    "p1 = pk.planet(pk.udpla.keplerian(when=pk.epoch(0), posvel = posvel0, mu_central_body=mu))\n",
    "p2 = pk.planet(pk.udpla.keplerian(when=pk.epoch(tof), posvel = posvelf, mu_central_body=mu))\n",
    "\n",
    "# Initial state\n",
    "ms = 1500.0\n",
    "\n",
    "# Number of segments\n",
    "nseg = 8\n"
   ]
  },
  {
   "cell_type": "markdown",
   "metadata": {},
   "source": [
    "We here instantiate two different versions of the same UDP (User Defined Problem), with analytical gradients and without. \n",
    "\n",
    "For the purpose of this simple notebook we choose a relatively simple Earth to Mars transfer with an initial $V_{\\infty}$ of 3 km/s."
   ]
  },
  {
   "cell_type": "code",
   "execution_count": 3,
   "metadata": {},
   "outputs": [],
   "source": [
    "udp_g = pk.trajopt.direct_pl2pl(\n",
    "        pls=p1,\n",
    "        plf=p2,\n",
    "        ms=ms,\n",
    "        mu=mu,\n",
    "        max_thrust=max_thrust,\n",
    "        isp=isp,\n",
    "        t0_bounds=[0.0, 0.0],\n",
    "        tof_bounds=[tof,tof],\n",
    "        mf_bounds=[ms*0.5, ms],\n",
    "        vinfs=0.,\n",
    "        vinff=0.,\n",
    "        nseg=nseg,\n",
    "        cut=0.6,\n",
    "        mass_scaling=ms,\n",
    "        r_scaling=pk.AU,\n",
    "        v_scaling=pk.EARTH_VELOCITY,\n",
    "        with_gradient=False,\n",
    "        high_fidelity=True\n",
    ")"
   ]
  },
  {
   "cell_type": "markdown",
   "metadata": {},
   "source": [
    "## Analytical performances of the analytical gradient\n",
    "\n",
    "And we take a quick look at the performances of the analytical gradient with respect to the numerically computed one."
   ]
  },
  {
   "cell_type": "code",
   "execution_count": 4,
   "metadata": {},
   "outputs": [],
   "source": [
    "# We need to generste a random chromosomes compatible with the UDP where to test the gradient.\n",
    "prob_g = pg.problem(udp_g)\n",
    "pop_g = pg.population(prob_g, 1)"
   ]
  },
  {
   "cell_type": "markdown",
   "metadata": {},
   "source": [
    "First the analytical gradient:"
   ]
  },
  {
   "cell_type": "code",
   "execution_count": 5,
   "metadata": {},
   "outputs": [
    {
     "name": "stdout",
     "output_type": "stream",
     "text": [
      "646 μs ± 13.9 μs per loop (mean ± std. dev. of 7 runs, 1,000 loops each)\n"
     ]
    }
   ],
   "source": [
    "%%timeit\n",
    "udp_g.gradient(pop_g.champion_x)"
   ]
  },
  {
   "cell_type": "markdown",
   "metadata": {},
   "source": [
    "Then a simple numerical gradient based on finite differences:"
   ]
  },
  {
   "cell_type": "code",
   "execution_count": 6,
   "metadata": {},
   "outputs": [
    {
     "name": "stdout",
     "output_type": "stream",
     "text": [
      "1.89 ms ± 19.4 μs per loop (mean ± std. dev. of 7 runs, 1,000 loops each)\n"
     ]
    }
   ],
   "source": [
    "%%timeit\n",
    "pg.estimate_gradient(udp_g.fitness, pop_g.champion_x)"
   ]
  },
  {
   "cell_type": "markdown",
   "metadata": {},
   "source": [
    "Then a higher order numerical gradient:"
   ]
  },
  {
   "cell_type": "code",
   "execution_count": 7,
   "metadata": {},
   "outputs": [
    {
     "name": "stdout",
     "output_type": "stream",
     "text": [
      "5.64 ms ± 126 μs per loop (mean ± std. dev. of 7 runs, 100 loops each)\n"
     ]
    }
   ],
   "source": [
    "%%timeit\n",
    "pg.estimate_gradient_h(udp_g.fitness, pop_g.champion_x)"
   ]
  },
  {
   "cell_type": "markdown",
   "metadata": {},
   "source": [
    "The analytical gradient its exact and faster, seems like a no brainer to use it. \n",
    "\n",
    "In reality, the effects on the optimization technique used are not straightforward, making the option to use numerical gradients still interesting in some, albeit rare, cases."
   ]
  },
  {
   "cell_type": "markdown",
   "metadata": {},
   "source": [
    "## Solving the low-thrust transfer\n",
    "\n",
    "We define (again) the optimization problem, and set a tolerance for *pagmo* to be able to judge the relative value of two individuals. \n",
    "\n",
    ":::{note}\n",
    "This tolerance has a different role from the numerical tolerance set in the particular algorithm chosen to solve the problem and is only used by the *pagmo* machinery to decide outside the optimizer whether the new proposed indivdual is better than what was the previous *champion*."
   ]
  },
  {
   "cell_type": "code",
   "execution_count": 8,
   "metadata": {},
   "outputs": [],
   "source": [
    "prob_g = pg.problem(udp_g)\n",
    "prob_g.c_tol = 1e-6"
   ]
  },
  {
   "cell_type": "markdown",
   "metadata": {},
   "source": [
    "... and we define an optimization algorithm."
   ]
  },
  {
   "cell_type": "code",
   "execution_count": 9,
   "metadata": {},
   "outputs": [],
   "source": [
    "snopt72 = \"/Users/harry.holt/opt/libsnopt7_c.dylib\"\n",
    "uda = ppnf.snopt7(library=snopt72, minor_version=2, screen_output=False)\n",
    "uda.set_integer_option(\"Major iterations limit\", 2000)\n",
    "uda.set_integer_option(\"Iterations limit\", 20000)\n",
    "uda.set_numeric_option(\"Major optimality tolerance\", 1e-3)\n",
    "uda.set_numeric_option(\"Major feasibility tolerance\", 1e-11)\n",
    "\n",
    "algo = pg.algorithm(uda)"
   ]
  },
  {
   "cell_type": "code",
   "execution_count": 10,
   "metadata": {},
   "outputs": [],
   "source": [
    "# uda = pg.nlopt(\"slsqp\")\n",
    "# algo = pg.algorithm(uda)"
   ]
  },
  {
   "cell_type": "code",
   "execution_count": 11,
   "metadata": {},
   "outputs": [],
   "source": [
    "# ip = pg.ipopt()\n",
    "# ip.set_numeric_option(\"tol\", 1E-9) # Change the relative convergence tolerance\n",
    "# ip.set_integer_option(\"max_iter\", 500) # Change the maximum iterations\n",
    "# ip.set_integer_option(\"print_level\", 0) # Makes Ipopt unverbose\n",
    "# ip.set_string_option(\"nlp_scaling_method\", \"none\") # Removes any scaling made in auto mode\n",
    "# ip.set_string_option(\"mu_strategy\", \"adaptive\") # Alternative is to tune the initial mu value\n",
    "# algo = pg.algorithm(ip)"
   ]
  },
  {
   "cell_type": "markdown",
   "metadata": {},
   "source": [
    "We solve the problem from random initial guess ten times and only save the result if a feasible solution is found (as defined by the criterias above)"
   ]
  },
  {
   "cell_type": "code",
   "execution_count": 12,
   "metadata": {},
   "outputs": [
    {
     "name": "stdout",
     "output_type": "stream",
     "text": [
      ".\n",
      "Best mass is:  1228.3314575418306\n",
      "Worst mass is:  1228.3314575418306\n"
     ]
    }
   ],
   "source": [
    "masses = []\n",
    "xs = []\n",
    "for i in range(10):\n",
    "    pop_g = pg.population(prob_g, 1)\n",
    "    pop_g = algo.evolve(pop_g)\n",
    "    if(prob_g.feasibility_f(pop_g.champion_f)):\n",
    "        print(\".\", end=\"\")\n",
    "        masses.append(pop_g.champion_x[1])\n",
    "        xs.append(pop_g.champion_x)\n",
    "        break\n",
    "    else:\n",
    "        print(\"x\", end =\"\")\n",
    "print(\"\\nBest mass is: \", np.max(masses))\n",
    "print(\"Worst mass is: \", np.min(masses))\n",
    "best_idx = np.argmax(masses)"
   ]
  },
  {
   "cell_type": "markdown",
   "metadata": {},
   "source": [
    "And we plot the trajectory found:"
   ]
  },
  {
   "cell_type": "code",
   "execution_count": 13,
   "metadata": {},
   "outputs": [
    {
     "data": {
      "text/plain": [
       "[np.float64(1228.3314575418306)]"
      ]
     },
     "execution_count": 13,
     "metadata": {},
     "output_type": "execute_result"
    }
   ],
   "source": [
    "masses"
   ]
  },
  {
   "cell_type": "code",
   "execution_count": 14,
   "metadata": {},
   "outputs": [
    {
     "name": "stdout",
     "output_type": "stream",
     "text": [
      "\n",
      "Low-thrust NEP transfer\n",
      "Departure: unknown UDPLA\n",
      "Arrival: unknown UDPLA\n",
      "\n",
      "Launch epoch: 0.00000 MJD2000, a.k.a. 2000-01-01T00:00:00.000000\n",
      "Arrival epoch: 550.00000 MJD2000, a.k.a. 2001-07-04T00:00:00.000000\n",
      "Time of flight (days): 550.00000 \n",
      "\n",
      "Launch DV (km/s) 0.00000000 - [-0.0,-0.0,-0.0]\n",
      "Arrival DV (km/s) 0.00000000 - [-0.0,-0.0,-0.0]\n",
      "Final mass (kg): 1228.3314575418306\n",
      "\n",
      "Details on the low-thrust leg: \n",
      "Number of segments: 8\n",
      "Number of fwd segments: 4\n",
      "Number of bck segments: 4\n",
      "Maximum thrust: 0.6\n",
      "Central body gravitational parameter: 1.3271244004127942e+20\n",
      "Specific impulse: 3000\n",
      "\n",
      "Time of flight: 47520000\n",
      "Initial mass: 1500\n",
      "Final mass: 1228.3314575418306\n",
      "State at departure: [[-125036811000.422, -83670919168.87277, 2610252.8064399767], [16081.829029183446, -24868.923007449284, 0.7758272135425942]]\n",
      "State at arrival: [[-169327023332.1986, -161931354587.78766, 763967345.9733696], [17656.297796509956, -15438.116653052988, -756.9165272457421]]\n",
      "Throttles values: [0.2837943802261933, -0.11746907891228256, -0.06405800808533083, 0.3857246468683554, 0.34670636864065707, -0.03734084189961231, -0.0896077389800868, 0.45586507846058744, 0.06931060651610714, -0.4378595917585939, 0.22467283204066538, 0.12474137629659303, -4.000007733695382e-05, -1.335436281487784e-05, 6.433425564678778e-06, -4.418137535815026e-05, -5.8405918233898606e-05, 3.899760518593677e-06, -8.223657233658743e-06, -9.992463676405285e-05, -1.426091232034409e-05, 0.20676225568434065, -0.3622628317614968, -0.10920098147258116]\n",
      "\n",
      "Mismatch constraints: [379.6595969200134, 146.94235229492188, 37.88379144668579, 8.682975021656603e-06, 7.826544378986e-05, 1.4035083495400613e-06, -7.096983790688682e-05]\n",
      "Throttle constraints: [-0.9015583368516704, -0.7296168522685195, -0.7793535231793685, -0.7422406854874563, -0.9999999981802659, -0.9999999946215467, -0.9999999897440648, -0.8140901559938898]\n",
      "\n",
      "\n"
     ]
    }
   ],
   "source": [
    "udp_g.pretty(xs[best_idx])"
   ]
  },
  {
   "cell_type": "code",
   "execution_count": 15,
   "metadata": {},
   "outputs": [
    {
     "data": {
      "image/png": "[encoded data removed]",
      "text/plain": [
       "<Figure size 700x700 with 1 Axes>"
      ]
     },
     "metadata": {},
     "output_type": "display_data"
    }
   ],
   "source": [
    "ax = udp_g.plot(xs[best_idx], show_gridpoints=True)\n",
    "ax.view_init(90, 0)"
   ]
  }
 ],
 "metadata": {
  "kernelspec": {
   "display_name": "kep3_devel",
   "language": "python",
   "name": "python3"
  },
  "language_info": {
   "codemirror_mode": {
    "name": "ipython",
    "version": 3
   },
   "file_extension": ".py",
   "mimetype": "text/x-python",
   "name": "python",
   "nbconvert_exporter": "python",
   "pygments_lexer": "ipython3",
   "version": "3.13.1"
  },
  "orig_nbformat": 4
 },
 "nbformat": 4,
 "nbformat_minor": 2
}
