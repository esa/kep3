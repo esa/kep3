{
 "cells": [
  {
   "cell_type": "markdown",
   "metadata": {},
   "source": [
    "# Planet to planet low-thrust\n",
    "\n",
    "In this tutorial we show the use of the {class}`pykep.trajopt.direct_pl2pl` to find a low-thrust (zero-order hold continous thrust) trajectory connecting two moving planets. \n",
    "\n",
    "The decision vector for this class, compatible with pygmo {cite:p}`pagmo` UDPs (User Defined Problems), is:\n",
    "\n",
    "$$\n",
    "\\mathbf x = [t_0, m_f, V_{sx}^\\infty, V^\\infty_{sy}, V^\\infty_{sz}, V^\\infty_{fx}, V^\\infty_{fy}, V^\\infty_{fz}, u_{x0}, u_{y0}, u_{z0}, u_{x1}, u_{y1}, u_{z1}, ..., T_{tof}]\n",
    "$$\n",
    "\n",
    "containing the starting epoch $t_0$ as a MJD2000, the final mass $m_f$ as well as the starting and final $V^{\\infty}$, throttles and the time-of-flight $T_{tof}$.\n",
    "\n",
    ":::{note}\n",
    "This notebook makes use of the commercial solver SNOPT 7 and to run needs a valid `snopt_7_c` library installed in the system. In case SNOPT7 is not available, you can still run the notebook using, for example `uda = pg.algorithm.nlopt(\"slsqp\")` with minor modifications.\n",
    "\n",
    "Basic imports:"
   ]
  },
  {
   "cell_type": "code",
   "execution_count": 15,
   "metadata": {},
   "outputs": [],
   "source": [
    "import pykep as pk\n",
    "import numpy as np\n",
    "import time\n",
    "import pygmo as pg\n",
    "import pygmo_plugins_nonfree as ppnf\n",
    "import time\n",
    "\n",
    "from matplotlib import pyplot as plt"
   ]
  },
  {
   "cell_type": "markdown",
   "metadata": {},
   "source": [
    "We start defining the problem data. For the purpose of this simple notebook we choose a simple Earth to Mars transfer."
   ]
  },
  {
   "cell_type": "code",
   "execution_count": 16,
   "metadata": {},
   "outputs": [],
   "source": [
    "# Problem data\n",
    "\n",
    "####\n",
    "## Testcase Earth-Mars with\n",
    "mu = pk.MU_SUN\n",
    "max_thrust = 0.3\n",
    "isp = 3000\n",
    "veff = isp * pk.G0\n",
    "tof = 550.0\n",
    "\n",
    "posvel0 = [\n",
    "    [-125036811000.422, -83670919168.87277, 2610252.8064399767],\n",
    "    [16081.829029183446, -24868.923007449284, 0.7758272135425942]\n",
    "]\n",
    "posvelf = [\n",
    "    [-169327023332.1986, -161931354587.78766, 763967345.9733696],\n",
    "    [17656.297796509956, -15438.116653052988, -756.9165272457421]\n",
    "]\n",
    "\n",
    "# Define initial and target\n",
    "p1 = pk.planet(pk.udpla.keplerian(when=pk.epoch(0), posvel = posvel0, mu_central_body=mu))\n",
    "p2 = pk.planet(pk.udpla.keplerian(when=pk.epoch(tof), posvel = posvelf, mu_central_body=mu))\n",
    "\n",
    "# Initial state\n",
    "ms = 1500.0\n",
    "\n",
    "# Number of segments\n",
    "nseg = 4\n"
   ]
  },
  {
   "cell_type": "markdown",
   "metadata": {},
   "source": [
    "We here instantiate two different versions of the same UDP (User Defined Problem), with analytical gradients and without. \n",
    "\n",
    "For the purpose of this simple notebook we choose a relatively simple Earth to Mars transfer with an initial $V_{\\infty}$ of 3 km/s."
   ]
  },
  {
   "cell_type": "code",
   "execution_count": 17,
   "metadata": {},
   "outputs": [],
   "source": [
    "udp_g = pk.trajopt.direct_pl2pl(\n",
    "        pls=p1,\n",
    "        plf=p2,\n",
    "        ms=ms,\n",
    "        mu=mu,\n",
    "        max_thrust=max_thrust,\n",
    "        veff=veff,\n",
    "        t0_bounds=[0.0, 0.0],\n",
    "        tof_bounds=[tof,tof],\n",
    "        mf_bounds=[ms*0.5, ms],\n",
    "        vinfs=0.,\n",
    "        vinff=0.,\n",
    "        nseg=nseg,\n",
    "        cut=0.6,\n",
    "        mass_scaling=ms,\n",
    "        r_scaling=pk.AU,\n",
    "        v_scaling=pk.EARTH_VELOCITY,\n",
    "        with_gradient=False,\n",
    "        high_fidelity=True\n",
    ")"
   ]
  },
  {
   "cell_type": "markdown",
   "metadata": {},
   "source": [
    "## Analytical performances of the analytical gradient\n",
    "\n",
    "And we take a quick look at the performances of the analytical gradient with respect to the numerically computed one."
   ]
  },
  {
   "cell_type": "code",
   "execution_count": 18,
   "metadata": {},
   "outputs": [],
   "source": [
    "# We need to generste a random chromosomes compatible with the UDP where to test the gradient.\n",
    "prob_g = pg.problem(udp_g)\n",
    "pop_g = pg.population(prob_g, 1)"
   ]
  },
  {
   "cell_type": "markdown",
   "metadata": {},
   "source": [
    "First the analytical gradient:"
   ]
  },
  {
   "cell_type": "code",
   "execution_count": 19,
   "metadata": {},
   "outputs": [
    {
     "name": "stdout",
     "output_type": "stream",
     "text": [
      "572 μs ± 30 μs per loop (mean ± std. dev. of 7 runs, 1,000 loops each)\n"
     ]
    }
   ],
   "source": [
    "%%timeit\n",
    "udp_g.gradient(pop_g.champion_x)"
   ]
  },
  {
   "cell_type": "markdown",
   "metadata": {},
   "source": [
    "Then a simple numerical gradient based on finite differences:"
   ]
  },
  {
   "cell_type": "code",
   "execution_count": 20,
   "metadata": {},
   "outputs": [
    {
     "name": "stdout",
     "output_type": "stream",
     "text": [
      "1.12 ms ± 25.8 μs per loop (mean ± std. dev. of 7 runs, 1,000 loops each)\n"
     ]
    }
   ],
   "source": [
    "%%timeit\n",
    "pg.estimate_gradient(udp_g.fitness, pop_g.champion_x)"
   ]
  },
  {
   "cell_type": "markdown",
   "metadata": {},
   "source": [
    "Then a higher order numerical gradient:"
   ]
  },
  {
   "cell_type": "code",
   "execution_count": 21,
   "metadata": {},
   "outputs": [
    {
     "name": "stdout",
     "output_type": "stream",
     "text": [
      "3.33 ms ± 220 μs per loop (mean ± std. dev. of 7 runs, 100 loops each)\n"
     ]
    }
   ],
   "source": [
    "%%timeit\n",
    "pg.estimate_gradient_h(udp_g.fitness, pop_g.champion_x)"
   ]
  },
  {
   "cell_type": "markdown",
   "metadata": {},
   "source": [
    "The analytical gradient its exact and faster, seems like a no brainer to use it. \n",
    "\n",
    "In reality, the effects on the optimization technique used are not straightforward, making the option to use numerical gradients still interesting in some, albeit rare, cases."
   ]
  },
  {
   "cell_type": "markdown",
   "metadata": {},
   "source": [
    "## Solving the low-thrust transfer\n",
    "\n",
    "We define (again) the optimization problem, and set a tolerance for *pagmo* to be able to judge the relative value of two individuals. \n",
    "\n",
    ":::{note}\n",
    "This tolerance has a different role from the numerical tolerance set in the particular algorithm chosen to solve the problem and is only used by the *pagmo* machinery to decide outside the optimizer whether the new proposed indivdual is better than what was the previous *champion*."
   ]
  },
  {
   "cell_type": "code",
   "execution_count": 22,
   "metadata": {},
   "outputs": [],
   "source": [
    "prob_g = pg.problem(udp_g)\n",
    "prob_g.c_tol = 1e-6"
   ]
  },
  {
   "cell_type": "markdown",
   "metadata": {},
   "source": [
    "... and we define an optimization algorithm."
   ]
  },
  {
   "cell_type": "code",
   "execution_count": null,
   "metadata": {},
   "outputs": [],
   "source": [
    "snopt72 = \"/Users/dario.izzo/opt/libsnopt7_c.dylib\"\n",
    "uda = ppnf.snopt7(library=snopt72, minor_version=2, screen_output=False)\n",
    "uda.set_integer_option(\"Major iterations limit\", 2000)\n",
    "uda.set_integer_option(\"Iterations limit\", 20000)\n",
    "uda.set_numeric_option(\"Major optimality tolerance\", 1e-3)\n",
    "uda.set_numeric_option(\"Major feasibility tolerance\", 1e-11)\n",
    "\n",
    "algo = pg.algorithm(uda)"
   ]
  },
  {
   "cell_type": "code",
   "execution_count": 24,
   "metadata": {},
   "outputs": [],
   "source": [
    "# uda = pg.nlopt(\"slsqp\")\n",
    "# algo = pg.algorithm(uda)"
   ]
  },
  {
   "cell_type": "code",
   "execution_count": 25,
   "metadata": {},
   "outputs": [],
   "source": [
    "# ip = pg.ipopt()\n",
    "# ip.set_numeric_option(\"tol\", 1E-9) # Change the relative convergence tolerance\n",
    "# ip.set_integer_option(\"max_iter\", 500) # Change the maximum iterations\n",
    "# ip.set_integer_option(\"print_level\", 0) # Makes Ipopt unverbose\n",
    "# ip.set_string_option(\"nlp_scaling_method\", \"none\") # Removes any scaling made in auto mode\n",
    "# ip.set_string_option(\"mu_strategy\", \"adaptive\") # Alternative is to tune the initial mu value\n",
    "# algo = pg.algorithm(ip)"
   ]
  },
  {
   "cell_type": "markdown",
   "metadata": {},
   "source": [
    "We solve the problem from random initial guess ten times and only save the result if a feasible solution is found (as defined by the criterias above)"
   ]
  },
  {
   "cell_type": "code",
   "execution_count": 26,
   "metadata": {},
   "outputs": [
    {
     "name": "stdout",
     "output_type": "stream",
     "text": [
      ".\n",
      "Best mass is:  1196.12063419\n",
      "Worst mass is:  1196.12063419\n"
     ]
    }
   ],
   "source": [
    "masses = []\n",
    "xs = []\n",
    "for i in range(10):\n",
    "    pop_g = pg.population(prob_g, 1)\n",
    "    pop_g = algo.evolve(pop_g)\n",
    "    if(prob_g.feasibility_f(pop_g.champion_f)):\n",
    "        print(\".\", end=\"\")\n",
    "        masses.append(pop_g.champion_x[1])\n",
    "        xs.append(pop_g.champion_x)\n",
    "        break\n",
    "    else:\n",
    "        print(\"x\", end =\"\")\n",
    "print(\"\\nBest mass is: \", np.max(masses))\n",
    "print(\"Worst mass is: \", np.min(masses))\n",
    "best_idx = np.argmax(masses)"
   ]
  },
  {
   "cell_type": "markdown",
   "metadata": {},
   "source": [
    "And we plot the trajectory found:"
   ]
  },
  {
   "cell_type": "code",
   "execution_count": 27,
   "metadata": {},
   "outputs": [
    {
     "name": "stdout",
     "output_type": "stream",
     "text": [
      "\n",
      "Low-thrust NEP transfer\n",
      "Departure: unknown UDPLA\n",
      "Arrival: unknown UDPLA\n",
      "\n",
      "Launch epoch: 0.00000 MJD2000, a.k.a. 2000-01-01T00:00:00.000000\n",
      "Arrival epoch: 550.00000 MJD2000, a.k.a. 2001-07-04T00:00:00.000000\n",
      "Time of flight (days): 550.00000 \n",
      "\n",
      "Launch DV (km/s) 0.00000000 - [-0.0,-0.0,-0.0]\n",
      "Arrival DV (km/s) 0.00000000 - [-0.0,-0.0,-0.0]\n",
      "Final mass (kg): 1196.1206341939621\n",
      "\n",
      "Details on the low-thrust leg: \n",
      "Number of segments: 4\n",
      "Number of fwd segments: 2\n",
      "Number of bck segments: 2\n",
      "Maximum thrust: 0.3\n",
      "Central body gravitational parameter: 1.3271244004127942e+20\n",
      "Specific impulse: 29419.949999999997\n",
      "\n",
      "Time of flight: 47520000\n",
      "Initial mass: 1500\n",
      "Final mass: 1196.1206341939621\n",
      "State at departure: [[-125036811000.422, -83670919168.87277, 2610252.8064399767], [16081.829029183446, -24868.923007449284, 0.7758272135425942]]\n",
      "State at arrival: [[-169327023332.1986, -161931354587.78766, 763967345.9733696], [17656.297796509956, -15438.116653052988, -756.9165272457421]]\n",
      "Throttles values: [0.914502859047611, 0.37037036429600856, -0.1628198824708989, -0.5766008167750486, 0.7923743354512867, 0.19918436532077213, -0.030047096620356525, -0.017201006150337955, 0.0054774810712432415, 0.16692546831162094, -0.42907761228266256, -0.11015034981592384]\n",
      "\n",
      "Mismatch constraints: [2.0175914764404297, -1.889923095703125, -0.660738468170166, -1.3527824194170535e-07, 5.62747118237894e-07, 5.400443114922382e-08, -4.860785338678397e-07]\n",
      "Throttle constraints: [8.285017116804738e-11, 7.757601228064459e-10, -0.9987712945732171, -0.7758951911021847]\n",
      "\n",
      "\n"
     ]
    }
   ],
   "source": [
    "udp_g.pretty(xs[best_idx])"
   ]
  },
  {
   "cell_type": "code",
   "execution_count": 28,
   "metadata": {},
   "outputs": [
    {
     "data": {
      "image/png": "[encoded data removed]",
      "text/plain": [
       "<Figure size 700x700 with 1 Axes>"
      ]
     },
     "metadata": {},
     "output_type": "display_data"
    }
   ],
   "source": [
    "ax = udp_g.plot(xs[best_idx], show_gridpoints=True)\n",
    "ax.view_init(90, 0)"
   ]
  }
 ],
 "metadata": {
  "kernelspec": {
   "display_name": "kep3_devel",
   "language": "python",
   "name": "python3"
  },
  "language_info": {
   "codemirror_mode": {
    "name": "ipython",
    "version": 3
   },
   "file_extension": ".py",
   "mimetype": "text/x-python",
   "name": "python",
   "nbconvert_exporter": "python",
   "pygments_lexer": "ipython3",
   "version": "3.13.7"
  },
  "orig_nbformat": 4
 },
 "nbformat": 4,
 "nbformat_minor": 2
}
