{
 "cells": [
  {
   "cell_type": "code",
   "execution_count": 25,
   "metadata": {},
   "outputs": [],
   "source": [
    "import pykep as pk\n",
    "import numpy as np\n",
    "import heyoka as hy\n"
   ]
  },
  {
   "cell_type": "code",
   "execution_count": 27,
   "metadata": {},
   "outputs": [],
   "source": [
    "TaylorIntegrator = hy.taylor_adaptive"
   ]
  },
  {
   "cell_type": "code",
   "execution_count": 23,
   "metadata": {},
   "outputs": [
    {
     "ename": "TypeError",
     "evalue": "Unable to convert function return value to a Python type! The signature was\n\t(tol: float = 1e-16) -> heyoka::v29::taylor_adaptive<double>",
     "output_type": "error",
     "traceback": [
      "\u001b[0;31m---------------------------------------------------------------------------\u001b[0m",
      "\u001b[0;31mTypeError\u001b[0m                                 Traceback (most recent call last)",
      "\u001b[0;31mTypeError\u001b[0m: Unregistered type : heyoka::v29::taylor_adaptive<double>",
      "\nThe above exception was the direct cause of the following exception:\n",
      "\u001b[0;31mTypeError\u001b[0m                                 Traceback (most recent call last)",
      "Cell \u001b[0;32mIn[23], line 1\u001b[0m\n\u001b[0;32m----> 1\u001b[0m ta \u001b[38;5;241m=\u001b[39m \u001b[43mpk\u001b[49m\u001b[38;5;241;43m.\u001b[39;49m\u001b[43mta\u001b[49m\u001b[38;5;241;43m.\u001b[39;49m\u001b[43mget_zero_hold_kep\u001b[49m\u001b[43m(\u001b[49m\u001b[43mtol\u001b[49m\u001b[43m \u001b[49m\u001b[38;5;241;43m=\u001b[39;49m\u001b[43m \u001b[49m\u001b[38;5;241;43m1e-16\u001b[39;49m\u001b[43m)\u001b[49m\n\u001b[1;32m      2\u001b[0m \u001b[38;5;28mprint\u001b[39m(ta)\n\u001b[1;32m      3\u001b[0m ta\u001b[38;5;241m.\u001b[39mtime \u001b[38;5;241m=\u001b[39m \u001b[38;5;241m0.\u001b[39m\n",
      "\u001b[0;31mTypeError\u001b[0m: Unable to convert function return value to a Python type! The signature was\n\t(tol: float = 1e-16) -> heyoka::v29::taylor_adaptive<double>"
     ]
    }
   ],
   "source": [
    "ta : TaylorIntegrator = pk.ta.get_zero_hold_kep(tol = 1e-16)\n",
    "# print(ta)\n",
    "# ta.time = 0.\n",
    "# ta.state[:] = [1.,0.,0.,0.,1.,0.,1.]\n",
    "# mu = 1.\n",
    "# veff = 1.\n",
    "# thrust = [0., 0., 0.]\n",
    "# tof = 1.\n",
    "# ta.pars[:] = [mu, veff] + thrust\n",
    "# # print(ta.propagate_until(tof))\n"
   ]
  },
  {
   "cell_type": "code",
   "execution_count": 12,
   "metadata": {},
   "outputs": [
    {
     "name": "stdout",
     "output_type": "stream",
     "text": [
      "[0.5403023058681397, 0.8414709848078965, 0.0, -0.8414709848078965, 0.5403023058681397, 0.0, 1.0]\n"
     ]
    }
   ],
   "source": [
    "\n",
    "import pykep as pk\n",
    "import numpy as np\n",
    "# mu = pk.MU_SUN\n",
    "mu = 1\n",
    "# veff = 3000. * pk.G0\n",
    "veff = 1\n",
    "tol = 1e-14\n",
    "sp = pk.zero_hold_kep_problem(mu, veff, tol)\n",
    "print(sp.propagate(rvm_state = [1., 0., 0., 0., 1., 0., 1], thrust = [0., 0., 0], tof=1.00))\n",
    "#   [0.5089647068650076, 0.8607873878989034, 0.0, -0.8607873878989032, 0.5089647068650074, 0.0, 1.0]"
   ]
  },
  {
   "cell_type": "code",
   "execution_count": null,
   "metadata": {},
   "outputs": [],
   "source": [
    "\n",
    "\n",
    "\n",
    "# Making the axis\n",
    "ax = pk.plot.make_3Daxis(figsize = (5,5))\n",
    "\n",
    "# Adding the Sun and the Earth for added coolness and reference.\n",
    "pk.plot.add_sun(ax, s=40)\n",
    "pk.plot.add_planet_orbit(ax, earth, c = 'black', alpha=0.3)\n",
    "\n",
    "# And plotting the leg (ballistic)\n",
    "pk.plot.add_sf_leg(ax, sf, units=1., show_throttles=True, length=0.1, arrow_length_ratio=0.2)\n",
    "\n",
    "# And plotting the leg (random thrust)\n",
    "sf.throttles = 1 - 2*np.random.random((nseg*3, ))\n",
    "pk.plot.add_sf_leg(ax, sf, units=1., show_throttles=True, length=0.1, arrow_length_ratio=0.2)\n",
    "\n",
    "ax.view_init(90,270)\n",
    "ax.set_xlim3d(-0.2,1)\n",
    "ax.set_ylim3d(-0.2,1)\n",
    "ax.axis('off')\n",
    "\n",
    "ax.set_title(\"A ballistic and a random Sims-Flanagan leg\");"
   ]
  },
  {
   "cell_type": "code",
   "execution_count": null,
   "metadata": {},
   "outputs": [],
   "source": [
    "zero_hold_kep_integrator = pk.ta.get_zero_hold_kep\n",
    "zero_hold_kep_integrator.propagate_grid(2)"
   ]
  }
 ],
 "metadata": {
  "kernelspec": {
   "display_name": "kep3_devel",
   "language": "python",
   "name": "python3"
  },
  "language_info": {
   "codemirror_mode": {
    "name": "ipython",
    "version": 3
   },
   "file_extension": ".py",
   "mimetype": "text/x-python",
   "name": "python",
   "nbconvert_exporter": "python",
   "pygments_lexer": "ipython3",
   "version": "3.11.10"
  }
 },
 "nbformat": 4,
 "nbformat_minor": 2
}
