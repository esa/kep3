{
 "cells": [
  {
   "cell_type": "markdown",
   "metadata": {},
   "source": [
    "# Interfacing to SPICE and JPL DE ephs\n",
    "\n",
    "A {py:class}`pykep.planet` is able to represent, with a unique interface, objects moving through space. and we\n",
    "here showcase the case of asteroids/comets and satellites whose motion is not integrated numerically, but rather fitted\n",
    "to observations, simulations or historical data and encapsulated into [NAIF SPICE kernels](https://naif.jpl.nasa.gov/naif/data_generic.html).\n",
    "\n",
    "Under the hoods, the SPICE C code made available by NAIF, is used and interfaced to the `pykep` relevant classes.\n"
   ]
  },
  {
   "cell_type": "code",
   "execution_count": 1,
   "metadata": {},
   "outputs": [],
   "source": [
    "import pykep as pk\n",
    "import numpy as np"
   ]
  },
  {
   "cell_type": "markdown",
   "metadata": {},
   "source": [
    "Let us compute the position of the barycenter of the Jupiter system with respect to the Solar system barycenter. We do this using the JPL DE440 ephemerides which, released in 2022, are considered to be the most accurate ones.\n",
    "\n",
    "First we must download the binary `.bsp` file that contains the corresponding data. In the case of the DE440 ephemerides `pykep` actually includes such a file in its distribution (for convenience). We may thus, for this case, skip this step and get the file path directly:"
   ]
  },
  {
   "cell_type": "code",
   "execution_count": 2,
   "metadata": {},
   "outputs": [
    {
     "name": "stdout",
     "output_type": "stream",
     "text": [
      "/home/dario/miniconda3/envs/kep3_devel/lib/python3.11/site-packages/pykep/data/de440s.bsp\n"
     ]
    }
   ],
   "source": [
    "de440s_kernel = pk.udpla.de440s.kernel_file()\n",
    "print(de440s_kernel)"
   ]
  },
  {
   "cell_type": "markdown",
   "metadata": {},
   "source": [
    "If we have no idea on what objects are contained in this kernel, we may get their NAIF IDS using one of the utilities in `pykep`."
   ]
  },
  {
   "cell_type": "code",
   "execution_count": 3,
   "metadata": {},
   "outputs": [],
   "source": [
    "naifids = pk.utils.inspect_spice_kernel(de440s_kernel)"
   ]
  },
  {
   "cell_type": "markdown",
   "metadata": {},
   "source": [
    "and convert into more readible names as follows:"
   ]
  },
  {
   "cell_type": "code",
   "execution_count": 4,
   "metadata": {},
   "outputs": [
    {
     "name": "stdout",
     "output_type": "stream",
     "text": [
      "['MERCURY BARYCENTER', 'VENUS BARYCENTER', 'EARTH BARYCENTER', 'MARS BARYCENTER', 'JUPITER BARYCENTER', 'SATURN BARYCENTER', 'URANUS BARYCENTER', 'NEPTUNE BARYCENTER', 'PLUTO BARYCENTER', 'SUN', 'MERCURY', 'VENUS', 'MOON', 'EARTH']\n"
     ]
    }
   ],
   "source": [
    "names = [pk.naifid2name(item) for item in naifids]\n",
    "print(names)"
   ]
  },
  {
   "cell_type": "markdown",
   "metadata": {},
   "source": [
    "Nice!, inspecting this list we realize that most solar system bodies are contained in this kernel (their barycenters) as well as some of the non barycentric positions. Now, lets proceed in our task to compute the Jupyter barycenter position. The first thing to do (following the common usage of SPICE)  is to pre-load in memory the kernel file:"
   ]
  },
  {
   "cell_type": "code",
   "execution_count": 5,
   "metadata": {},
   "outputs": [],
   "source": [
    "pk.utils.load_spice_kernels(de440s_kernel)"
   ]
  },
  {
   "cell_type": "markdown",
   "metadata": {},
   "source": [
    "This is done only once and we can now forget about it (unless memory is an issue and we want to unload the data, in which case we provide a corresponding {func}`~pykep.unload_spice_kernels` function). \n",
    "\n",
    "We now instantiate a {class}`~pykep.planet` form the UDPLA {class}`~pykep.udpla.spice`."
   ]
  },
  {
   "cell_type": "code",
   "execution_count": 6,
   "metadata": {},
   "outputs": [
    {
     "name": "stdout",
     "output_type": "stream",
     "text": [
      "Position (m): [722180808588.1804, 157535374702.5074, -16810696007.16372]\n",
      "Velocity (m/s): [-2933.2858571285688, 13378.581606366935, 10.115066760074676]\n"
     ]
    }
   ],
   "source": [
    "udpla = pk.udpla.spice(\"JUPITER BARYCENTER\", \"ECLIPJ2000\", \"SSB\")\n",
    "jupiter = pk.planet(udpla)\n",
    "when = pk.epoch(\"2023-01-02\")\n",
    "r, v = jupiter.eph(when)\n",
    "print(f\"Position (m): {r}\\nVelocity (m/s): {v}\")\n"
   ]
  },
  {
   "cell_type": "markdown",
   "metadata": {},
   "source": [
    "And inspect it:"
   ]
  },
  {
   "cell_type": "code",
   "execution_count": 7,
   "metadata": {},
   "outputs": [
    {
     "name": "stdout",
     "output_type": "stream",
     "text": [
      "Planet name: JUPITER BARYCENTER - SPICE\n",
      "C++ class name: pykep::python_udpla\n",
      "\n",
      "mu central body (-1 if not defined): -1\n",
      "mu body (-1 if not defined): -1\n",
      "radius body (-1 if not defined): -1\n",
      "safe body radius (-1 if not defined): -1\n",
      "\n",
      "Extra info:\n",
      "Body: JUPITER BARYCENTER\n",
      "Observer: SSB\n",
      "Reference Frame: ECLIPJ2000\n"
     ]
    }
   ],
   "source": [
    "print(jupiter)"
   ]
  },
  {
   "cell_type": "markdown",
   "metadata": {},
   "source": [
    "Note how many physical parameters of the body are not defined, as for this particular UDPLA (the {class}`pykep.udpla.spice`), the ephemerides computations are interpolated from tables and hence do not require any physical parameters. The user can always define them if needed.\n"
   ]
  },
  {
   "cell_type": "markdown",
   "metadata": {},
   "source": [
    "## "
   ]
  },
  {
   "cell_type": "markdown",
   "metadata": {},
   "source": [
    "## The DE 440 JPL Ephemerides\n",
    "\n",
    "What we have presented above is valid in general and works with any SPICE kernel, be it a comet, a rover a spacecraft. Clearly the backdraw is that we have to first download and position the correct kernel file and then load it into memory for it to work.\n",
    "\n",
    "Since most of times, or anyway the most common usage pattern, is to query the position of the solar system planets, in `pykep` we offer a dedicated udpla for that, one that avoid loading kernels in memory. Lets start unloading the current kernel as to not create confusion."
   ]
  },
  {
   "cell_type": "code",
   "execution_count": 8,
   "metadata": {},
   "outputs": [],
   "source": [
    "pk.utils.unload_spice_kernels(de440s_kernel)"
   ]
  },
  {
   "cell_type": "markdown",
   "metadata": {},
   "source": [
    "The UDPLA {class}`pykep.udpla.de440s` automatically loads the correct kernel shipped with `pykep` module."
   ]
  },
  {
   "cell_type": "code",
   "execution_count": 9,
   "metadata": {},
   "outputs": [
    {
     "name": "stdout",
     "output_type": "stream",
     "text": [
      "Position (m): [156005590351.0843, 743270596831.1477, -6573233296.777874]\n",
      "Velocity (m/s): [-12935.993235030832, 3306.5234815642566, 275.73217606979927]\n"
     ]
    }
   ],
   "source": [
    "udpla = pk.udpla.de440s(\"JUPITER BARYCENTER\", \"ECLIPJ2000\", \"SSB\")\n",
    "jupiter = pk.planet(udpla)\n",
    "when = pk.epoch(\"2025-01-02\")\n",
    "r, v = jupiter.eph(when)\n",
    "print(f\"Position (m): {r}\\nVelocity (m/s): {v}\")"
   ]
  },
  {
   "cell_type": "markdown",
   "metadata": {},
   "source": [
    "What if we wanted a different reference frame? Well then we may either instantiate a different {class}`pykep.udpla.de440s` with a different frame, and/or observer, or perform the transformation ourselves. If we want to perform the transformation ourselves, we need a rotation matrix, and we would then get it as follow:"
   ]
  },
  {
   "cell_type": "code",
   "execution_count": 10,
   "metadata": {},
   "outputs": [],
   "source": [
    "R = pk.utils.rotation_matrix(\"ECLIPJ2000\", \"J2000\")"
   ]
  },
  {
   "cell_type": "markdown",
   "metadata": {},
   "source": [
    "Note that we have not specified an epoch, since these are both inertial frames and their relative orientation does not depend on time. \n",
    "We then perform the transformation."
   ]
  },
  {
   "cell_type": "code",
   "execution_count": 11,
   "metadata": {},
   "outputs": [
    {
     "name": "stdout",
     "output_type": "stream",
     "text": [
      "Position (m): [1.56005590e+11 6.84552122e+11 2.89625240e+11]\n"
     ]
    }
   ],
   "source": [
    "r_j2000 = np.dot(R,r)\n",
    "print(f\"Position (m): {r_j2000}\")"
   ]
  },
  {
   "cell_type": "markdown",
   "metadata": {},
   "source": [
    "The same result would be obtained instantiating directly the {class}`pykep.planet` in the final reference frame."
   ]
  },
  {
   "cell_type": "code",
   "execution_count": 12,
   "metadata": {},
   "outputs": [
    {
     "name": "stdout",
     "output_type": "stream",
     "text": [
      "Position (m): [156005590351.0843, 684552121902.1022, 289625240455.7204]\n"
     ]
    }
   ],
   "source": [
    "udpla = pk.udpla.de440s(\"JUPITER BARYCENTER\", \"J2000\", \"SSB\")\n",
    "jupiter_j2000 = pk.planet(udpla)\n",
    "r, v = jupiter_j2000.eph(when)\n",
    "print(f\"Position (m): {r}\")"
   ]
  }
 ],
 "metadata": {
  "kernelspec": {
   "display_name": "kep3_devel",
   "language": "python",
   "name": "python3"
  },
  "language_info": {
   "codemirror_mode": {
    "name": "ipython",
    "version": 3
   },
   "file_extension": ".py",
   "mimetype": "text/x-python",
   "name": "python",
   "nbconvert_exporter": "python",
   "pygments_lexer": "ipython3",
   "version": "3.11.6"
  }
 },
 "nbformat": 4,
 "nbformat_minor": 2
}
