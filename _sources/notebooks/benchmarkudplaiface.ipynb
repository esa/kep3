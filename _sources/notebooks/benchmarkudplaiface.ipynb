{
 "cells": [
  {
   "cell_type": "code",
   "execution_count": 1,
   "metadata": {},
   "outputs": [],
   "source": [
    "from sgp4.api import Satrec\n",
    "from sgp4 import exporter\n",
    "import spiceypy as pyspice\n",
    "import pykep as pk\n",
    "import numpy as np\n",
    "import time"
   ]
  },
  {
   "cell_type": "code",
   "execution_count": 2,
   "metadata": {},
   "outputs": [],
   "source": [
    "line1 = '1 25544U 98067A   19343.69339541  .00001764  00000-0  38792-4 0  9991'\n",
    "line2 = '2 25544  51.6439 211.2001 0007417  17.6667  85.6398 15.50103472202482'\n",
    "udpla = pk.udpla.tle(line1, line2)\n",
    "mjd2000s = np.array([when%1000.2 for when in range(20000)])\n",
    "satellite = Satrec.twoline2rv(line1, line2)\n",
    "pla = pk.planet(udpla)"
   ]
  },
  {
   "cell_type": "code",
   "execution_count": 3,
   "metadata": {},
   "outputs": [
    {
     "name": "stdout",
     "output_type": "stream",
     "text": [
      "udpla.eph\n",
      " Real time: 0.02139 seconds\n"
     ]
    }
   ],
   "source": [
    "t1 = time.perf_counter(), time.process_time()\n",
    "for mjd2000 in mjd2000s:\n",
    "    r = udpla.eph(mjd2000)\n",
    "t2 = time.perf_counter(), time.process_time()\n",
    "print(f\"udpla.eph\")\n",
    "udplaeph = t2[0] - t1[0]\n",
    "print(f\" Real time: {udplaeph:.5f} seconds\")\n"
   ]
  },
  {
   "cell_type": "code",
   "execution_count": 4,
   "metadata": {},
   "outputs": [
    {
     "name": "stdout",
     "output_type": "stream",
     "text": [
      "pla.eph\n",
      " Real time: 0.05173 seconds\n"
     ]
    }
   ],
   "source": [
    "t1 = time.perf_counter(), time.process_time()\n",
    "for mjd2000 in mjd2000s:\n",
    "    r = pla.eph(mjd2000)\n",
    "t2 = time.perf_counter(), time.process_time()\n",
    "print(f\"pla.eph\")\n",
    "plaeph = t2[0] - t1[0]\n",
    "print(f\" Real time: {plaeph:.5f} seconds\")"
   ]
  },
  {
   "cell_type": "code",
   "execution_count": 5,
   "metadata": {},
   "outputs": [
    {
     "name": "stdout",
     "output_type": "stream",
     "text": [
      "pla.eph_v\n",
      " Real time: 0.01665 seconds\n"
     ]
    }
   ],
   "source": [
    "t1 = time.perf_counter(), time.process_time()\n",
    "r = pla.eph_v(mjd2000s)\n",
    "t2 = time.perf_counter(), time.process_time()\n",
    "plaephv = t2[0] - t1[0]\n",
    "print(f\"pla.eph_v\")\n",
    "print(f\" Real time: {plaephv:.5f} seconds\")"
   ]
  },
  {
   "cell_type": "code",
   "execution_count": 6,
   "metadata": {},
   "outputs": [
    {
     "name": "stdout",
     "output_type": "stream",
     "text": [
      "sgp4\n",
      " Real time: 0.01831 seconds\n"
     ]
    }
   ],
   "source": [
    "t1 = time.perf_counter(), time.process_time()\n",
    "for mjd2000 in mjd2000s:\n",
    "    jd = mjd2000 + 2451544.5\n",
    "    jd_i = int(jd)\n",
    "    jd_fr = jd-jd_i\n",
    "    e, r, v = satellite.sgp4(jd_i, jd_fr)\n",
    "t2 = time.perf_counter(), time.process_time()\n",
    "sgp4p = t2[0] - t1[0]\n",
    "print(f\"sgp4\")\n",
    "print(f\" Real time: {sgp4p:.5f} seconds\")\n"
   ]
  },
  {
   "cell_type": "code",
   "execution_count": 7,
   "metadata": {},
   "outputs": [
    {
     "name": "stdout",
     "output_type": "stream",
     "text": [
      "sgp4 - vectorized\n",
      " Real time: 0.01040 seconds\n"
     ]
    }
   ],
   "source": [
    "t1 = time.perf_counter(), time.process_time()\n",
    "jds = [mjd2000 + 2451544.5 for mjd2000 in mjd2000s]\n",
    "jd_is = [int(item) for item in jds]\n",
    "jd_frs = [a-b for a,b in zip(jds, jd_is)]\n",
    "e, r, v = satellite.sgp4_array(np.array(jd_is), np.array(jd_frs))\n",
    "t2 = time.perf_counter(), time.process_time()\n",
    "sgp4pv = t2[0] - t1[0]\n",
    "print(f\"sgp4 - vectorized\")\n",
    "print(f\" Real time: {sgp4pv:.5f} seconds\")"
   ]
  },
  {
   "cell_type": "code",
   "execution_count": 8,
   "metadata": {},
   "outputs": [
    {
     "name": "stdout",
     "output_type": "stream",
     "text": [
      "udpla.eph -> 0.02139\n",
      "pla.eph -> 0.05173\n",
      "eph_v.eph -> 0.01665\n",
      "sgp4 -> 0.01831\n",
      "sgp4_v -> 0.01040\n"
     ]
    }
   ],
   "source": [
    "# Summary\n",
    "print(f\"udpla.eph -> {udplaeph:.5f}\")\n",
    "print(f\"pla.eph -> {plaeph:.5f}\")\n",
    "print(f\"eph_v.eph -> {plaephv:.5f}\")\n",
    "print(f\"sgp4 -> {sgp4p:.5f}\")\n",
    "print(f\"sgp4_v -> {sgp4pv:.5f}\")"
   ]
  },
  {
   "cell_type": "code",
   "execution_count": 9,
   "metadata": {},
   "outputs": [],
   "source": [
    "pk.utils.load_spice_kernels(\"../../pykep/data/de440s.bsp\")\n",
    "udpla = pk.udpla.spice(\"JUPITER BARYCENTER\", \"ECLIPJ2000\", \"SSB\")\n",
    "pla = pk.planet(udpla)"
   ]
  },
  {
   "cell_type": "code",
   "execution_count": 10,
   "metadata": {},
   "outputs": [
    {
     "name": "stdout",
     "output_type": "stream",
     "text": [
      "udpla.eph\n",
      " Real time: 0.11554 seconds\n"
     ]
    }
   ],
   "source": [
    "t1 = time.perf_counter(), time.process_time()\n",
    "for mjd2000 in mjd2000s:\n",
    "    r = udpla.eph(mjd2000)\n",
    "t2 = time.perf_counter(), time.process_time()\n",
    "print(f\"udpla.eph\")\n",
    "udplaeph = t2[0] - t1[0]\n",
    "print(f\" Real time: {udplaeph:.5f} seconds\")"
   ]
  },
  {
   "cell_type": "code",
   "execution_count": 11,
   "metadata": {},
   "outputs": [
    {
     "name": "stdout",
     "output_type": "stream",
     "text": [
      "pla.eph\n",
      " Real time: 0.16039 seconds\n"
     ]
    }
   ],
   "source": [
    "t1 = time.perf_counter(), time.process_time()\n",
    "for mjd2000 in mjd2000s:\n",
    "    r = pla.eph(mjd2000)\n",
    "t2 = time.perf_counter(), time.process_time()\n",
    "print(f\"pla.eph\")\n",
    "plaeph = t2[0] - t1[0]\n",
    "print(f\" Real time: {plaeph:.5f} seconds\")"
   ]
  },
  {
   "cell_type": "code",
   "execution_count": 12,
   "metadata": {},
   "outputs": [
    {
     "name": "stdout",
     "output_type": "stream",
     "text": [
      "pla.eph_v\n",
      " Real time: 0.05030 seconds\n"
     ]
    }
   ],
   "source": [
    "t1 = time.perf_counter(), time.process_time()\n",
    "r = pla.eph_v(mjd2000s)\n",
    "t2 = time.perf_counter(), time.process_time()\n",
    "plaephv = t2[0] - t1[0]\n",
    "print(f\"pla.eph_v\")\n",
    "print(f\" Real time: {plaephv:.5f} seconds\")"
   ]
  },
  {
   "cell_type": "code",
   "execution_count": 13,
   "metadata": {},
   "outputs": [
    {
     "name": "stdout",
     "output_type": "stream",
     "text": [
      "spice\n",
      " Real time: 0.07272 seconds\n"
     ]
    }
   ],
   "source": [
    "t1 = time.perf_counter(), time.process_time()\n",
    "for mjd2000 in mjd2000s:\n",
    "    rv, _ = pyspice.spkezr(\"JUPITER BARYCENTER\", (mjd2000-0.5)*pk.DAY2SEC, \"ECLIPJ2000\", \"NONE\", \"SSB\")\n",
    "t2 = time.perf_counter(), time.process_time()\n",
    "print(f\"spice\")\n",
    "spicep = t2[0] - t1[0]\n",
    "print(f\" Real time: {spicep:.5f} seconds\")\n"
   ]
  },
  {
   "cell_type": "code",
   "execution_count": 14,
   "metadata": {},
   "outputs": [
    {
     "name": "stdout",
     "output_type": "stream",
     "text": [
      "spicev\n",
      " Real time: 0.03875 seconds\n"
     ]
    }
   ],
   "source": [
    "t1 = time.perf_counter(), time.process_time()\n",
    "rv, _ = pyspice.spkezr(\"JUPITER BARYCENTER\", (mjd2000s-0.5)*pk.DAY2SEC, \"ECLIPJ2000\", \"NONE\", \"SSB\")\n",
    "t2 = time.perf_counter(), time.process_time()\n",
    "print(f\"spicev\")\n",
    "spicepv = t2[0] - t1[0]\n",
    "print(f\" Real time: {spicepv:.5f} seconds\")\n"
   ]
  },
  {
   "cell_type": "code",
   "execution_count": 15,
   "metadata": {},
   "outputs": [
    {
     "name": "stdout",
     "output_type": "stream",
     "text": [
      "udpla.eph -> 0.11554\n",
      "pla.eph -> 0.16039\n",
      "eph_v.eph -> 0.05030\n",
      "spice -> 0.07272\n",
      "spice_v -> 0.03875\n"
     ]
    }
   ],
   "source": [
    "# Summary\n",
    "print(f\"udpla.eph -> {udplaeph:.5f}\")\n",
    "print(f\"pla.eph -> {plaeph:.5f}\")\n",
    "print(f\"eph_v.eph -> {plaephv:.5f}\")\n",
    "print(f\"spice -> {spicep:.5f}\")\n",
    "print(f\"spice_v -> {spicepv:.5f}\")"
   ]
  }
 ],
 "metadata": {
  "kernelspec": {
   "display_name": "kep3_devel",
   "language": "python",
   "name": "python3"
  },
  "language_info": {
   "codemirror_mode": {
    "name": "ipython",
    "version": 3
   },
   "file_extension": ".py",
   "mimetype": "text/x-python",
   "name": "python",
   "nbconvert_exporter": "python",
   "pygments_lexer": "ipython3",
   "version": "3.11.6"
  },
  "orig_nbformat": 4
 },
 "nbformat": 4,
 "nbformat_minor": 2
}
