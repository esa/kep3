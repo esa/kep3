{
 "cells": [
  {
   "cell_type": "markdown",
   "metadata": {},
   "source": [
    "# Surrogate Primer Vector \n",
    "\n",
    "In this notebook we extend the theory outlined in the notebook on the [primer vector](<./primer_vector.ipynb>) to the case where we are adding simultaneously two impulses\n",
    "to a trajectory where we can control one single existing impulse (as opposed to the original case where one adds only one impulse in a trajectory where two can be controlled).\n",
    "\n",
    "While the developments are similar, please note that the index $k$ was before reserved to indicate the only node (of three, ijk) where no finite impulse was given. In this developments it indicates, instead, the only node (of three, ijk) where a finite impulse is given."
   ]
  },
  {
   "cell_type": "markdown",
   "metadata": {},
   "source": [
    ":::{note}\n",
    "  The developments as well as the test case used are taken from the work from Bauregard, Acciarini and Izzo {cite:p}`beauregard`.\n",
    "  The developments are shown in details as they can be extended to more generic cases that use different dynamics and number of impulses. The user must in that case provide the state ransition matrices and DVs on a time grid as constructed below.\n",
    "\n",
    "  ## Theory and notation\n",
    "\n",
    "  a) Consider the following definition of the State Transition Matrix, $\\mathbf M_{fs}$:\n",
    "\n",
    "  $$\n",
    "  \\mathbf M_{fs} := \\frac{\\partial \\mathbf x_{f}}{\\partial \\mathbf x_{s}}\n",
    "  $$\n",
    "\n",
    "  Note how this definition does not depend on the dynamics. The STM allows to describe variations of the (final) state at $f$ as:\n",
    "\n",
    "  $$\n",
    "  \\delta\\mathbf x_f = \\mathbf M_{fs} \\delta \\mathbf x_s\n",
    "  $$\n",
    "\n",
    "  We also make use of the following definitions for the various blocks of the STM:\n",
    "\n",
    "  $$\n",
    "  \\mathbf M = \\left[ \n",
    "  \\begin{array}{c|c} \n",
    "    \\mathbf M^{rr} & \\mathbf M^{rv} \\\\ \n",
    "    \\hline \n",
    "    \\mathbf M^{vr} & \\mathbf M^{vv} \n",
    "  \\end{array} \n",
    "  \\right] \n",
    "  = \\left[ \n",
    "  \\begin{array}{c|c} \n",
    "    \\mathbf M^{xr} & \\mathbf M^{xv} \n",
    "  \\end{array} \n",
    "  \\right] \n",
    "  = \\left[ \n",
    "  \\begin{array}{c} \n",
    "    \\mathbf M^{rx} \\\\\n",
    "    \\hline \n",
    "    \\mathbf M^{vx} \n",
    "  \\end{array} \n",
    "  \\right] \n",
    "  $$\n",
    "\n",
    "  ---------------\n",
    "\n",
    "b) Assume now to have a grid of $N$ points along a multiple impulse trajectory and pick three indexes $i,j,k$. \n",
    "\n",
    "We ask the following question: what happens when we add three small $\\delta\\Delta V$ at the selected nodes?\n",
    "\n",
    "To answer this question, we compute the variation of the final state due to intermidiate variations at the nodes using the STMs:\n",
    "\n",
    "$$\n",
    "\\delta \\mathbf x_f = \\mathbf M_{fi}\\delta\\mathbf x_i + \\mathbf M_{fj}\\delta\\mathbf x_j + \\mathbf M_{fk}\\delta\\mathbf x_k\n",
    "$$\n",
    "\n",
    "which we set to zero, as we do not want the trajectory boundary cnstraints to change, only find a better $\\Delta V$:\n",
    "\n",
    "$$\n",
    "\\mathbf 0 = \\mathbf M_{fi}\\delta\\mathbf x_i + \\mathbf M_{fj}\\delta\\mathbf x_j + \\mathbf M_{fk}\\delta\\mathbf x_k\n",
    "$$\n",
    "\n",
    "which becomes (multiplying by $\\mathbf M_{kf}$):\n",
    "\n",
    "$$\n",
    "\\mathbf M_{ki}\\delta\\mathbf x_i + \\mathbf M_{kj}\\delta\\mathbf x_j + \\delta\\mathbf x_k = \\mathbf 0\n",
    "$$\n",
    "\n",
    "Note that, with respect to the derivations for the primer vector, we have now changed the reference node to $k$ for convenience.\n",
    "\n",
    "-----------\n",
    "\n",
    "c) The state variations $\\delta\\mathbf x$ are, in our case, consequence of three $\\delta\\Delta \\mathbf V$, so that the previous equations becomes:\n",
    "\n",
    "$$\n",
    "\\begin{align}\n",
    "\\mathbf M_i^{rv} \\delta\\Delta \\mathbf V_i + \\mathbf M_j^{rv} \\delta\\Delta \\mathbf V_j = \\mathbf 0\\\\\n",
    "\\mathbf M_i^{vv} \\delta\\Delta \\mathbf V_i + \\mathbf M_j^{vv} \\delta\\Delta \\mathbf V_j + \\delta\\Delta \\mathbf V_k = \\mathbf 0\\\\\n",
    "\\end{align}\n",
    "$$\n",
    "\n",
    "solving for $\\delta\\Delta \\mathbf V_i$ and $\\delta\\Delta \\mathbf V_k$ (as a function of $j$ where one of the added impulses is present):\n",
    "\n",
    "$$\n",
    "\\begin{align}\n",
    "\\delta\\Delta \\mathbf V_i &=& - (\\mathbf M_i^{rv})^{-1}\\mathbf M_j^{rv} \\delta\\Delta \\mathbf V_j = \\mathbf A_{ij}\\delta\\Delta \\mathbf V_j\\\\\n",
    "\\delta\\Delta \\mathbf V_k &=& - \\big(\\mathbf M_i^{vv}\\mathbf A_{ij} + \\mathbf M_j^{vv} \\big)  \\delta\\Delta \\mathbf V_j = \\mathbf A_{kj}\\delta\\Delta \\mathbf V_j\\\\\n",
    "\\end{align}\n",
    "$$\n",
    "\n",
    "The matrices $\\mathbf A$ are telling us how the three variations of impulsive velocity changes applied in ($i$, $j$, $k$) must be related for the overall trajectory to not change its boundary conditions (i.e. $\\mathbf x_f = \\mathbf 0$).\n",
    "\n",
    "Note here that we chose to use the index $j$ as reference as we relate all others $\\delta\\Delta V$ to $\\delta\\Delta V_j$. It convenient to keep the chosen index as the one where no finite impulse is present.\n",
    "\n",
    "-----------\n",
    "d) So far the three indexes we picked (i.e. $i,j,k$) were equivalent, now we assume that in $i,j$ no finite $\\Delta V$ is present. In $k$, instead, an additional $\\Delta \\mathbf V$ will exist.\n",
    "\n",
    "The total magnitude of the $\\Delta \\mathbf V$ can then be expressed by:\n",
    "\n",
    "$$\n",
    "J = \\Delta V_{tot} = \\underbrace{|\\mathbf V_k + \\delta\\Delta \\mathbf V_k |}_{\\text{finite impulse}} + \\underbrace{|\\delta\\Delta \\mathbf V_i| + |\\delta\\Delta \\mathbf V_j|}_{\\text{infinitesimal}}\n",
    "$$\n",
    "\n",
    "and its first order variation:\n",
    "\n",
    "$$\n",
    "\\delta J = \\frac{\\Delta\\mathbf V_k}{|\\Delta \\mathbf V_k|}\\cdot \\delta\\Delta \\mathbf V_k + |\\delta\\Delta \\mathbf V_i| + |\\delta\\Delta \\mathbf V_j|\n",
    "$$\n",
    "\n",
    "-----------\n",
    "\n",
    "e) The surrogate primer vector\n",
    "\n",
    "We introduce $\\hat{\\mathbf u} = \\frac{\\delta \\Delta \\mathbf V_j}{|\\delta \\Delta \\mathbf V_j|}$ as the unit vector along the direction\n",
    "of the infinitesimal $\\delta \\Delta V$ added in our reference node $j$. \n",
    "\n",
    "Substituting and regrouping we have:\n",
    "\n",
    "$$\n",
    "\\delta J = |\\delta\\Delta \\mathbf V_j| \\left(1 +\\mathbf A_{kj}^T\\frac{\\Delta\\mathbf V_k}{|\\Delta \\mathbf V_k|} \\cdot \\hat {\\mathbf u}\n",
    "  + |\\mathbf A_{ij}\\hat {\\mathbf u}|  \\right)\n",
    "$$\n",
    "\n",
    "which we rewrite and rearrange as:\n",
    "\n",
    "$$\n",
    "\\delta J = |\\delta\\Delta \\mathbf V_j| \\left(1 - (\\mathbf b \\cdot \\hat {\\mathbf u} - |\\mathbf B\\hat {\\mathbf u}|  \\right)\n",
    "$$\n",
    "\n",
    "where $\\mathbf B:=\\mathbf A_{ij}$, $\\mathbf b = -\\mathbf A_{kj}^T\\frac{\\Delta\\mathbf V_k}{|\\Delta \\mathbf V_k|}$.\n",
    "\n",
    "We now introduce the vectors:\n",
    "\n",
    "$$\n",
    "\\boxed{\\hat {\\mathbf u}^* = \\argmax_{|\\hat {\\mathbf u}|=1}\\left(\\mathbf b\\cdot \\hat {\\mathbf u} - |\\mathbf B\\hat {\\mathbf u}|\\right)}\n",
    "$$\n",
    "\n",
    "and,\n",
    "\n",
    "$$\n",
    "\\boxed{\\tilde{\\mathbf p} = (\\mathbf b \\cdot \\hat {\\mathbf u}^* - |\\mathbf B\\hat {\\mathbf u}^*| ) \\hat {\\mathbf u}^*}\n",
    "$$\n",
    "\n",
    "which we call **surrogate primer vector**, since $\\delta J = (1-|\\tilde{\\mathbf p}|) |\\delta\\Delta \\mathbf V_j|$ as in the \n",
    "classical case where the **primer vector** $\\mathbf p$ is introduced.\n",
    "\n",
    "From the expression of $\\delta J$ it appears clear that if we want to be able to decrease the overall $\\Delta V$ adding in $i,j$ two\n",
    "impulses, it is necessary for the norm of the surrogate primer vector (computed in $i,j$) to be larger than 1."
   ]
  },
  {
   "cell_type": "markdown",
   "metadata": {},
   "source": [
    "Enough of that, let us start coding now ..."
   ]
  },
  {
   "cell_type": "code",
   "execution_count": 1,
   "metadata": {},
   "outputs": [],
   "source": [
    "import pykep as pk\n",
    "import pygmo as pg\n",
    "import numpy as np\n",
    "\n",
    "np.set_printoptions(legacy=\"1.25\")\n",
    "import matplotlib.pyplot as plt"
   ]
  },
  {
   "cell_type": "markdown",
   "metadata": {},
   "source": [
    "Let us define a toy problem. In the Keplerian dynamics, we define the following trajectory "
   ]
  },
  {
   "cell_type": "code",
   "execution_count": 4,
   "metadata": {},
   "outputs": [],
   "source": [
    "# Problem data\n",
    "n_points = 50\n",
    "r0 = np.array([1.0, 0.0, 0.0])\n",
    "v0 = np.array([0.0, 1.0, 0.0])\n",
    "DVk = np.array([0.6, -0.2, 0.0])\n",
    "DVk_norm = np.linalg.norm(DVk)\n",
    "# Impulse is applied at the end of the trajectory\n",
    "idx_k = n_points-1\n",
    "t_grid = np.linspace(0, 4 * np.pi, n_points)"
   ]
  },
  {
   "cell_type": "markdown",
   "metadata": {},
   "source": [
    "Since the grid is uniform, and the DV is aplied at the end, we can compute all STMs in a single propagation."
   ]
  },
  {
   "cell_type": "code",
   "execution_count": 5,
   "metadata": {},
   "outputs": [],
   "source": [
    "retval = pk.propagate_lagrangian_grid([r0, v0], t_grid, mu=1., stm=True)\n",
    "stm_n0 = [it[1] for it in retval] # Mn0"
   ]
  },
  {
   "cell_type": "markdown",
   "metadata": {},
   "source": [
    "We may now loop over all possible positions for the indexes $i,j$ and compute the *surrogate primer vector* at each point."
   ]
  },
  {
   "cell_type": "code",
   "execution_count": 6,
   "metadata": {},
   "outputs": [],
   "source": [
    "norm_surrogate_p = np.ones((n_points, n_points))\n",
    "p = np.ones((n_points, n_points))\n",
    "for idx_i in range(n_points):\n",
    "    Mk0 = stm_n0[idx_k]\n",
    "    if idx_i == idx_k:\n",
    "        continue\n",
    "    Mki = Mk0 @ np.linalg.inv(stm_n0[idx_i])  # Mki = Mk0*M0i\n",
    "    for idx_j in range(idx_i + 1, n_points):\n",
    "        if idx_j == idx_k:\n",
    "            continue\n",
    "        Mkj = Mk0 @ np.linalg.inv(stm_n0[idx_j])  # Mkj = Mk0*M0j\n",
    "        norm_surrogate_p[idx_j, idx_i] = np.linalg.norm(\n",
    "            pk.trajopt.primer_vector_surrogate(DVk, Mki, Mkj)[0]\n",
    "        )\n",
    "        norm_surrogate_p[idx_i, idx_j] = -np.inf"
   ]
  },
  {
   "cell_type": "markdown",
   "metadata": {},
   "source": [
    "Lets see what is its maximum value across all $i,j$:"
   ]
  },
  {
   "cell_type": "code",
   "execution_count": 7,
   "metadata": {},
   "outputs": [
    {
     "name": "stdout",
     "output_type": "stream",
     "text": [
      "The maximum value of the surrogate primer is attained when infinitesimal impulses are added at:\n",
      "t1: 4.8727  and t2: 7.6937\n",
      "Its norm is: 2.7366\n",
      "Larger then one! -> Trajectory can be improved\n"
     ]
    }
   ],
   "source": [
    "idx1, idx2 = np.unravel_index(norm_surrogate_p.argmax(), norm_surrogate_p.shape)\n",
    "print(\n",
    "    f\"The maximum value of the surrogate primer is attained when infinitesimal impulses are added at:\")\n",
    "print(f\"t1: {t_grid[idx2]:.4f}  and t2: {t_grid[idx1]:.4f}\")\n",
    "print(f\"Its norm is: {np.max(norm_surrogate_p):.4f}\")\n",
    "print(f\"Larger then one! -> Trajectory can be improved\")"
   ]
  },
  {
   "cell_type": "markdown",
   "metadata": {},
   "source": [
    "Let us visualize the computed surrogate vector:"
   ]
  },
  {
   "cell_type": "code",
   "execution_count": 8,
   "metadata": {},
   "outputs": [
    {
     "data": {
      "text/plain": [
       "<matplotlib.legend.Legend at 0x17f0eb620>"
      ]
     },
     "execution_count": 8,
     "metadata": {},
     "output_type": "execute_result"
    },
    {
     "data": {
      "image/png": "[encoded data removed]",
      "text/plain": [
       "<Figure size 500x500 with 1 Axes>"
      ]
     },
     "metadata": {},
     "output_type": "display_data"
    }
   ],
   "source": [
    "fig = plt.figure(figsize=(5,5))\n",
    "X,Y = np.meshgrid(t_grid, t_grid)\n",
    "plt.contourf(X,Y,norm_surrogate_p)\n",
    "plt.contour(X,Y,norm_surrogate_p, [1], colors='r', linestyles='solid')\n",
    "plt.plot(t_grid,t_grid, 'k--', label=\"$t_1=t_2$\")\n",
    "plt.scatter(t_grid[idx2], t_grid[idx1], label=\"Highest primer\", marker=\"*\")\n",
    "plt.plot([],[], 'r', label=\"|p| = 1\")\n",
    "plt.legend(loc=\"lower right\")"
   ]
  },
  {
   "cell_type": "markdown",
   "metadata": {},
   "source": [
    "Revealing all areas where adding two impulses would improve the trajectory leaving all boundary conditions unchanged."
   ]
  },
  {
   "cell_type": "markdown",
   "metadata": {},
   "source": [
    "# But is it true?\n",
    "Where we check that the transfer can indeed be improved using three impulses, and reaching identical conditions (initial-final) as the ones of our original trajectory (and in the same transfer time)\n",
    "\n",
    "We thus build [on the fly] an optimization problem aimed at placing three impulses optimally between the initial and the end state. "
   ]
  },
  {
   "cell_type": "code",
   "execution_count": 9,
   "metadata": {},
   "outputs": [],
   "source": [
    "rf, vf = retval[-1][0]\n",
    "vfd = [a + b for a, b in zip(vf, DVk)]\n",
    "\n",
    "class my_udp:\n",
    "    def __init__(self, posvel0):\n",
    "        self.posvel0 = posvel0\n",
    "    # x = [u1, v1, V1, u2, v2, V2, a1, a2, a3, a4]\n",
    "    def decode(self, x):\n",
    "        tofs = pk.alpha2direct(x[6:10], 4 * np.pi)\n",
    "        # Up to the first impulse\n",
    "        r1, v1 = pk.propagate_lagrangian(self.posvel0, tofs[0], 1.0, stm=False)\n",
    "        # Add the first impulse\n",
    "        DV1 = pk.uvV2cartesian(x[:3])\n",
    "        v1d = [a + b for a, b in zip(v1, DV1)]\n",
    "        # Up to the second impulse\n",
    "        r2, v2 = pk.propagate_lagrangian([r1, v1d], tofs[1], 1.0, stm=False)\n",
    "        # Add the second impulse\n",
    "        DV2 = pk.uvV2cartesian(x[3:6])\n",
    "        v2d = [a + b for a, b in zip(v2, DV2)]\n",
    "        # Up to the third impulse\n",
    "        r3, v3 = pk.propagate_lagrangian([r2, v2d], tofs[2], 1.0, stm=False)\n",
    "        # Close with Lambert\n",
    "        l = pk.lambert_problem(r3, rf, tofs[3], 1.0)\n",
    "        DV3 = [a - b for a, b in zip(l.v0[0], v3)]\n",
    "        DV4 = [a - b for a, b in zip(vfd, l.v1[0])]\n",
    "        # Using the Multiple Impulsive Trajectory format (mit format)\n",
    "        mit = [\n",
    "            [self.posvel0, [0., 0., 0.], tofs[0]],\n",
    "            [[r1, v1], DV1, tofs[1]],\n",
    "            [[r2, v2], DV2, tofs[2]],\n",
    "            [[r3, v3], DV3, tofs[3]],\n",
    "            [[rf, vf], DV4, 0],\n",
    "        ]\n",
    "        return mit\n",
    "\n",
    "    def fitness(self, x):\n",
    "        mit = self.decode(x)\n",
    "        norm_DVs = [np.linalg.norm(it[1]) for it in mit]\n",
    "        return [sum(norm_DVs)]\n",
    "\n",
    "    def get_bounds(self):\n",
    "        lb = [0.0, 0.0, 0.0, 0.0, 0.0, 0.0, 1e-9, 1e-9, 1e-9, 1e-9]\n",
    "        ub = [1.0, 1.0, 2.0, 1.0, 1.0, 2.0, 1 - 1e-9, 1 - 1e-9, 1 - 1e-9, 1 - 1e-9]\n",
    "        return (lb, ub)"
   ]
  },
  {
   "cell_type": "markdown",
   "metadata": {},
   "source": [
    "... and we solve it in multistart"
   ]
  },
  {
   "cell_type": "code",
   "execution_count": 10,
   "metadata": {},
   "outputs": [
    {
     "name": "stdout",
     "output_type": "stream",
     "text": [
      "Multi-start:\n",
      "0 0.31053864942864845\n",
      "The best solution found has a DV of 3.10539e-01\n"
     ]
    }
   ],
   "source": [
    "def solve(udp, N=20):\n",
    "    # We use CMA-ES \n",
    "    uda = pg.cmaes(4500, force_bounds=True, sigma0=0.5, ftol=1e-5)\n",
    "    # But if you prefer a self adaptive version of differential evolution thats also OK.\n",
    "    #uda = pg.sade(2500, ftol=1e-4, xtol=1e-4)\n",
    "    algo = pg.algorithm(uda)\n",
    "    print(\"Multi-start:\")\n",
    "\n",
    "    res = list()\n",
    "    for i in range(N):\n",
    "        pop = pg.population(udp, 20)\n",
    "        pop = algo.evolve(pop)\n",
    "        res.append([pop.champion_f, pop.champion_x])\n",
    "        print(i, pop.champion_f[0], end= '\\r')\n",
    "        \n",
    "    best_x = sorted(res, key =  lambda x: x[0][0])[0][1]\n",
    "    best_f = udp.fitness(best_x)[0]\n",
    "\n",
    "    print(f\"\\nThe best solution found has a DV of {best_f:.5e}\")\n",
    "    return best_x, best_f\n",
    "\n",
    "udp = my_udp([r0,v0])\n",
    "best_x, best_f = solve(udp, 1)\n"
   ]
  },
  {
   "cell_type": "markdown",
   "metadata": {},
   "source": [
    "We can now plot the trajectory found as a Multiple Impulsive Trajectory (mit)."
   ]
  },
  {
   "cell_type": "code",
   "execution_count": 11,
   "metadata": {},
   "outputs": [
    {
     "data": {
      "image/png": "[encoded data removed]",
      "text/plain": [
       "<Figure size 640x480 with 1 Axes>"
      ]
     },
     "metadata": {},
     "output_type": "display_data"
    }
   ],
   "source": [
    "# Create the axis\n",
    "ax = pk.plot.make_3Daxis()\n",
    "# Adding the central body\n",
    "pk.plot.add_sun(ax, label = \"central body\")\n",
    "# Plotting the original trajectory (mono-impulsive)\n",
    "ax.plot([it[0][0][0] for it in retval], [it[0][0][1] for it in retval], [it[0][0][2] for it in retval], 'gray', label=f'$\\\\Delta V = {DVk_norm:.3f}$ (1 impulse)')\n",
    "# Plotting the mit\n",
    "pk.plot.add_mit(ax, udp.decode(best_x), mu = 1., units = 1., c_segments=['coral'],linestyle=\"-.\")\n",
    "\n",
    "# Makin the plot prettier\n",
    "ax.view_init(90,-90)\n",
    "ax.set_axis_off()\n",
    "from matplotlib.lines import Line2D\n",
    "# access legend objects automatically created from data\n",
    "handles, labels = plt.gca().get_legend_handles_labels()\n",
    "line = Line2D([0], [0], label=f'$\\\\Delta V = {best_f:.3f}$ (3 impulses)', color='coral', linestyle=\"-.\")\n",
    "plt.legend(handles=handles+[line], loc=\"upper left\");"
   ]
  },
  {
   "cell_type": "markdown",
   "metadata": {},
   "source": [
    "The **surrogate primer vector** correctly had us try to add impulses and, in this case, halved the needed $\\Delta V$!"
   ]
  }
 ],
 "metadata": {
  "kernelspec": {
   "display_name": "kep3_devel",
   "language": "python",
   "name": "python3"
  },
  "language_info": {
   "codemirror_mode": {
    "name": "ipython",
    "version": 3
   },
   "file_extension": ".py",
   "mimetype": "text/x-python",
   "name": "python",
   "nbconvert_exporter": "python",
   "pygments_lexer": "ipython3",
   "version": "3.13.1"
  },
  "orig_nbformat": 4
 },
 "nbformat": 4,
 "nbformat_minor": 2
}
