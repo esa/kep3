{
 "cells": [
  {
   "cell_type": "markdown",
   "metadata": {},
   "source": [
    "# Ephemerides\n",
    "\n",
    "The ephemerides are the position end velocity Cartesian vectors of a moving object. In `pykep` the class {py:class}`~pykep.planet` offers a common interface to access various ephemerides, regardless on how they are computed. Whether the underlying computations are simply Keplerian, or based on more advanced trajectory propagations, interpolations or predictions, a unified interface is offered by this type-erasing class.\n",
    "\n",
    "The user can code his own python class following the mandatory interface of a {py:class}`~pykep.planet` and his own coded objects will be treated uniformly as any other planet in `pykep`. These User Defined Planets (or UPLAs) can implement heterogeneous techniques and interface to any third-party API, but once they are used to construct a {py:class}`~pykep.planet`, they will appear as any other {py:class}`~pykep.planet` in `pykep`.\n",
    "\n",
    "For convenience, a number of already coded UDPLAs are offered so that, to start with, users can compute the positions of planet, satellites comets and spacecarft without the need to code their own UDPLA."
   ]
  },
  {
   "cell_type": "code",
   "execution_count": 1,
   "metadata": {},
   "outputs": [],
   "source": [
    "import pykep as pk"
   ]
  },
  {
   "cell_type": "markdown",
   "metadata": {},
   "source": [
    "Let us start to use the UDPLA {py:class}`~pykep.udpla.keplerian` which describes the motion of an object in a Keplerian orbit. All UDPLAS provided by `pykep` are in the module {py:mod}`~pykep.udpla`"
   ]
  },
  {
   "cell_type": "code",
   "execution_count": 2,
   "metadata": {},
   "outputs": [],
   "source": [
    "# We instantiate the udpla\n",
    "udpla = pk.udpla.keplerian(pk.epoch(0.), [1., 0, 0, 0, 0, 0], mu_central_body = 1., name = \"A Circular Orbit\")\n",
    "# And use it to construct a pykep planet, hence erasing its type.\n",
    "pla = pk.planet(udpla)"
   ]
  },
  {
   "cell_type": "markdown",
   "metadata": {},
   "source": [
    "```{note}\n",
    "Non-dimensional units are often useful in astrodynamics and most pykep class allow their use. Of course only if everything is consistent the computations will make sense. `pykep`` does not check this consistency and thus the user must be careful when using anything which is non SI, and to not mix units.\n",
    "```"
   ]
  },
  {
   "cell_type": "markdown",
   "metadata": {},
   "source": [
    "Let us print on screen this {py:class}`~pykep.planet`."
   ]
  },
  {
   "cell_type": "code",
   "execution_count": 3,
   "metadata": {},
   "outputs": [
    {
     "name": "stdout",
     "output_type": "stream",
     "text": [
      "Planet name: A Circular Orbit\n",
      "C++ class name: kep3::udpla::keplerian\n",
      "\n",
      "mu central body (-1 if not defined): 1\n",
      "mu body (-1 if not defined): -1\n",
      "radius body (-1 if not defined): -1\n",
      "safe body radius (-1 if not defined): -1\n",
      "\n",
      "Extra info:\n",
      "Keplerian planet elements: \n",
      "Semi major axis: 1\n",
      "Semi major axis (AU): 6.684587122268445e-12\n",
      "Eccentricity: 0\n",
      "Inclination (deg.): 0\n",
      "Big Omega (deg.): 0\n",
      "Small omega (deg.): 0\n",
      "True anomly (deg.): 0\n",
      "Mean anomly (deg.): 0\n",
      "Elements reference epoch (MJD2000): 0\n",
      "Elements reference epoch (UTC): 2000-01-01T00:00:00.000000\n",
      "r at ref. = [1, 0, 0]\n",
      "v at ref. = [0, 1, 0]\n",
      "\n"
     ]
    }
   ],
   "source": [
    "print(pla)"
   ]
  },
  {
   "cell_type": "markdown",
   "metadata": {},
   "source": [
    "The textual representation of a planet is made of two parts. \n",
    "\n",
    "The first part is common to all objects of type {py:class}`~pykep.planet` and reports the body name, its physical parameters and the name of the underlying c++ class of the udpla (for pythonic udplas, this will be always the same and eaul to kep3::python_udpla).\n",
    "\n",
    "The second part is instead original with the udpla type, and is essentially whatever is returned by the {py:class}`~pykep.planet` interface optional method `extra_info`. In this case, the udpla is a c++ based class exposed to python as :class:`pykep.udpla.keplerian` and its extra info report the orbital parameters as well as the Cartesian components of the body state at the reference epoch."
   ]
  },
  {
   "cell_type": "code",
   "execution_count": null,
   "metadata": {},
   "outputs": [],
   "source": []
  }
 ],
 "metadata": {
  "kernelspec": {
   "display_name": "kep3_devel",
   "language": "python",
   "name": "python3"
  },
  "language_info": {
   "codemirror_mode": {
    "name": "ipython",
    "version": 3
   },
   "file_extension": ".py",
   "mimetype": "text/x-python",
   "name": "python",
   "nbconvert_exporter": "python",
   "pygments_lexer": "ipython3",
   "version": "3.12.0"
  },
  "orig_nbformat": 4
 },
 "nbformat": 4,
 "nbformat_minor": 2
}
