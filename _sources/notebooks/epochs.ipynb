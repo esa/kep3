{
 "cells": [
  {
   "cell_type": "markdown",
   "metadata": {},
   "source": [
    "# Epochs and Julian Dates\n",
    "\n",
    "The representation of an epoch, that is of a specific point in time, be it in the future or in the past, can be rather confusing. In `pykep` we opted to offer the dedicated class {py:class}`~pykep.epoch` that takes care to offer a simple interface and, under the hoods, interfaces seamlessly both to the c++ `std::chrono`  library and the python {py:mod}`datetime` module.\n",
    "\n",
    "Let us briefly show its interface."
   ]
  },
  {
   "cell_type": "markdown",
   "metadata": {},
   "source": [
    "An `epoch` may be created in one of four ways: \n",
    "\n",
    "1. constructing one from a Julian Date (i.e. a float representing the number of days passed from some historical date).\n",
    "2. constructing one from a datetime object.\n",
    "3. constructing directly from an ISO 8601 string.\n",
    "4. requesting the current date from the {py:func}`pykep.epoch.now()` function.\n",
    "\n",
    "```{note}\n",
    "\n",
    "**MJD2000** is the Default Julian Date. When not specified othewise by the user, in the context of epoch arithmetics a float will always be considered by `pykep` as a Modified Julian Date 2000, i.e. as the number of days from `2000-01-01T00:00:00.000000`, or as days if it represents a duration.\n",
    "```\n",
    "\n",
    "```{note}\n",
    "\n",
    "The date in `pykep` **does not** account for leap seconds. If the user wishes to use the exact ISO 8601 representation of some epoch, also including leap seconds, he will have to account for the offset himself. As of of 2023 this may account to maximum 28 seconds. [More info](https://en.wikipedia.org/wiki/Leap_second) on leap seconds.\n",
    "```\n",
    "\n",
    "```{note}\n",
    "\n",
    "The calendar used in `pykep` is the  proleptic Gregorian calendar. This means that calendar dates are considered in the Gregorian system also before the 1580, year of the introduction of the Gregorain dates. Confusion may arise then if trying to match `pykep` dates to historical events.\n",
    "```"
   ]
  },
  {
   "cell_type": "code",
   "execution_count": 1,
   "metadata": {},
   "outputs": [],
   "source": [
    "import pykep as pk\n",
    "import datetime"
   ]
  },
  {
   "cell_type": "markdown",
   "metadata": {},
   "source": [
    "## Julian dates"
   ]
  },
  {
   "cell_type": "code",
   "execution_count": 2,
   "metadata": {},
   "outputs": [],
   "source": [
    "ep = pk.epoch(0.)"
   ]
  },
  {
   "cell_type": "markdown",
   "metadata": {},
   "source": [
    "we can print this on screen:"
   ]
  },
  {
   "cell_type": "code",
   "execution_count": 3,
   "metadata": {},
   "outputs": [
    {
     "name": "stdout",
     "output_type": "stream",
     "text": [
      "2000-01-01T00:00:00.000000\n"
     ]
    }
   ],
   "source": [
    "print(ep)"
   ]
  },
  {
   "cell_type": "markdown",
   "metadata": {},
   "source": [
    ".. or instantiate an epoch by explicitly mentioning the Julian Date type:"
   ]
  },
  {
   "cell_type": "code",
   "execution_count": 4,
   "metadata": {},
   "outputs": [
    {
     "name": "stdout",
     "output_type": "stream",
     "text": [
      "2000-01-01T00:00:00.000000\n"
     ]
    }
   ],
   "source": [
    "ep = pk.epoch(0., pk.epoch.julian_type.MJD2000)\n",
    "print(ep)"
   ]
  },
  {
   "cell_type": "markdown",
   "metadata": {},
   "source": [
    ".. or use a different Julian Date than the default MJD2000:"
   ]
  },
  {
   "cell_type": "code",
   "execution_count": 5,
   "metadata": {},
   "outputs": [
    {
     "name": "stdout",
     "output_type": "stream",
     "text": [
      "2025-01-01T00:00:00.000000\n"
     ]
    }
   ],
   "source": [
    "ep = pk.epoch(2460676.5000000, pk.epoch.julian_type.JD)\n",
    "print(ep)"
   ]
  },
  {
   "cell_type": "markdown",
   "metadata": {},
   "source": [
    ":::{note}\n",
    "`pykep` supports the following Julian Dates MJD2000 (the default), MJD and JD. (see {class}`pykep.epoch.julian_type`)"
   ]
  },
  {
   "cell_type": "markdown",
   "metadata": {},
   "source": [
    "We may also request an epoch corresponding to the current UTC time:"
   ]
  },
  {
   "cell_type": "code",
   "execution_count": 6,
   "metadata": {},
   "outputs": [
    {
     "name": "stdout",
     "output_type": "stream",
     "text": [
      "2023-11-18T23:05:28.096045\n"
     ]
    }
   ],
   "source": [
    "ep = pk.epoch.now()\n",
    "print(ep)"
   ]
  },
  {
   "cell_type": "markdown",
   "metadata": {},
   "source": [
    "or construct it from an iso string:\n"
   ]
  },
  {
   "cell_type": "code",
   "execution_count": 7,
   "metadata": {},
   "outputs": [
    {
     "name": "stdout",
     "output_type": "stream",
     "text": [
      "2023-10-28T00:01:02.120000\n"
     ]
    }
   ],
   "source": [
    "ep = pk.epoch(\"2023-10-28T00:01:02.12\")\n",
    "print(ep)\n"
   ]
  },
  {
   "cell_type": "markdown",
   "metadata": {},
   "source": [
    "## Datetime interoperability"
   ]
  },
  {
   "cell_type": "markdown",
   "metadata": {},
   "source": [
    "If we have a datetime object from python builtin datetime library we can construct an epoch with it:"
   ]
  },
  {
   "cell_type": "code",
   "execution_count": 8,
   "metadata": {},
   "outputs": [
    {
     "name": "stdout",
     "output_type": "stream",
     "text": [
      "2033-11-12T12:22:12.014532\n"
     ]
    }
   ],
   "source": [
    "dt = datetime.datetime(year=2033, month=11, day=12, hour=12, minute=22, second=12, microsecond=14532)\n",
    "ep = pk.epoch(dt)\n",
    "print(ep)"
   ]
  },
  {
   "cell_type": "markdown",
   "metadata": {},
   "source": [
    "and convert it, when needed, to a julian representation:"
   ]
  },
  {
   "cell_type": "code",
   "execution_count": 9,
   "metadata": {},
   "outputs": [
    {
     "name": "stdout",
     "output_type": "stream",
     "text": [
      "63913.51541683486\n"
     ]
    }
   ],
   "source": [
    "print(ep.mjd)"
   ]
  },
  {
   "cell_type": "markdown",
   "metadata": {},
   "source": [
    "## The epoch math\n",
    "Additions and subtractions are allowed between epochs and floats or `datetime.timedelta`. \n",
    "When using floats days are always assumed."
   ]
  },
  {
   "cell_type": "code",
   "execution_count": 10,
   "metadata": {},
   "outputs": [
    {
     "name": "stdout",
     "output_type": "stream",
     "text": [
      "2000-01-22T05:38:54.456000\n"
     ]
    }
   ],
   "source": [
    "ep = pk.epoch(0)\n",
    "ep = ep + 21.2353525 # This will be interpreted as days\n",
    "print(ep)"
   ]
  },
  {
   "cell_type": "code",
   "execution_count": 11,
   "metadata": {},
   "outputs": [
    {
     "name": "stdout",
     "output_type": "stream",
     "text": [
      "2000-01-22T05:38:54.456000\n"
     ]
    }
   ],
   "source": [
    "ep = pk.epoch(0)\n",
    "ep = ep + datetime.timedelta(hours = 5, seconds=54, days=21, minutes=38, microseconds=456000) # This will be interpreted as days\n",
    "print(ep)"
   ]
  },
  {
   "cell_type": "markdown",
   "metadata": {},
   "source": [
    "Some basic comparison operators are also allowed and may turn handy!"
   ]
  },
  {
   "cell_type": "code",
   "execution_count": 12,
   "metadata": {},
   "outputs": [
    {
     "name": "stdout",
     "output_type": "stream",
     "text": [
      "True\n",
      "True\n"
     ]
    }
   ],
   "source": [
    "print(ep < ep + 4)\n",
    "print(ep == ep + datetime.timedelta(days=32) - 32)"
   ]
  },
  {
   "cell_type": "markdown",
   "metadata": {},
   "source": [
    "## Leap seconds and Gregorian dates.\n",
    "An everlasting source of confusion arises whenever leap-seconds (post 1972) and pre-Gregorian dates (before 1580) are considered. These are both variations to the Gregorian calendar that account for the historical attempts to try and establish a calendar that makes some sense. A clearly impossible, yet commendable, effort since the Earth orbital period and its rotation period are not commensurable.\n",
    "\n",
    "For peace of mind, `pykep` ignores both and uses the \"proleptic Gregorian calendar\". It is up to the user to make corrections when reading or using calendar dates. Lets see a few examples. Say we want to instantiate an epoch corresponding to the calendar date \"1999-02-01T10:23:22\". We would obviously like to write:"
   ]
  },
  {
   "cell_type": "code",
   "execution_count": 13,
   "metadata": {},
   "outputs": [
    {
     "name": "stdout",
     "output_type": "stream",
     "text": [
      "1999-02-01T10:23:22.000000\n"
     ]
    }
   ],
   "source": [
    "ep = pk.epoch(\"1999-02-01T10:23:22\")\n",
    "print(ep)"
   ]
  },
  {
   "cell_type": "markdown",
   "metadata": {},
   "source": [
    "The screen output confirms our attempt is successfull ... but what is printed on the screen is the  proleptic Gregorian calendar representation of the epoch constructed. Thus if we instead wanted to match it to the actual calendar in use by most people in 1999, we should add the leap seconds (see https://en.wikipedia.org/wiki/Leap_second). In particular 22 seconds have been added between 1972 and 1999, hence the epoch must be transformed: "
   ]
  },
  {
   "cell_type": "code",
   "execution_count": 14,
   "metadata": {},
   "outputs": [
    {
     "name": "stdout",
     "output_type": "stream",
     "text": [
      "1999-02-01T10:23:44.000000\n"
     ]
    }
   ],
   "source": [
    "ep_with_leap = ep + datetime.timedelta(seconds=22)\n",
    "print(ep_with_leap)"
   ]
  },
  {
   "cell_type": "markdown",
   "metadata": {},
   "source": [
    "Note the use of `datetime` objects here, as the alternative floating point representation would actually introduce small errors:\n"
   ]
  },
  {
   "cell_type": "code",
   "execution_count": 15,
   "metadata": {},
   "outputs": [
    {
     "name": "stdout",
     "output_type": "stream",
     "text": [
      "1999-02-01T10:23:43.999999\n"
     ]
    }
   ],
   "source": [
    "ep_with_leap2 = ep + 22. * pk.SEC2DAY\n",
    "print(ep_with_leap2)\n"
   ]
  },
  {
   "cell_type": "markdown",
   "metadata": {},
   "source": [
    "```{note}\n",
    "The float arithmetics on epochs should only be used when high accuracies are not needed.\n",
    "``````\n",
    "\n",
    "A second point of attention is with calendar dates prior to 1580, when the Gregorian calendar was introduced. Since in `pykep` we use the proleptic Gregorian calendar (i.e. we assume the Gregorian calendar is valid also before the 1580), our calendar dates will be off w.r.t. those we know and that are instead defined by the Julian Calndar which was active before 1580. \n",
    "\n",
    "For example, lets print the reference epoch for the Julian Date 0.:"
   ]
  },
  {
   "cell_type": "code",
   "execution_count": 16,
   "metadata": {},
   "outputs": [
    {
     "name": "stdout",
     "output_type": "stream",
     "text": [
      "-4713-11-24T12:00:00.000000\n"
     ]
    }
   ],
   "source": [
    "print(pk.epoch(0, pk.epoch.julian_type.JD))"
   ]
  },
  {
   "cell_type": "markdown",
   "metadata": {},
   "source": [
    "Now, this is confusing in at least two distinct ways:\n",
    "1) It is not corresponding to a 1st of January (as per definition of the Julian Dates)\n",
    "2) It indicates the years BC (in the anno domini calendar) with a minus (-4713) and accounts for the existence of a year 0: thus the year -1 will be 2 BC\n",
    "\n",
    "All in all, the Proleptic Gregorian Calendar Date for the reference epoch of the Julian Date is the 24th of November 4714BC at noon, NOT the 1st of January 4713 at noon which is, instead, its Julian definition."
   ]
  }
 ],
 "metadata": {
  "kernelspec": {
   "display_name": "kep3_devel",
   "language": "python",
   "name": "python3"
  },
  "language_info": {
   "codemirror_mode": {
    "name": "ipython",
    "version": 3
   },
   "file_extension": ".py",
   "mimetype": "text/x-python",
   "name": "python",
   "nbconvert_exporter": "python",
   "pygments_lexer": "ipython3",
   "version": "3.12.0"
  },
  "orig_nbformat": 4
 },
 "nbformat": 4,
 "nbformat_minor": 2
}
