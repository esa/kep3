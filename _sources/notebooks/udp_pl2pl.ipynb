{
 "cells": [
  {
   "cell_type": "markdown",
   "metadata": {},
   "source": [
    "# Planet to planet low-thrust\n",
    "\n",
    "In this tutorial we show the use of the {class}`pykep.trajopt.direct_pl2pl` to find a low-thrust trajectory connecting two moving planets. \n",
    "\n",
    "The decision vector for this class, compatible with pygmo {cite:p}`pagmo` UDPs (User Defined Problems), is:\n",
    "\n",
    "$$\n",
    "\\mathbf x = [t_0, m_f, V_{sx}^\\infty, V^\\infty_{sy}, V^\\infty_{sz}, V^\\infty_{fx}, V^\\infty_{fy}, V^\\infty_{fz}, u_{x0}, u_{y0}, u_{z0}, u_{x1}, u_{y1}, u_{z1}, ..., T_{tof}]\n",
    "$$\n",
    "\n",
    "containing the starting epoch $t_0$ as a MJD2000, the final mass $m_f$ as well as the starting and final $V^{\\infty}$, throttles and the time-of-flight $T_{tof}$.\n",
    "\n",
    ":::{note}\n",
    "This notebook makes use of the commercial solver SNOPT 7 and to run needs a valid `snopt_7_c` library installed in the system. In case SNOPT7 is not available, you can still run the notebook using, for example `uda = pg.algorithm.nlopt(\"slsqp\")` with minor modifications."
   ]
  },
  {
   "cell_type": "markdown",
   "metadata": {},
   "source": [
    "Basic imports:"
   ]
  },
  {
   "cell_type": "code",
   "execution_count": 24,
   "metadata": {},
   "outputs": [],
   "source": [
    "import pykep as pk\n",
    "import numpy as np\n",
    "import time\n",
    "import pygmo as pg\n",
    "import pygmo_plugins_nonfree as ppnf\n",
    "import time\n",
    "\n",
    "from matplotlib import pyplot as plt"
   ]
  },
  {
   "cell_type": "markdown",
   "metadata": {},
   "source": [
    "We start defining the problem data."
   ]
  },
  {
   "cell_type": "code",
   "execution_count": 25,
   "metadata": {},
   "outputs": [],
   "source": [
    "# Problem data\n",
    "mu = pk.MU_SUN\n",
    "max_thrust = 0.6\n",
    "isp = 3000\n",
    "veff = isp * pk.G0\n",
    "\n",
    "# Source and destination planets\n",
    "earth = pk.planet_to_keplerian(\n",
    "    pk.planet(pk.udpla.jpl_lp(body=\"EARTH\")), when=pk.epoch(5000)\n",
    ")\n",
    "\n",
    "mars = pk.planet_to_keplerian(\n",
    "    pk.planet(pk.udpla.jpl_lp(body=\"MARS\")), when=pk.epoch(5000)\n",
    ")\n",
    "\n",
    "venus = pk.planet_to_keplerian(\n",
    "    pk.planet(pk.udpla.jpl_lp(body=\"venus\")), when=pk.epoch(5000)\n",
    ")\n",
    "\n",
    "# Initial state\n",
    "ms = 1500.0\n",
    "\n",
    "# Number of segments\n",
    "nseg = 30"
   ]
  },
  {
   "cell_type": "markdown",
   "metadata": {},
   "source": [
    "We here instantiate two different versions of the same UDP (User Defined Problem), with analytical gradients and without. \n",
    "\n",
    "For the purpose of this simple notebook we choose a relatively simple Earth to Mars transfer with an initial $V_{\\infty}$ of 3 km/s."
   ]
  },
  {
   "cell_type": "code",
   "execution_count": 26,
   "metadata": {},
   "outputs": [],
   "source": [
    "udp_nog = pk.trajopt.direct_pl2pl(\n",
    "        pls=earth,\n",
    "        plf=mars,\n",
    "        ms=ms,\n",
    "        mu=pk.MU_SUN,\n",
    "        max_thrust=max_thrust,\n",
    "        veff=veff,\n",
    "        t0_bounds=[7360, 8300.0],\n",
    "        tof_bounds=[100.0, 350.0],\n",
    "        mf_bounds=[1000., ms],\n",
    "        vinfs=0.,\n",
    "        vinff=0.,\n",
    "        nseg=nseg,\n",
    "        cut=0.6,\n",
    "        mass_scaling=ms,\n",
    "        r_scaling=pk.AU,\n",
    "        v_scaling=pk.EARTH_VELOCITY,\n",
    "        with_gradient=False,\n",
    ")\n",
    "\n",
    "udp_g = pk.trajopt.direct_pl2pl(\n",
    "        pls=earth,\n",
    "        plf=mars,\n",
    "        ms=ms,\n",
    "        mu=pk.MU_SUN,\n",
    "        max_thrust=max_thrust,\n",
    "        veff=veff,\n",
    "        t0_bounds=[7360, 8300.0],\n",
    "        tof_bounds=[100.0, 350.0],\n",
    "        mf_bounds=[1000., ms],\n",
    "        vinfs=0.,\n",
    "        vinff=0.,\n",
    "        nseg=nseg,\n",
    "        cut=0.6,\n",
    "        mass_scaling=ms,\n",
    "        r_scaling=pk.AU,\n",
    "        v_scaling=pk.EARTH_VELOCITY,\n",
    "        with_gradient=True,\n",
    ")"
   ]
  },
  {
   "cell_type": "markdown",
   "metadata": {},
   "source": [
    "## Analytical performances of the analytical gradient\n",
    "\n",
    "And we take a quick look at the performances of the analytical gradient with respect to the numerically computed one."
   ]
  },
  {
   "cell_type": "code",
   "execution_count": 27,
   "metadata": {},
   "outputs": [],
   "source": [
    "# We need to generste a random chromosomes compatible with the UDP where to test the gradient.\n",
    "prob_g = pg.problem(udp_g)\n",
    "pop_g = pg.population(prob_g, 1)"
   ]
  },
  {
   "cell_type": "markdown",
   "metadata": {},
   "source": [
    "First the analytical gradient:"
   ]
  },
  {
   "cell_type": "code",
   "execution_count": 28,
   "metadata": {},
   "outputs": [
    {
     "name": "stdout",
     "output_type": "stream",
     "text": [
      "388 μs ± 10.3 μs per loop (mean ± std. dev. of 7 runs, 1,000 loops each)\n"
     ]
    }
   ],
   "source": [
    "%%timeit\n",
    "udp_g.gradient(pop_g.champion_x)"
   ]
  },
  {
   "cell_type": "markdown",
   "metadata": {},
   "source": [
    "Then a simple numerical gradient based on finite differences:"
   ]
  },
  {
   "cell_type": "code",
   "execution_count": 29,
   "metadata": {},
   "outputs": [
    {
     "name": "stdout",
     "output_type": "stream",
     "text": [
      "4.84 ms ± 50.3 μs per loop (mean ± std. dev. of 7 runs, 100 loops each)\n"
     ]
    }
   ],
   "source": [
    "%%timeit\n",
    "pg.estimate_gradient(udp_g.fitness, pop_g.champion_x)"
   ]
  },
  {
   "cell_type": "markdown",
   "metadata": {},
   "source": [
    "Then a higher order numerical gradient:"
   ]
  },
  {
   "cell_type": "code",
   "execution_count": 30,
   "metadata": {},
   "outputs": [
    {
     "name": "stdout",
     "output_type": "stream",
     "text": [
      "14.4 ms ± 48.6 μs per loop (mean ± std. dev. of 7 runs, 100 loops each)\n"
     ]
    }
   ],
   "source": [
    "%%timeit\n",
    "pg.estimate_gradient_h(udp_g.fitness, pop_g.champion_x)"
   ]
  },
  {
   "cell_type": "markdown",
   "metadata": {},
   "source": [
    "The analytical gradient its exact and faster, seems like a no brainer to use it. \n",
    "\n",
    "In reality, the effects on the optimization technique used are not straightforward, making the option to use numerical gradients still interesting in some, albeit rare, cases."
   ]
  },
  {
   "cell_type": "markdown",
   "metadata": {},
   "source": [
    "## Solving the low-thrust transfer\n",
    "\n",
    "We define (again) the optimization problem, and set a tolerance for *pagmo* to be able to judge the relative value of two individuals. \n",
    "\n",
    ":::{note}\n",
    "This tolerance has a different role from the numerical tolerance set in the particular algorithm chosen to solve the problem and is only used by the *pagmo* machinery to decide outside the optimizer whether the new proposed indivdual is better than what was the previous *champion*."
   ]
  },
  {
   "cell_type": "code",
   "execution_count": 31,
   "metadata": {},
   "outputs": [],
   "source": [
    "prob_g = pg.problem(udp_g)\n",
    "prob_g.c_tol = 1e-6"
   ]
  },
  {
   "cell_type": "markdown",
   "metadata": {},
   "source": [
    "... and we define an optimization algorithm."
   ]
  },
  {
   "cell_type": "code",
   "execution_count": null,
   "metadata": {},
   "outputs": [],
   "source": [
    "snopt72 = \"/Users/dario.izzo/opt/libsnopt7_c.dylib\"\n",
    "uda = ppnf.snopt7(library=snopt72, minor_version=2, screen_output=False)\n",
    "uda.set_integer_option(\"Major iterations limit\", 2000)\n",
    "uda.set_integer_option(\"Iterations limit\", 20000)\n",
    "uda.set_numeric_option(\"Major optimality tolerance\", 1e-3)\n",
    "uda.set_numeric_option(\"Major feasibility tolerance\", 1e-11)\n",
    "\n",
    "#uda = pg.nlopt(\"slsqp\")\n",
    "algo = pg.algorithm(uda)"
   ]
  },
  {
   "cell_type": "markdown",
   "metadata": {},
   "source": [
    "We solve the problem from random initial guess ten times and only save the result if a feasible solution is found (as defined by the criterias above)"
   ]
  },
  {
   "cell_type": "code",
   "execution_count": 33,
   "metadata": {},
   "outputs": [
    {
     "name": "stdout",
     "output_type": "stream",
     "text": [
      ".x...x.x..\n",
      "Best mass is:  1234.15683652\n",
      "Worst mass is:  1000.00240866\n"
     ]
    }
   ],
   "source": [
    "masses = []\n",
    "xs = []\n",
    "for i in range(10):\n",
    "    pop_g = pg.population(prob_g, 1)\n",
    "    pop_g = algo.evolve(pop_g)\n",
    "    if(prob_g.feasibility_f(pop_g.champion_f)):\n",
    "        print(\".\", end=\"\")\n",
    "        masses.append(pop_g.champion_x[1])\n",
    "        xs.append(pop_g.champion_x)\n",
    "    else:\n",
    "        print(\"x\", end =\"\")\n",
    "print(\"\\nBest mass is: \", np.max(masses))\n",
    "print(\"Worst mass is: \", np.min(masses))\n",
    "best_idx = np.argmax(masses)"
   ]
  },
  {
   "cell_type": "markdown",
   "metadata": {},
   "source": [
    "And we plot the trajectory found:"
   ]
  },
  {
   "cell_type": "code",
   "execution_count": 34,
   "metadata": {},
   "outputs": [
    {
     "name": "stdout",
     "output_type": "stream",
     "text": [
      "\n",
      "Low-thrust NEP transfer\n",
      "Departure: earth(jpl_lp)(K)\n",
      "Arrival: mars(jpl_lp)(K)\n",
      "\n",
      "Launch epoch: 7451.99905 MJD2000, a.k.a. 2020-05-26T23:58:37.777239\n",
      "Arrival epoch: 7801.99905 MJD2000, a.k.a. 2021-05-11T23:58:37.777239\n",
      "Time of flight (days): 350.00000 \n",
      "\n",
      "Launch DV (km/s) 0.00000000 - [-0.0,-0.0,-0.0]\n",
      "Arrival DV (km/s) 0.00000000 - [-0.0,-0.0,-0.0]\n",
      "Final mass (kg): 1234.1568365174858\n",
      "\n",
      "Details on the low-thrust leg: \n",
      "Number of segments: 30\n",
      "Number of fwd segments: 18\n",
      "Number of bck segments: 12\n",
      "Maximum thrust: 0.6\n",
      "Central body gravitational parameter: 1.3271244004127942e+20\n",
      "Specific impulse: 29419.949999999997\n",
      "\n",
      "Time of flight: 30240000\n",
      "Initial mass: 1500\n",
      "Final mass: 1234.1568365174858\n",
      "State at departure: [[-61940343629.2697, -138342786962.2452, 4315832.209158619], [26703.174217445237, -12284.734893133622, 0.38324263734277736]]\n",
      "State at arrival: [[-154574671931.75818, 191750935543.9109, 7812362370.575885], [-17947.983008640604, -13143.524741070263, 165.21826805857714]]\n",
      "Throttles values: [0.9149919539929579, -0.2725359209100713, -0.29751285015299656, 0.962467223571917, -0.10214778572097537, -0.25144119278969174, 0.9776102300781263, 0.0761024016853803, -0.19618017885672326, 0.9577082586238517, 0.25533303803466817, -0.13266475948495784, 0.9020227810244762, 0.4270404077693045, -0.06317747015340268, 0.8124941812081083, 0.5828797608824411, 0.010217150887220914, 0.6258910897305112, 0.6441274653944074, 0.07604724328788541, 8.643112090963488e-06, 1.2971573089761085e-05, 2.02573959082645e-06, 1.9402676195389745e-06, 4.116571390270388e-06, 1.0918826610204628e-06, 1.7531486204076886e-06, 6.6492515764816175e-06, 2.0439159913518445e-06, 6.497048168817056e-06, 6.254154897918531e-05, 2.222633512201523e-05, -3.907433113104457e-05, 0.0005705546606046523, 0.00023585797399559014, -0.1980851209765093, 0.8898566605361083, 0.40849620097319755, -0.3261733750073858, 0.8402697810771312, 0.4330792360402391, -0.44216210010572304, 0.7765577216795246, 0.4488326890553638, -0.16827487274493602, 0.21634099070250623, 0.14069169750160235, -0.00028083636215234757, 0.00027196352431085234, 0.00020171101827332145, -6.755298505147713e-07, 4.901379402024183e-07, 4.368915123034922e-07, -3.224169200091259e-06, 1.5455028409302713e-06, 1.7622592268945932e-06, -5.128303061091521e-06, 1.8289984300969872e-06, 2.5613455275741694e-06, -1.201177884483597e-06, 2.4358299399221113e-07, 6.745275326332689e-07, -7.32175825082655e-07, 1.1147397752068074e-07, 4.2811046712246406e-07, -1.4768666477965314e-06, -3.741517913801966e-08, 5.316783969739916e-07, -2.822836736482606e-06, -6.205060557090042e-07, 7.994338305580654e-07, -8.907902552019307e-06, -1.6478656337137234e-06, 2.1705592125269153e-06, -7.391982864209063e-06, -2.372687553706626e-06, 1.530148390821635e-06, -8.090054508720513e-07, -2.8958416763596854e-07, 7.234658896056569e-08, -0.6702759079241221, -0.3770492971452008, 0.0754920979561721, -0.8177587262868643, -0.5735537329417719, 0.0480289692781687, -0.7588285984053121, -0.6512901333686354, -0.0005674653604181771]\n",
      "\n",
      "Mismatch constraints: [0.94464111328125, 6.167388916015625, 3.928389072418213, 2.843007678166032e-07, 2.4610253603896126e-06, 9.204180742017343e-07, -3.0061348752496997e-06]\n",
      "Throttle constraints: [6.431122301364667e-11, 9.435785486289205e-12, 7.194600470938894e-11, 7.3575454617724745e-09, 8.988809696575117e-11, 3.156583883168196e-10, -0.1875769689088429, -0.9999999997529313, -0.999999999978097, -0.9999999999485363, -0.9999999955523331, -0.999999617311592, -0.002048262337711937, 2.4431590084361687e-10, 6.346663194989333e-10, -0.9050859891986514, -0.9999998064794442, -0.9999999999991126, -0.9999999999841106, -0.9999999999637947, -0.9999999999980429, -0.9999999999992683, -0.9999999999975347, -0.9999999999910074, -0.9999999999132225, -0.9999999999373876, -0.9999999999992564, -0.40286497792497955, 8.796792183574098e-10, 1.5980405887461302e-09]\n",
      "\n",
      "\n"
     ]
    }
   ],
   "source": [
    "udp_g.pretty(xs[best_idx])"
   ]
  },
  {
   "cell_type": "code",
   "execution_count": 35,
   "metadata": {},
   "outputs": [
    {
     "data": {
      "image/png": "[encoded data removed]",
      "text/plain": [
       "<Figure size 700x700 with 1 Axes>"
      ]
     },
     "metadata": {},
     "output_type": "display_data"
    }
   ],
   "source": [
    "ax = udp_g.plot(xs[best_idx], show_gridpoints=True)\n",
    "ax.view_init(90, 0)"
   ]
  },
  {
   "cell_type": "markdown",
   "metadata": {},
   "source": [
    "## Graident vs no gradient\n",
    "We here take a look at the difference in solving the problem using the analytical gradient and not using it.\n",
    "To do so we solve the same problem starting from 100 different initial guesses using both versions and compare."
   ]
  },
  {
   "cell_type": "code",
   "execution_count": 37,
   "metadata": {},
   "outputs": [
    {
     "name": "stderr",
     "output_type": "stream",
     "text": [
      "100%|██████████| 100/100 [05:15<00:00,  3.16s/it]"
     ]
    },
    {
     "name": "stdout",
     "output_type": "stream",
     "text": [
      "Gradient: 1.0034e+00s\n",
      "No Gradient: 1.9059e+00s\n",
      "\n",
      "Gradient (n.fails): 13\n",
      "No Gradient (n.fails): 46\n"
     ]
    },
    {
     "name": "stderr",
     "output_type": "stream",
     "text": [
      "\n"
     ]
    }
   ],
   "source": [
    "from tqdm import tqdm\n",
    "\n",
    "cpu_nog = []\n",
    "cpu_g = []\n",
    "\n",
    "fail_g = 0\n",
    "fail_nog = 0\n",
    "\n",
    "prob_g = pg.problem(udp_g)\n",
    "prob_nog = pg.problem(udp_nog)\n",
    "prob_g.c_tol = 1e-6\n",
    "prob_nog.c_tol = 1e-6\n",
    "\n",
    "for i in tqdm(range(100)):\n",
    "    pop_g = pg.population(prob_g, 1)\n",
    "    pop_nog = pg.population(prob_nog)\n",
    "    pop_nog.push_back(pop_g.champion_x)\n",
    "\n",
    "    start = time.time()\n",
    "    pop_g = algo.evolve(pop_g)\n",
    "    end = time.time()\n",
    "    if not prob_g.feasibility_f(pop_g.champion_f):\n",
    "        fail_g += 1\n",
    "    else: # We only record the time for successfull attempts\n",
    "        cpu_g.append(end - start)\n",
    "\n",
    "    start = time.time()\n",
    "    pop_nog = algo.evolve(pop_nog)\n",
    "    end = time.time()\n",
    "    if not prob_nog.feasibility_f(pop_nog.champion_f):\n",
    "        fail_nog += 1\n",
    "    else: # We only record the time for successfull attempts\n",
    "        cpu_nog.append(end - start)\n",
    "\n",
    "print(f\"Gradient: {np.median(cpu_g):.4e}s\")\n",
    "print(f\"No Gradient: {np.median(cpu_nog):.4e}s\")\n",
    "\n",
    "print(f\"\\nGradient (n.fails): {fail_g}\")\n",
    "print(f\"No Gradient (n.fails): {fail_nog}\")"
   ]
  },
  {
   "cell_type": "code",
   "execution_count": 38,
   "metadata": {},
   "outputs": [
    {
     "data": {
      "text/plain": [
       "Text(0, 0.5, 'N. occurrences')"
      ]
     },
     "execution_count": 38,
     "metadata": {},
     "output_type": "execute_result"
    },
    {
     "data": {
      "image/png": "[encoded data removed]",
      "text/plain": [
       "<Figure size 640x480 with 1 Axes>"
      ]
     },
     "metadata": {},
     "output_type": "display_data"
    }
   ],
   "source": [
    "cpu_g = np.array(cpu_g)\n",
    "cpu_nog = np.array(cpu_nog)\n",
    "plt.hist(cpu_g[cpu_g < 2.2], bins=20, label=\"gradient\", density=True, alpha=0.5)\n",
    "plt.hist(cpu_nog[cpu_nog < 1.2], bins=20, label=\"no_gradient\", density=True, alpha=0.5)\n",
    "# plt.xlim([0,0.15])\n",
    "plt.legend()\n",
    "plt.title(\"point2point, 10 seg case\")\n",
    "plt.xlabel(\"CPU time\")\n",
    "plt.ylabel(\"N. occurrences\")"
   ]
  }
 ],
 "metadata": {
  "kernelspec": {
   "display_name": "kep3_devel",
   "language": "python",
   "name": "python3"
  },
  "language_info": {
   "codemirror_mode": {
    "name": "ipython",
    "version": 3
   },
   "file_extension": ".py",
   "mimetype": "text/x-python",
   "name": "python",
   "nbconvert_exporter": "python",
   "pygments_lexer": "ipython3",
   "version": "3.13.7"
  },
  "orig_nbformat": 4
 },
 "nbformat": 4,
 "nbformat_minor": 2
}
