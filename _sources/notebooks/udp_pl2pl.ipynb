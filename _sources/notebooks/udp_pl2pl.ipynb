{
 "cells": [
  {
   "cell_type": "markdown",
   "metadata": {},
   "source": [
    "# Planet to planet low-thrust\n",
    "\n",
    "In this tutorial we show the use of the {class}`pykep.trajopt.direct_pl2pl` to find a low-thrust trajectory connecting two moving planets. \n",
    "\n",
    "The decision vector for this class, compatible with pygmo {cite:p}`pagmo` UDPs (User Defined Problems), is:\n",
    "\n",
    "$$\n",
    "\\mathbf x = [t_0, m_f, V_{sx}^\\infty, V^\\infty_{sy}, V^\\infty_{sz}, V^\\infty_{fx}, V^\\infty_{fy}, V^\\infty_{fz}, u_{x0}, u_{y0}, u_{z0}, u_{x1}, u_{y1}, u_{z1}, ..., T_{tof}]\n",
    "$$\n",
    "\n",
    "containing the starting epoch $t_0$ as a MJD2000, the final mass $m_f$ as well as the starting and final $V^{\\infty}$, throttles and the time-of-flight $T_{tof}$.\n",
    "\n",
    ":::{note}\n",
    "This notebook makes use of the commercial solver SNOPT 7 and to run needs a valid `snopt_7_c` library installed in the system. In case SNOPT7 is not available, you can still run the notebook using, for example `uda = pg.algorithm.nlopt(\"slsqp\")` with minor modifications."
   ]
  },
  {
   "cell_type": "markdown",
   "metadata": {},
   "source": [
    "Basic imports:"
   ]
  },
  {
   "cell_type": "code",
   "execution_count": 2,
   "metadata": {},
   "outputs": [],
   "source": [
    "import pykep as pk\n",
    "import numpy as np\n",
    "import time\n",
    "import pygmo as pg\n",
    "import pygmo_plugins_nonfree as ppnf\n",
    "import time\n",
    "\n",
    "from matplotlib import pyplot as plt"
   ]
  },
  {
   "cell_type": "markdown",
   "metadata": {},
   "source": [
    "We start defining the problem data."
   ]
  },
  {
   "cell_type": "code",
   "execution_count": 38,
   "metadata": {},
   "outputs": [],
   "source": [
    "# Problem data\n",
    "mu = pk.MU_SUN\n",
    "max_thrust = 0.3\n",
    "isp = 3000\n",
    "\n",
    "# Source and destination planets\n",
    "earth = pk.planet_to_keplerian(\n",
    "    pk.planet(pk.udpla.jpl_lp(body=\"EARTH\")), when=pk.epoch(5000)\n",
    ")\n",
    "\n",
    "mars = pk.planet_to_keplerian(\n",
    "    pk.planet(pk.udpla.jpl_lp(body=\"MARS\")), when=pk.epoch(5000)\n",
    ")\n",
    "\n",
    "venus = pk.planet_to_keplerian(\n",
    "    pk.planet(pk.udpla.jpl_lp(body=\"venus\")), when=pk.epoch(5000)\n",
    ")\n",
    "\n",
    "p1 = pk.planet(pk.udpla.keplerian(elem=[pk.AU, 0.1,0.1,0.,0.,0.], when=pk.epoch(0), mu_central_body=pk.MU_SUN))\n",
    "p2 = pk.planet(pk.udpla.keplerian(elem=[pk.AU*1.1, 0.03,0.1,1.5,1.,3.], when=pk.epoch(0), mu_central_body=pk.MU_SUN))\n",
    "\n",
    "# Initial state\n",
    "ms = 1500.0\n",
    "\n",
    "# Number of segments\n",
    "nseg = 10"
   ]
  },
  {
   "cell_type": "markdown",
   "metadata": {},
   "source": [
    "We here instantiate two different versions of the same UDP (User Defined Problem), with analytical gradients and without. \n",
    "\n",
    "For the purpose of this simple notebook we choose a relatively simple Earth to Mars transfer with an initial $V_{\\infty}$ of 3 km/s."
   ]
  },
  {
   "cell_type": "code",
   "execution_count": 79,
   "metadata": {},
   "outputs": [],
   "source": [
    "udp_nog = pk.trajopt.direct_pl2pl(\n",
    "        pls=earth,\n",
    "        plf=mars,\n",
    "        ms=ms,\n",
    "        mu=pk.MU_SUN,\n",
    "        max_thrust=max_thrust,\n",
    "        isp=3000,\n",
    "        t0_bounds=[6700.0, 6800.0],\n",
    "        tof_bounds=[100.0, 200.0],\n",
    "        mf_bounds=[1300., ms],\n",
    "        vinfs=0.,\n",
    "        vinff=0.,\n",
    "        nseg=nseg,\n",
    "        cut=0.6,\n",
    "        mass_scaling=ms,\n",
    "        r_scaling=pk.AU,\n",
    "        v_scaling=pk.EARTH_VELOCITY,\n",
    "        with_gradient=False,\n",
    ")\n",
    "\n",
    "udp_g = pk.trajopt.direct_pl2pl(\n",
    "        pls=p1,\n",
    "        plf=p2,\n",
    "        ms=ms,\n",
    "        mu=pk.MU_SUN,\n",
    "        max_thrust=0.6,\n",
    "        isp=3000,\n",
    "        t0_bounds=[7360, 8300.0],\n",
    "        tof_bounds=[100.0, 250.0],\n",
    "        mf_bounds=[1000., ms],\n",
    "        vinfs=0.,\n",
    "        vinff=0.,\n",
    "        nseg=30,\n",
    "        cut=0.6,\n",
    "        mass_scaling=ms,\n",
    "        r_scaling=pk.AU,\n",
    "        v_scaling=pk.EARTH_VELOCITY,\n",
    "        with_gradient=True,\n",
    ")"
   ]
  },
  {
   "cell_type": "markdown",
   "metadata": {},
   "source": [
    "## Analytical performances of the analytical gradient\n",
    "\n",
    "And we take a quick look at the performances of the analytical gradient with respect to the numerically computed one."
   ]
  },
  {
   "cell_type": "code",
   "execution_count": 121,
   "metadata": {},
   "outputs": [],
   "source": [
    "# We need to generste a random chromosomes compatible with the UDP where to test the gradient.\n",
    "prob_g = pg.problem(udp_g)\n",
    "pop_g = pg.population(prob_g, 1)"
   ]
  },
  {
   "cell_type": "markdown",
   "metadata": {},
   "source": [
    "First the analytical gradient:"
   ]
  },
  {
   "cell_type": "code",
   "execution_count": 122,
   "metadata": {},
   "outputs": [
    {
     "name": "stdout",
     "output_type": "stream",
     "text": [
      "337 μs ± 676 ns per loop (mean ± std. dev. of 7 runs, 1,000 loops each)\n"
     ]
    }
   ],
   "source": [
    "%%timeit\n",
    "udp_g.gradient(pop_g.champion_x)"
   ]
  },
  {
   "cell_type": "markdown",
   "metadata": {},
   "source": [
    "Then a simple numerical gradient based on finite differences:"
   ]
  },
  {
   "cell_type": "code",
   "execution_count": 6,
   "metadata": {},
   "outputs": [
    {
     "name": "stdout",
     "output_type": "stream",
     "text": [
      "1.08 ms ± 9.79 μs per loop (mean ± std. dev. of 7 runs, 1,000 loops each)\n"
     ]
    }
   ],
   "source": [
    "%%timeit\n",
    "pg.estimate_gradient(udp_g.fitness, pop_g.champion_x)"
   ]
  },
  {
   "cell_type": "markdown",
   "metadata": {},
   "source": [
    "Then a higher order numerical gradient:"
   ]
  },
  {
   "cell_type": "code",
   "execution_count": 7,
   "metadata": {},
   "outputs": [
    {
     "name": "stdout",
     "output_type": "stream",
     "text": [
      "3.18 ms ± 4.79 μs per loop (mean ± std. dev. of 7 runs, 100 loops each)\n"
     ]
    }
   ],
   "source": [
    "%%timeit\n",
    "pg.estimate_gradient_h(udp_g.fitness, pop_g.champion_x)"
   ]
  },
  {
   "cell_type": "markdown",
   "metadata": {},
   "source": [
    "The analytical gradient its exact and faster, seems like a no brainer to use it. \n",
    "\n",
    "In reality, the effects on the optimization technique used are not straightforward, making the option to use numerical gradients still interesting in some, albeit rare, cases."
   ]
  },
  {
   "cell_type": "markdown",
   "metadata": {},
   "source": [
    "## Solving the low-thrust transfer\n",
    "\n",
    "We define (again) the optimization problem, and set a tolerance for *pagmo* to be able to judge the relative value of two individuals. \n",
    "\n",
    ":::{note}\n",
    "This tolerance has a different role from the numerical tolerance set in the particular algorithm chosen to solve the problem and is only used by the *pagmo* machinery to decide outside the optimizer whether the new proposed indivdual is better than what was the previous *champion*."
   ]
  },
  {
   "cell_type": "code",
   "execution_count": 80,
   "metadata": {},
   "outputs": [],
   "source": [
    "prob_g = pg.problem(udp_g)\n",
    "prob_g.c_tol = 1e-6"
   ]
  },
  {
   "cell_type": "markdown",
   "metadata": {},
   "source": [
    "... and we define an optimization algorithm."
   ]
  },
  {
   "cell_type": "code",
   "execution_count": 81,
   "metadata": {},
   "outputs": [],
   "source": [
    "snopt72 = \"/Users/dario.izzo/opt/libsnopt7_c.dylib\"\n",
    "uda = ppnf.snopt7(library=snopt72, minor_version=2, screen_output=False)\n",
    "uda.set_integer_option(\"Major iterations limit\", 2000)\n",
    "uda.set_integer_option(\"Iterations limit\", 20000)\n",
    "uda.set_numeric_option(\"Major optimality tolerance\", 1e-3)\n",
    "uda.set_numeric_option(\"Major feasibility tolerance\", 1e-11)\n",
    "\n",
    "#uda = pg.nlopt(\"slsqp\")\n",
    "algo = pg.algorithm(uda)"
   ]
  },
  {
   "cell_type": "markdown",
   "metadata": {},
   "source": [
    "We solve the problem from random initial guess ten times and only save the result if a feasible solution is found (as defined by the criterias above)"
   ]
  },
  {
   "cell_type": "code",
   "execution_count": 82,
   "metadata": {},
   "outputs": [
    {
     "name": "stdout",
     "output_type": "stream",
     "text": [
      "....x.x...\n",
      "Best mass is:  1260.0379732879646\n",
      "Worst mass is:  1235.8224576648008\n"
     ]
    }
   ],
   "source": [
    "masses = []\n",
    "xs = []\n",
    "for i in range(10):\n",
    "    pop_g = pg.population(prob_g, 1)\n",
    "    pop_g = algo.evolve(pop_g)\n",
    "    if(prob_g.feasibility_f(pop_g.champion_f)):\n",
    "        print(\".\", end=\"\")\n",
    "        masses.append(pop_g.champion_x[1])\n",
    "        xs.append(pop_g.champion_x)\n",
    "    else:\n",
    "        print(\"x\", end =\"\")\n",
    "print(\"\\nBest mass is: \", np.max(masses))\n",
    "print(\"Worst mass is: \", np.min(masses))\n",
    "best_idx = np.argmax(masses)"
   ]
  },
  {
   "cell_type": "markdown",
   "metadata": {},
   "source": [
    "And we plot the trajectory found:"
   ]
  },
  {
   "cell_type": "code",
   "execution_count": 83,
   "metadata": {},
   "outputs": [
    {
     "name": "stdout",
     "output_type": "stream",
     "text": [
      "\n",
      "Low-thrust NEP transfer\n",
      "Departure: unknown UDPLA\n",
      "Arrival: unknown UDPLA\n",
      "\n",
      "Launch epoch: 7604.00035 MJD2000, a.k.a. 2020-10-26T00:00:29.824280\n",
      "Arrival epoch: 7854.00035 MJD2000, a.k.a. 2021-07-03T00:00:29.824280\n",
      "Time of flight (days): 250.00000 \n",
      "\n",
      "Launch DV (km/s) 0.00000000 - [-0.0,-0.0,-0.0]\n",
      "Arrival DV (km/s) 0.00000000 - [-0.0,-0.0,-0.0]\n",
      "Final mass (kg): 1260.0379732879646\n",
      "\n",
      "Details on the low-thrust leg: \n",
      "Number of segments: 30\n",
      "Number of fwd segments: 18\n",
      "Number of bck segments: 12\n",
      "Maximum thrust: 0.6\n",
      "Central body gravitational parameter: 1.3271244004127942e+20\n",
      "Specific impulse: 3000\n",
      "\n",
      "Time of flight: 21600000\n",
      "Initial mass: 1500\n",
      "Final mass: 1260.0379732879646\n",
      "State at departure: [[34110913367.783306, -139910016918.87585, -14037825669.025244], [29090.9902134693, 10000.390168313803, 1003.3858682643288]]\n",
      "State at arrival: [[-159018773159.22266, -18832495968.945133, 15781467087.350443], [2781.182556622003, -28898.40730995848, -483.4533989771214]]\n",
      "Throttles values: [-0.07023251523987217, 0.034332943410028266, -0.9969396384936693, -0.07349327132621603, 0.004224313047079454, -0.9972867663060554, -0.07489321217845256, -0.029502285081097313, -0.996755046109509, -0.07327428477042026, -0.06902296178046946, -0.9949204540759232, 4.14852860193033e-11, 3.5375341469855814e-11, -8.573095243669458e-10, -6.097393163681223e-14, -8.725143678860424e-13, -8.530411920612091e-13, -3.5966763318418805e-13, -4.172922015609591e-13, -4.54973592586823e-13, 2.0924877610202944e-14, -2.467932517679902e-14, 7.35196456915747e-14, -2.580650764945926e-13, 7.246512042075852e-15, -5.189539995941978e-14, 2.1752198564410137e-15, 1.8385238359951235e-13, 5.743416788241826e-13, -1.60509960791611e-13, 4.1198517362607954e-13, -2.026023346330085e-13, -1.1184930109794683e-12, 9.594547251332383e-13, -1.181718936270026e-12, -4.1414130130008956e-13, 4.85513091991763e-13, -1.2522447283419034e-13, -8.135556053330194e-14, -8.966147992694586e-15, 4.593367831993075e-14, 6.73517222273945e-14, 1.3625494210431208e-13, -1.6489275837928297e-13, -3.6699427066577824e-13, -1.275297442390812e-14, 2.5593837660061043e-13, -1.8766394774289837e-13, -2.171373641866431e-13, 3.1636194888875857e-12, 0.036625211870962626, -0.09856986056750797, 0.2767546026747471, 0.09145022442209139, -0.3320461406426424, 0.9388195870014002, 0.06532231206241622, -0.3449043390930958, 0.9363621053960609, 0.04587879077616351, -0.36948129299890947, 0.9281049028428225, 0.03391378321832844, -0.40424843449756015, 0.9140202724854073, 0.030389835076269082, -0.44790181702766474, 0.8935661252686014, 0.03640723409019633, -0.499146619541211, 0.865752369622257, 0.05315208094921412, -0.5564836075119695, 0.8291567106773935, 0.08180081258596507, -0.6179607686375264, 0.7819418875373135, 0.12333545749953842, -0.6808810671449723, 0.7219344411559026, 0.1782251655774031, -0.7414995754436315, 0.646849418312967, 0.2459398876888526, -0.7948250864559712, 0.5547672066587716, 0.3243837104350158, -0.8347583842214152, 0.44491982241350736]\n",
      "\n",
      "Mismatch constraints: [-0.001232147216796875, 0.007049560546875, 0.021036148071289062, 3.4669938031584024e-09, 1.3099565876473207e-10, -3.423338057473302e-09, -1.5802470443304628e-10]\n",
      "Throttle constraints: [3.1086244689504383e-15, 1.3722356584366935e-13, 1.8252066524837574e-13, 2.0605739337042905e-13, -1, -1, -1, -1, -1, -1, -1, -1, -1, -1, -1, -1, -1, -0.912349466341452, 3.9968028886505635e-15, 1.687538997430238e-13, 1.141309269314661e-13, 2.0605739337042905e-13, 1.8829382497642655e-13, 6.994405055138486e-14, 1.2234657731369225e-13, 2.2315482794965646e-13, 1.8207657603852567e-13, 2.4424906541753444e-15, 1.234568003383174e-13, 3.1086244689504383e-15]\n",
      "\n",
      "\n"
     ]
    }
   ],
   "source": [
    "udp_g.pretty(xs[best_idx])"
   ]
  },
  {
   "cell_type": "code",
   "execution_count": 84,
   "metadata": {},
   "outputs": [
    {
     "data": {
      "image/png": "[encoded data removed]",
      "text/plain": [
       "<Figure size 700x700 with 1 Axes>"
      ]
     },
     "metadata": {},
     "output_type": "display_data"
    }
   ],
   "source": [
    "ax = udp_g.plot(xs[best_idx], show_gridpoints=True)\n",
    "ax.view_init(90, 0)"
   ]
  },
  {
   "cell_type": "code",
   "execution_count": 90,
   "metadata": {},
   "outputs": [
    {
     "data": {
      "text/plain": [
       "[[34110913367.783306, -139910016918.87585, -14037825669.025244],\n",
       " [29090.9902134693, 10000.390168313803, 1003.3858682643288]]"
      ]
     },
     "execution_count": 90,
     "metadata": {},
     "output_type": "execute_result"
    }
   ],
   "source": [
    "t0 = xs[best_idx][0]\n",
    "tof = xs[best_idx][-1]\n",
    "p1.eph(t0)\n"
   ]
  },
  {
   "cell_type": "code",
   "execution_count": 91,
   "metadata": {},
   "outputs": [
    {
     "data": {
      "text/plain": [
       "[[-159018773159.22266, -18832495968.945133, 15781467087.350443],\n",
       " [2781.182556622003, -28898.40730995848, -483.4533989771214]]"
      ]
     },
     "execution_count": 91,
     "metadata": {},
     "output_type": "execute_result"
    }
   ],
   "source": [
    "p2.eph(t0+tof)"
   ]
  },
  {
   "cell_type": "markdown",
   "metadata": {},
   "source": [
    "## Graident vs no gradient\n",
    "We here take a look at the difference in solving the problem using the analytical gradient and not using it.\n",
    "To do so we solve the same problem starting from 100 different initial guesses using both versions and compare."
   ]
  },
  {
   "cell_type": "code",
   "execution_count": 78,
   "metadata": {},
   "outputs": [
    {
     "name": "stderr",
     "output_type": "stream",
     "text": [
      "100%|██████████| 100/100 [02:09<00:00,  1.29s/it]"
     ]
    },
    {
     "name": "stdout",
     "output_type": "stream",
     "text": [
      "Gradient: 4.8809e-01s\n",
      "No Gradient: 5.5510e-01s\n",
      "\n",
      "Gradient (n.fails): 7\n",
      "No Gradient (n.fails): 64\n"
     ]
    },
    {
     "name": "stderr",
     "output_type": "stream",
     "text": [
      "\n"
     ]
    }
   ],
   "source": [
    "from tqdm import tqdm\n",
    "\n",
    "cpu_nog = []\n",
    "cpu_g = []\n",
    "\n",
    "fail_g = 0\n",
    "fail_nog = 0\n",
    "\n",
    "prob_g = pg.problem(udp_g)\n",
    "prob_nog = pg.problem(udp_nog)\n",
    "prob_g.c_tol = 1e-6\n",
    "prob_nog.c_tol = 1e-6\n",
    "\n",
    "for i in tqdm(range(100)):\n",
    "    pop_g = pg.population(prob_g, 1)\n",
    "    pop_nog = pg.population(prob_nog)\n",
    "    pop_nog.push_back(pop_g.champion_x)\n",
    "\n",
    "    start = time.time()\n",
    "    pop_g = algo.evolve(pop_g)\n",
    "    end = time.time()\n",
    "    if not prob_g.feasibility_f(pop_g.champion_f):\n",
    "        fail_g += 1\n",
    "    else: # We only record the time for successfull attempts\n",
    "        cpu_g.append(end - start)\n",
    "\n",
    "    start = time.time()\n",
    "    pop_nog = algo.evolve(pop_nog)\n",
    "    end = time.time()\n",
    "    if not prob_nog.feasibility_f(pop_nog.champion_f):\n",
    "        fail_nog += 1\n",
    "    else: # We only record the time for successfull attempts\n",
    "        cpu_nog.append(end - start)\n",
    "\n",
    "print(f\"Gradient: {np.median(cpu_g):.4e}s\")\n",
    "print(f\"No Gradient: {np.median(cpu_nog):.4e}s\")\n",
    "\n",
    "print(f\"\\nGradient (n.fails): {fail_g}\")\n",
    "print(f\"No Gradient (n.fails): {fail_nog}\")"
   ]
  },
  {
   "cell_type": "code",
   "execution_count": 80,
   "metadata": {},
   "outputs": [
    {
     "data": {
      "text/plain": [
       "Text(0, 0.5, 'N. occurrences')"
      ]
     },
     "execution_count": 80,
     "metadata": {},
     "output_type": "execute_result"
    },
    {
     "data": {
      "image/png": "[encoded data removed]",
      "text/plain": [
       "<Figure size 640x480 with 1 Axes>"
      ]
     },
     "metadata": {},
     "output_type": "display_data"
    }
   ],
   "source": [
    "cpu_g = np.array(cpu_g)\n",
    "cpu_nog = np.array(cpu_nog)\n",
    "plt.hist(cpu_g[cpu_g < 2.2], bins=20, label=\"gradient\", density=True, alpha=0.5)\n",
    "plt.hist(cpu_nog[cpu_nog < 1.2], bins=20, label=\"no_gradient\", density=True, alpha=0.5)\n",
    "# plt.xlim([0,0.15])\n",
    "plt.legend()\n",
    "plt.title(\"point2point, 4 seg case\")\n",
    "plt.xlabel(\"CPU time\")\n",
    "plt.ylabel(\"N. occurrences\")"
   ]
  }
 ],
 "metadata": {
  "kernelspec": {
   "display_name": "kep3_devel",
   "language": "python",
   "name": "python3"
  },
  "language_info": {
   "codemirror_mode": {
    "name": "ipython",
    "version": 3
   },
   "file_extension": ".py",
   "mimetype": "text/x-python",
   "name": "python",
   "nbconvert_exporter": "python",
   "pygments_lexer": "ipython3",
   "version": "3.13.1"
  },
  "orig_nbformat": 4
 },
 "nbformat": 4,
 "nbformat_minor": 2
}
